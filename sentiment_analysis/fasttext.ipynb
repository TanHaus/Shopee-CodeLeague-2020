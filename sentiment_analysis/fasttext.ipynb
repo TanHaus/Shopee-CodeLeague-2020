{
 "metadata": {
  "language_info": {
   "codemirror_mode": {
    "name": "ipython",
    "version": 3
   },
   "file_extension": ".py",
   "mimetype": "text/x-python",
   "name": "python",
   "nbconvert_exporter": "python",
   "pygments_lexer": "ipython3",
   "version": 3
  },
  "orig_nbformat": 2,
  "kernelspec": {
   "name": "python_defaultSpec_1596311631662",
   "display_name": "Python 3.7.6 64-bit ('anaconda3': conda)"
  }
 },
 "nbformat": 4,
 "nbformat_minor": 2,
 "cells": [
  {
   "cell_type": "code",
   "execution_count": 1,
   "metadata": {},
   "outputs": [],
   "source": [
    "import pandas as pd\n",
    "from sacremoses import MosesTokenizer"
   ]
  },
  {
   "cell_type": "markdown",
   "metadata": {},
   "source": [
    "Create a Moses tokenizer"
   ]
  },
  {
   "cell_type": "code",
   "execution_count": 2,
   "metadata": {},
   "outputs": [],
   "source": [
    "mtk = MosesTokenizer()"
   ]
  },
  {
   "cell_type": "markdown",
   "metadata": {},
   "source": [
    "## Import cleaned data"
   ]
  },
  {
   "cell_type": "code",
   "execution_count": 3,
   "metadata": {},
   "outputs": [
    {
     "output_type": "execute_result",
     "data": {
      "text/plain": "        review_id                                             review  rating  \\\n0               0  Ga disappointed neat products .. Meletot Hilsn...       1   \n1               1    Rdtanya replace broken glass, broken chargernya       1   \n2               2  Nyesel bngt dsni shopping antecedent photo mes...       1   \n3               3      Sent a light blue suit goods ga want a refund       1   \n4               4  Pendants came with dents and scratches on its ...       1   \n...           ...                                                ...     ...   \n111873     146802  Product is good. But next time don’t put a sti...       5   \n111874     146803                       Thanks you very satisfactory       5   \n111875     146806  Excellent product quality delivery speed is ve...       5   \n111876     146807                                         thanks gan       5   \n111877     146808   Awesome awesome quality merchandise value CP ...       5   \n\n                                             review_clean  count  \n0       ga disappointed neat products . meletot hilsny...     11  \n1         rdtanya replace broken glass. broken chargernya      6  \n2       nyesel bngt dsni shopping antecedent photo mes...     42  \n3               sent light blue suit goods ga want refund      8  \n4       pendants came dents scratches surface. coating...     11  \n...                                                   ...    ...  \n111873  product good. next time put sticker. ruined na...     12  \n111874                                thanks satisfactory      2  \n111875  excellent product quality delivery speed good ...     10  \n111876                                         thanks gan      2  \n111877  awesome awesome quality merchandise value cp n...      8  \n\n[111878 rows x 5 columns]",
      "text/html": "<div>\n<style scoped>\n    .dataframe tbody tr th:only-of-type {\n        vertical-align: middle;\n    }\n\n    .dataframe tbody tr th {\n        vertical-align: top;\n    }\n\n    .dataframe thead th {\n        text-align: right;\n    }\n</style>\n<table border=\"1\" class=\"dataframe\">\n  <thead>\n    <tr style=\"text-align: right;\">\n      <th></th>\n      <th>review_id</th>\n      <th>review</th>\n      <th>rating</th>\n      <th>review_clean</th>\n      <th>count</th>\n    </tr>\n  </thead>\n  <tbody>\n    <tr>\n      <th>0</th>\n      <td>0</td>\n      <td>Ga disappointed neat products .. Meletot Hilsn...</td>\n      <td>1</td>\n      <td>ga disappointed neat products . meletot hilsny...</td>\n      <td>11</td>\n    </tr>\n    <tr>\n      <th>1</th>\n      <td>1</td>\n      <td>Rdtanya replace broken glass, broken chargernya</td>\n      <td>1</td>\n      <td>rdtanya replace broken glass. broken chargernya</td>\n      <td>6</td>\n    </tr>\n    <tr>\n      <th>2</th>\n      <td>2</td>\n      <td>Nyesel bngt dsni shopping antecedent photo mes...</td>\n      <td>1</td>\n      <td>nyesel bngt dsni shopping antecedent photo mes...</td>\n      <td>42</td>\n    </tr>\n    <tr>\n      <th>3</th>\n      <td>3</td>\n      <td>Sent a light blue suit goods ga want a refund</td>\n      <td>1</td>\n      <td>sent light blue suit goods ga want refund</td>\n      <td>8</td>\n    </tr>\n    <tr>\n      <th>4</th>\n      <td>4</td>\n      <td>Pendants came with dents and scratches on its ...</td>\n      <td>1</td>\n      <td>pendants came dents scratches surface. coating...</td>\n      <td>11</td>\n    </tr>\n    <tr>\n      <th>...</th>\n      <td>...</td>\n      <td>...</td>\n      <td>...</td>\n      <td>...</td>\n      <td>...</td>\n    </tr>\n    <tr>\n      <th>111873</th>\n      <td>146802</td>\n      <td>Product is good. But next time don’t put a sti...</td>\n      <td>5</td>\n      <td>product good. next time put sticker. ruined na...</td>\n      <td>12</td>\n    </tr>\n    <tr>\n      <th>111874</th>\n      <td>146803</td>\n      <td>Thanks you very satisfactory</td>\n      <td>5</td>\n      <td>thanks satisfactory</td>\n      <td>2</td>\n    </tr>\n    <tr>\n      <th>111875</th>\n      <td>146806</td>\n      <td>Excellent product quality delivery speed is ve...</td>\n      <td>5</td>\n      <td>excellent product quality delivery speed good ...</td>\n      <td>10</td>\n    </tr>\n    <tr>\n      <th>111876</th>\n      <td>146807</td>\n      <td>thanks gan</td>\n      <td>5</td>\n      <td>thanks gan</td>\n      <td>2</td>\n    </tr>\n    <tr>\n      <th>111877</th>\n      <td>146808</td>\n      <td>Awesome awesome quality merchandise value CP ...</td>\n      <td>5</td>\n      <td>awesome awesome quality merchandise value cp n...</td>\n      <td>8</td>\n    </tr>\n  </tbody>\n</table>\n<p>111878 rows × 5 columns</p>\n</div>"
     },
     "metadata": {},
     "execution_count": 3
    }
   ],
   "source": [
    "train = pd.read_csv('train_clean.csv')\n",
    "val = pd.read_csv('val_clean.csv')\n",
    "\n",
    "train"
   ]
  },
  {
   "cell_type": "markdown",
   "metadata": {},
   "source": [
    "Apply to Moses tokenizer and combine them back"
   ]
  },
  {
   "cell_type": "code",
   "execution_count": 4,
   "metadata": {},
   "outputs": [
    {
     "output_type": "execute_result",
     "data": {
      "text/plain": "        review_id                                             review  rating  \\\n0               0  Ga disappointed neat products .. Meletot Hilsn...       1   \n1               1    Rdtanya replace broken glass, broken chargernya       1   \n2               2  Nyesel bngt dsni shopping antecedent photo mes...       1   \n3               3      Sent a light blue suit goods ga want a refund       1   \n4               4  Pendants came with dents and scratches on its ...       1   \n...           ...                                                ...     ...   \n111873     146802  Product is good. But next time don’t put a sti...       5   \n111874     146803                       Thanks you very satisfactory       5   \n111875     146806  Excellent product quality delivery speed is ve...       5   \n111876     146807                                         thanks gan       5   \n111877     146808   Awesome awesome quality merchandise value CP ...       5   \n\n                                             review_clean  count  \n0       [ga, disappointed, neat, products, ., meletot,...     11  \n1       [rdtanya, replace, broken, glass., broken, cha...      6  \n2       [nyesel, bngt, dsni, shopping, antecedent, pho...     42  \n3       [sent, light, blue, suit, goods, ga, want, ref...      8  \n4       [pendants, came, dents, scratches, surface., c...     11  \n...                                                   ...    ...  \n111873  [product, good., next, time, put, sticker., ru...     12  \n111874                             [thanks, satisfactory]      2  \n111875  [excellent, product, quality, delivery, speed,...     10  \n111876                                      [thanks, gan]      2  \n111877  [awesome, awesome, quality, merchandise, value...      8  \n\n[111878 rows x 5 columns]",
      "text/html": "<div>\n<style scoped>\n    .dataframe tbody tr th:only-of-type {\n        vertical-align: middle;\n    }\n\n    .dataframe tbody tr th {\n        vertical-align: top;\n    }\n\n    .dataframe thead th {\n        text-align: right;\n    }\n</style>\n<table border=\"1\" class=\"dataframe\">\n  <thead>\n    <tr style=\"text-align: right;\">\n      <th></th>\n      <th>review_id</th>\n      <th>review</th>\n      <th>rating</th>\n      <th>review_clean</th>\n      <th>count</th>\n    </tr>\n  </thead>\n  <tbody>\n    <tr>\n      <th>0</th>\n      <td>0</td>\n      <td>Ga disappointed neat products .. Meletot Hilsn...</td>\n      <td>1</td>\n      <td>[ga, disappointed, neat, products, ., meletot,...</td>\n      <td>11</td>\n    </tr>\n    <tr>\n      <th>1</th>\n      <td>1</td>\n      <td>Rdtanya replace broken glass, broken chargernya</td>\n      <td>1</td>\n      <td>[rdtanya, replace, broken, glass., broken, cha...</td>\n      <td>6</td>\n    </tr>\n    <tr>\n      <th>2</th>\n      <td>2</td>\n      <td>Nyesel bngt dsni shopping antecedent photo mes...</td>\n      <td>1</td>\n      <td>[nyesel, bngt, dsni, shopping, antecedent, pho...</td>\n      <td>42</td>\n    </tr>\n    <tr>\n      <th>3</th>\n      <td>3</td>\n      <td>Sent a light blue suit goods ga want a refund</td>\n      <td>1</td>\n      <td>[sent, light, blue, suit, goods, ga, want, ref...</td>\n      <td>8</td>\n    </tr>\n    <tr>\n      <th>4</th>\n      <td>4</td>\n      <td>Pendants came with dents and scratches on its ...</td>\n      <td>1</td>\n      <td>[pendants, came, dents, scratches, surface., c...</td>\n      <td>11</td>\n    </tr>\n    <tr>\n      <th>...</th>\n      <td>...</td>\n      <td>...</td>\n      <td>...</td>\n      <td>...</td>\n      <td>...</td>\n    </tr>\n    <tr>\n      <th>111873</th>\n      <td>146802</td>\n      <td>Product is good. But next time don’t put a sti...</td>\n      <td>5</td>\n      <td>[product, good., next, time, put, sticker., ru...</td>\n      <td>12</td>\n    </tr>\n    <tr>\n      <th>111874</th>\n      <td>146803</td>\n      <td>Thanks you very satisfactory</td>\n      <td>5</td>\n      <td>[thanks, satisfactory]</td>\n      <td>2</td>\n    </tr>\n    <tr>\n      <th>111875</th>\n      <td>146806</td>\n      <td>Excellent product quality delivery speed is ve...</td>\n      <td>5</td>\n      <td>[excellent, product, quality, delivery, speed,...</td>\n      <td>10</td>\n    </tr>\n    <tr>\n      <th>111876</th>\n      <td>146807</td>\n      <td>thanks gan</td>\n      <td>5</td>\n      <td>[thanks, gan]</td>\n      <td>2</td>\n    </tr>\n    <tr>\n      <th>111877</th>\n      <td>146808</td>\n      <td>Awesome awesome quality merchandise value CP ...</td>\n      <td>5</td>\n      <td>[awesome, awesome, quality, merchandise, value...</td>\n      <td>8</td>\n    </tr>\n  </tbody>\n</table>\n<p>111878 rows × 5 columns</p>\n</div>"
     },
     "metadata": {},
     "execution_count": 4
    }
   ],
   "source": [
    "train['review_clean'] = train['review_clean'].apply(mtk.tokenize)\n",
    "train"
   ]
  },
  {
   "cell_type": "code",
   "execution_count": 5,
   "metadata": {},
   "outputs": [
    {
     "output_type": "execute_result",
     "data": {
      "text/plain": "        review_id                                             review  rating  \\\n0               0  Ga disappointed neat products .. Meletot Hilsn...       1   \n1               1    Rdtanya replace broken glass, broken chargernya       1   \n2               2  Nyesel bngt dsni shopping antecedent photo mes...       1   \n3               3      Sent a light blue suit goods ga want a refund       1   \n4               4  Pendants came with dents and scratches on its ...       1   \n...           ...                                                ...     ...   \n111873     146802  Product is good. But next time don’t put a sti...       5   \n111874     146803                       Thanks you very satisfactory       5   \n111875     146806  Excellent product quality delivery speed is ve...       5   \n111876     146807                                         thanks gan       5   \n111877     146808   Awesome awesome quality merchandise value CP ...       5   \n\n                                             review_clean  count  \n0       ga disappointed neat products . meletot hilsny...     11  \n1         rdtanya replace broken glass. broken chargernya      6  \n2       nyesel bngt dsni shopping antecedent photo mes...     42  \n3               sent light blue suit goods ga want refund      8  \n4       pendants came dents scratches surface. coating...     11  \n...                                                   ...    ...  \n111873  product good. next time put sticker. ruined na...     12  \n111874                                thanks satisfactory      2  \n111875  excellent product quality delivery speed good ...     10  \n111876                                         thanks gan      2  \n111877  awesome awesome quality merchandise value cp n...      8  \n\n[111878 rows x 5 columns]",
      "text/html": "<div>\n<style scoped>\n    .dataframe tbody tr th:only-of-type {\n        vertical-align: middle;\n    }\n\n    .dataframe tbody tr th {\n        vertical-align: top;\n    }\n\n    .dataframe thead th {\n        text-align: right;\n    }\n</style>\n<table border=\"1\" class=\"dataframe\">\n  <thead>\n    <tr style=\"text-align: right;\">\n      <th></th>\n      <th>review_id</th>\n      <th>review</th>\n      <th>rating</th>\n      <th>review_clean</th>\n      <th>count</th>\n    </tr>\n  </thead>\n  <tbody>\n    <tr>\n      <th>0</th>\n      <td>0</td>\n      <td>Ga disappointed neat products .. Meletot Hilsn...</td>\n      <td>1</td>\n      <td>ga disappointed neat products . meletot hilsny...</td>\n      <td>11</td>\n    </tr>\n    <tr>\n      <th>1</th>\n      <td>1</td>\n      <td>Rdtanya replace broken glass, broken chargernya</td>\n      <td>1</td>\n      <td>rdtanya replace broken glass. broken chargernya</td>\n      <td>6</td>\n    </tr>\n    <tr>\n      <th>2</th>\n      <td>2</td>\n      <td>Nyesel bngt dsni shopping antecedent photo mes...</td>\n      <td>1</td>\n      <td>nyesel bngt dsni shopping antecedent photo mes...</td>\n      <td>42</td>\n    </tr>\n    <tr>\n      <th>3</th>\n      <td>3</td>\n      <td>Sent a light blue suit goods ga want a refund</td>\n      <td>1</td>\n      <td>sent light blue suit goods ga want refund</td>\n      <td>8</td>\n    </tr>\n    <tr>\n      <th>4</th>\n      <td>4</td>\n      <td>Pendants came with dents and scratches on its ...</td>\n      <td>1</td>\n      <td>pendants came dents scratches surface. coating...</td>\n      <td>11</td>\n    </tr>\n    <tr>\n      <th>...</th>\n      <td>...</td>\n      <td>...</td>\n      <td>...</td>\n      <td>...</td>\n      <td>...</td>\n    </tr>\n    <tr>\n      <th>111873</th>\n      <td>146802</td>\n      <td>Product is good. But next time don’t put a sti...</td>\n      <td>5</td>\n      <td>product good. next time put sticker. ruined na...</td>\n      <td>12</td>\n    </tr>\n    <tr>\n      <th>111874</th>\n      <td>146803</td>\n      <td>Thanks you very satisfactory</td>\n      <td>5</td>\n      <td>thanks satisfactory</td>\n      <td>2</td>\n    </tr>\n    <tr>\n      <th>111875</th>\n      <td>146806</td>\n      <td>Excellent product quality delivery speed is ve...</td>\n      <td>5</td>\n      <td>excellent product quality delivery speed good ...</td>\n      <td>10</td>\n    </tr>\n    <tr>\n      <th>111876</th>\n      <td>146807</td>\n      <td>thanks gan</td>\n      <td>5</td>\n      <td>thanks gan</td>\n      <td>2</td>\n    </tr>\n    <tr>\n      <th>111877</th>\n      <td>146808</td>\n      <td>Awesome awesome quality merchandise value CP ...</td>\n      <td>5</td>\n      <td>awesome awesome quality merchandise value cp n...</td>\n      <td>8</td>\n    </tr>\n  </tbody>\n</table>\n<p>111878 rows × 5 columns</p>\n</div>"
     },
     "metadata": {},
     "execution_count": 5
    }
   ],
   "source": [
    "train['review_clean'] = train['review_clean'].str.join(' ')\n",
    "train"
   ]
  },
  {
   "cell_type": "markdown",
   "metadata": {},
   "source": [
    "Do the same thing for validation set"
   ]
  },
  {
   "cell_type": "code",
   "execution_count": 6,
   "metadata": {},
   "outputs": [
    {
     "output_type": "execute_result",
     "data": {
      "text/plain": "      review_id                                             review  rating  \\\n0          8164                        quality ugly. thin material       1   \n1          4416                   poor product aand poor quality .       1   \n2         11894  control lights miring2. somewhat disappointed....       1   \n3          9314                                         buy usable       1   \n4          7670             wrong item delivered frowning _ face ️       1   \n...         ...                                                ...     ...   \n4995     120696  product quality excellent product quality exce...       5   \n4996     110609          nice pants alus material appropriate size       5   \n4997     143247  products already received appropriate orders. ...       5   \n4998     115772                    suitable children sgttt pompuan       5   \n4999     117886            sangatt recomendedd OK _ hand OK _ hand       5   \n\n                                           review_clean  count  \n0                           quality ugly. thin material      4  \n1                       poor product aand poor quality.      5  \n2     control lights miring2. somewhat disappointed....     12  \n3                                            buy usable      2  \n4                  wrong item delivered frowning_face ️      5  \n...                                                 ...    ...  \n4995  product quality excellent product quality exce...      9  \n4996          nice pants alus material appropriate size      6  \n4997  products already received appropriate orders. ...      8  \n4998                    suitable children sgttt pompuan      4  \n4999               sangatt recomendedd OK_hand OK_hand       4  \n\n[5000 rows x 5 columns]",
      "text/html": "<div>\n<style scoped>\n    .dataframe tbody tr th:only-of-type {\n        vertical-align: middle;\n    }\n\n    .dataframe tbody tr th {\n        vertical-align: top;\n    }\n\n    .dataframe thead th {\n        text-align: right;\n    }\n</style>\n<table border=\"1\" class=\"dataframe\">\n  <thead>\n    <tr style=\"text-align: right;\">\n      <th></th>\n      <th>review_id</th>\n      <th>review</th>\n      <th>rating</th>\n      <th>review_clean</th>\n      <th>count</th>\n    </tr>\n  </thead>\n  <tbody>\n    <tr>\n      <th>0</th>\n      <td>8164</td>\n      <td>quality ugly. thin material</td>\n      <td>1</td>\n      <td>quality ugly. thin material</td>\n      <td>4</td>\n    </tr>\n    <tr>\n      <th>1</th>\n      <td>4416</td>\n      <td>poor product aand poor quality .</td>\n      <td>1</td>\n      <td>poor product aand poor quality.</td>\n      <td>5</td>\n    </tr>\n    <tr>\n      <th>2</th>\n      <td>11894</td>\n      <td>control lights miring2. somewhat disappointed....</td>\n      <td>1</td>\n      <td>control lights miring2. somewhat disappointed....</td>\n      <td>12</td>\n    </tr>\n    <tr>\n      <th>3</th>\n      <td>9314</td>\n      <td>buy usable</td>\n      <td>1</td>\n      <td>buy usable</td>\n      <td>2</td>\n    </tr>\n    <tr>\n      <th>4</th>\n      <td>7670</td>\n      <td>wrong item delivered frowning _ face ️</td>\n      <td>1</td>\n      <td>wrong item delivered frowning_face ️</td>\n      <td>5</td>\n    </tr>\n    <tr>\n      <th>...</th>\n      <td>...</td>\n      <td>...</td>\n      <td>...</td>\n      <td>...</td>\n      <td>...</td>\n    </tr>\n    <tr>\n      <th>4995</th>\n      <td>120696</td>\n      <td>product quality excellent product quality exce...</td>\n      <td>5</td>\n      <td>product quality excellent product quality exce...</td>\n      <td>9</td>\n    </tr>\n    <tr>\n      <th>4996</th>\n      <td>110609</td>\n      <td>nice pants alus material appropriate size</td>\n      <td>5</td>\n      <td>nice pants alus material appropriate size</td>\n      <td>6</td>\n    </tr>\n    <tr>\n      <th>4997</th>\n      <td>143247</td>\n      <td>products already received appropriate orders. ...</td>\n      <td>5</td>\n      <td>products already received appropriate orders. ...</td>\n      <td>8</td>\n    </tr>\n    <tr>\n      <th>4998</th>\n      <td>115772</td>\n      <td>suitable children sgttt pompuan</td>\n      <td>5</td>\n      <td>suitable children sgttt pompuan</td>\n      <td>4</td>\n    </tr>\n    <tr>\n      <th>4999</th>\n      <td>117886</td>\n      <td>sangatt recomendedd OK _ hand OK _ hand</td>\n      <td>5</td>\n      <td>sangatt recomendedd OK_hand OK_hand</td>\n      <td>4</td>\n    </tr>\n  </tbody>\n</table>\n<p>5000 rows × 5 columns</p>\n</div>"
     },
     "metadata": {},
     "execution_count": 6
    }
   ],
   "source": [
    "val['review'] = val['review_clean'].apply(mtk.tokenize).str.join(' ')\n",
    "val"
   ]
  },
  {
   "cell_type": "markdown",
   "metadata": {},
   "source": [
    "Check train class distribution"
   ]
  },
  {
   "cell_type": "code",
   "execution_count": 7,
   "metadata": {},
   "outputs": [
    {
     "output_type": "execute_result",
     "data": {
      "text/plain": "        review_id  review  review_clean  count\nrating                                        \n1           12803   12803         12803  12803\n2           10260   10260         10260  10260\n3           27478   27478         27478  27478\n4           30931   30931         30931  30931\n5           30406   30406         30406  30406",
      "text/html": "<div>\n<style scoped>\n    .dataframe tbody tr th:only-of-type {\n        vertical-align: middle;\n    }\n\n    .dataframe tbody tr th {\n        vertical-align: top;\n    }\n\n    .dataframe thead th {\n        text-align: right;\n    }\n</style>\n<table border=\"1\" class=\"dataframe\">\n  <thead>\n    <tr style=\"text-align: right;\">\n      <th></th>\n      <th>review_id</th>\n      <th>review</th>\n      <th>review_clean</th>\n      <th>count</th>\n    </tr>\n    <tr>\n      <th>rating</th>\n      <th></th>\n      <th></th>\n      <th></th>\n      <th></th>\n    </tr>\n  </thead>\n  <tbody>\n    <tr>\n      <th>1</th>\n      <td>12803</td>\n      <td>12803</td>\n      <td>12803</td>\n      <td>12803</td>\n    </tr>\n    <tr>\n      <th>2</th>\n      <td>10260</td>\n      <td>10260</td>\n      <td>10260</td>\n      <td>10260</td>\n    </tr>\n    <tr>\n      <th>3</th>\n      <td>27478</td>\n      <td>27478</td>\n      <td>27478</td>\n      <td>27478</td>\n    </tr>\n    <tr>\n      <th>4</th>\n      <td>30931</td>\n      <td>30931</td>\n      <td>30931</td>\n      <td>30931</td>\n    </tr>\n    <tr>\n      <th>5</th>\n      <td>30406</td>\n      <td>30406</td>\n      <td>30406</td>\n      <td>30406</td>\n    </tr>\n  </tbody>\n</table>\n</div>"
     },
     "metadata": {},
     "execution_count": 7
    }
   ],
   "source": [
    "train.groupby('rating').count()"
   ]
  },
  {
   "cell_type": "markdown",
   "metadata": {},
   "source": [
    "## Prepare FastText input format\n",
    "\n",
    "```\n",
    "\"But I have put a call saying I'm not hearing it.\" __label__1\n",
    "\"Excellent product quality, use makeup remover cotton soft, clean skin\" __label__5\n",
    "```"
   ]
  },
  {
   "cell_type": "code",
   "execution_count": 8,
   "metadata": {},
   "outputs": [],
   "source": [
    "def prepare_fasttext(input, label): return '__label__' + label + ' ' + input\n",
    "\n",
    "train_fasttext = prepare_fasttext(train['review_clean'], train['rating'].astype('str'))\n",
    "val_fasttext = prepare_fasttext(val['review_clean'], val['rating'].astype('str'))"
   ]
  },
  {
   "cell_type": "code",
   "execution_count": 9,
   "metadata": {},
   "outputs": [
    {
     "output_type": "execute_result",
     "data": {
      "text/plain": "49180    __label__3 rumayannnnnnnnnnnnn goods quick pen...\n85428    __label__5 speed ​ ​ of delivery good. good se...\n93558    __label__5 thank much. already package safely . ♡\n29422    __label__3 hemisphere seem jd hrs wear straple...\n3768      __label__1 gasesuai photographed. heat materials\n                               ...                        \n51487    __label__4 huhuhuhuhu mayan prophecies seginda...\n26586    __label__3 banget. lumayan beautiful color dur...\n14089    __label__2 send reply. bought another serum ga...\n24773    __label__3 sorry love 4. nice. fingernails big...\n14730    __label__2 issue mask quantity previously solv...\nLength: 111878, dtype: object"
     },
     "metadata": {},
     "execution_count": 9
    }
   ],
   "source": [
    "train_fasttext = train_fasttext.sample(len(train_fasttext))\n",
    "train_fasttext"
   ]
  },
  {
   "cell_type": "markdown",
   "metadata": {},
   "source": [
    "Save to file for use with FastText in IPython shell"
   ]
  },
  {
   "cell_type": "code",
   "execution_count": 10,
   "metadata": {},
   "outputs": [],
   "source": [
    "train_fasttext.to_csv('train_fasttext.csv', index=False, header=False)\n",
    "val_fasttext.to_csv('val_fasttext.csv', index=False, header=False)"
   ]
  },
  {
   "cell_type": "markdown",
   "metadata": {},
   "source": [
    "## Load saved FastText model for interference"
   ]
  },
  {
   "cell_type": "code",
   "execution_count": 11,
   "metadata": {},
   "outputs": [],
   "source": [
    "import fasttext"
   ]
  },
  {
   "cell_type": "code",
   "execution_count": 12,
   "metadata": {
    "tags": []
   },
   "outputs": [
    {
     "output_type": "stream",
     "name": "stderr",
     "text": "Warning : `load_model` does not return WordVectorModel or SupervisedModel any more, but a `FastText` object which is very similar.\n"
    }
   ],
   "source": [
    "model = fasttext.load_model('fasttext.bin')"
   ]
  },
  {
   "cell_type": "code",
   "execution_count": 13,
   "metadata": {},
   "outputs": [
    {
     "output_type": "execute_result",
     "data": {
      "text/plain": "(4993, 0.4302022831964751, 0.4302022831964751)"
     },
     "metadata": {},
     "execution_count": 13
    }
   ],
   "source": [
    "model.test('val_fasttext.csv')"
   ]
  },
  {
   "cell_type": "markdown",
   "metadata": {},
   "source": [
    "Perform interference on test set"
   ]
  },
  {
   "cell_type": "code",
   "execution_count": 14,
   "metadata": {},
   "outputs": [
    {
     "output_type": "execute_result",
     "data": {
      "text/plain": "       review_id                                             review  \\\n0              1  Great danger, cool, motif and cantik2 jg model...   \n1              2                   One of the shades don't fit well   \n2              3                                   Very comfortable   \n3              4  Fast delivery. Product expiry is on Dec 2022. ...   \n4              5  it's sooooo cute! i like playing with the glit...   \n...          ...                                                ...   \n60422      60423  Product has been succesfully ordered and shipp...   \n60423      60424  Opening time a little scared. Fear dalemnya de...   \n60424      60425   The product quality is excellent. The origina...   \n60425      60426             They 're holding up REALLY well also .   \n60426      60427  Rapid response and detail ...\\nThanks gan, the...   \n\n                                            review_clean  \n0      great danger. cool. motif cantik2 jg models. d...  \n1                                    one shades fit well  \n2                                            comfortable  \n3      fast delivery. product expiry dec 2022. produc...  \n4      sooooo cute. like playing glitters better brow...  \n...                                                  ...  \n60422  product succesfully ordered shipped quickly. g...  \n60423  opening time little scared. fear dalemnya dest...  \n60424  product quality excellent. original product. p...  \n60425                &apos;re holding really well also .  \n60426  rapid response detail . thanks gan. goods rece...  \n\n[60427 rows x 3 columns]",
      "text/html": "<div>\n<style scoped>\n    .dataframe tbody tr th:only-of-type {\n        vertical-align: middle;\n    }\n\n    .dataframe tbody tr th {\n        vertical-align: top;\n    }\n\n    .dataframe thead th {\n        text-align: right;\n    }\n</style>\n<table border=\"1\" class=\"dataframe\">\n  <thead>\n    <tr style=\"text-align: right;\">\n      <th></th>\n      <th>review_id</th>\n      <th>review</th>\n      <th>review_clean</th>\n    </tr>\n  </thead>\n  <tbody>\n    <tr>\n      <th>0</th>\n      <td>1</td>\n      <td>Great danger, cool, motif and cantik2 jg model...</td>\n      <td>great danger. cool. motif cantik2 jg models. d...</td>\n    </tr>\n    <tr>\n      <th>1</th>\n      <td>2</td>\n      <td>One of the shades don't fit well</td>\n      <td>one shades fit well</td>\n    </tr>\n    <tr>\n      <th>2</th>\n      <td>3</td>\n      <td>Very comfortable</td>\n      <td>comfortable</td>\n    </tr>\n    <tr>\n      <th>3</th>\n      <td>4</td>\n      <td>Fast delivery. Product expiry is on Dec 2022. ...</td>\n      <td>fast delivery. product expiry dec 2022. produc...</td>\n    </tr>\n    <tr>\n      <th>4</th>\n      <td>5</td>\n      <td>it's sooooo cute! i like playing with the glit...</td>\n      <td>sooooo cute. like playing glitters better brow...</td>\n    </tr>\n    <tr>\n      <th>...</th>\n      <td>...</td>\n      <td>...</td>\n      <td>...</td>\n    </tr>\n    <tr>\n      <th>60422</th>\n      <td>60423</td>\n      <td>Product has been succesfully ordered and shipp...</td>\n      <td>product succesfully ordered shipped quickly. g...</td>\n    </tr>\n    <tr>\n      <th>60423</th>\n      <td>60424</td>\n      <td>Opening time a little scared. Fear dalemnya de...</td>\n      <td>opening time little scared. fear dalemnya dest...</td>\n    </tr>\n    <tr>\n      <th>60424</th>\n      <td>60425</td>\n      <td>The product quality is excellent. The origina...</td>\n      <td>product quality excellent. original product. p...</td>\n    </tr>\n    <tr>\n      <th>60425</th>\n      <td>60426</td>\n      <td>They 're holding up REALLY well also .</td>\n      <td>&amp;apos;re holding really well also .</td>\n    </tr>\n    <tr>\n      <th>60426</th>\n      <td>60427</td>\n      <td>Rapid response and detail ...\\nThanks gan, the...</td>\n      <td>rapid response detail . thanks gan. goods rece...</td>\n    </tr>\n  </tbody>\n</table>\n<p>60427 rows × 3 columns</p>\n</div>"
     },
     "metadata": {},
     "execution_count": 14
    }
   ],
   "source": [
    "test = pd.read_csv('test_clean.csv')\n",
    "test['review_clean'] = test['review_clean'].apply(mtk.tokenize).str.join(' ')\n",
    "test"
   ]
  },
  {
   "cell_type": "code",
   "execution_count": 15,
   "metadata": {},
   "outputs": [
    {
     "output_type": "execute_result",
     "data": {
      "text/plain": "       review_id                                             review  \\\n0              1  Great danger, cool, motif and cantik2 jg model...   \n1              2                   One of the shades don't fit well   \n2              3                                   Very comfortable   \n3              4  Fast delivery. Product expiry is on Dec 2022. ...   \n4              5  it's sooooo cute! i like playing with the glit...   \n...          ...                                                ...   \n60422      60423  Product has been succesfully ordered and shipp...   \n60423      60424  Opening time a little scared. Fear dalemnya de...   \n60424      60425   The product quality is excellent. The origina...   \n60425      60426             They 're holding up REALLY well also .   \n60426      60427  Rapid response and detail ...\\nThanks gan, the...   \n\n                                            review_clean  \\\n0      great danger. cool. motif cantik2 jg models. d...   \n1                                    one shades fit well   \n2                                            comfortable   \n3      fast delivery. product expiry dec 2022. produc...   \n4      sooooo cute. like playing glitters better brow...   \n...                                                  ...   \n60422  product succesfully ordered shipped quickly. g...   \n60423  opening time little scared. fear dalemnya dest...   \n60424  product quality excellent. original product. p...   \n60425                &apos;re holding really well also .   \n60426  rapid response detail . thanks gan. goods rece...   \n\n                                     fasttext  \n0       ((__label__3,), [0.5670856237411499])  \n1      ((__label__5,), [0.46503695845603943])  \n2       ((__label__5,), [0.3944011628627777])  \n3      ((__label__4,), [0.36109068989753723])  \n4      ((__label__4,), [0.40116262435913086])  \n...                                       ...  \n60422  ((__label__5,), [0.36166679859161377])  \n60423   ((__label__3,), [0.5584401488304138])  \n60424   ((__label__4,), [0.5016987323760986])  \n60425  ((__label__5,), [0.43777817487716675])  \n60426   ((__label__4,), [0.4618622958660126])  \n\n[60427 rows x 4 columns]",
      "text/html": "<div>\n<style scoped>\n    .dataframe tbody tr th:only-of-type {\n        vertical-align: middle;\n    }\n\n    .dataframe tbody tr th {\n        vertical-align: top;\n    }\n\n    .dataframe thead th {\n        text-align: right;\n    }\n</style>\n<table border=\"1\" class=\"dataframe\">\n  <thead>\n    <tr style=\"text-align: right;\">\n      <th></th>\n      <th>review_id</th>\n      <th>review</th>\n      <th>review_clean</th>\n      <th>fasttext</th>\n    </tr>\n  </thead>\n  <tbody>\n    <tr>\n      <th>0</th>\n      <td>1</td>\n      <td>Great danger, cool, motif and cantik2 jg model...</td>\n      <td>great danger. cool. motif cantik2 jg models. d...</td>\n      <td>((__label__3,), [0.5670856237411499])</td>\n    </tr>\n    <tr>\n      <th>1</th>\n      <td>2</td>\n      <td>One of the shades don't fit well</td>\n      <td>one shades fit well</td>\n      <td>((__label__5,), [0.46503695845603943])</td>\n    </tr>\n    <tr>\n      <th>2</th>\n      <td>3</td>\n      <td>Very comfortable</td>\n      <td>comfortable</td>\n      <td>((__label__5,), [0.3944011628627777])</td>\n    </tr>\n    <tr>\n      <th>3</th>\n      <td>4</td>\n      <td>Fast delivery. Product expiry is on Dec 2022. ...</td>\n      <td>fast delivery. product expiry dec 2022. produc...</td>\n      <td>((__label__4,), [0.36109068989753723])</td>\n    </tr>\n    <tr>\n      <th>4</th>\n      <td>5</td>\n      <td>it's sooooo cute! i like playing with the glit...</td>\n      <td>sooooo cute. like playing glitters better brow...</td>\n      <td>((__label__4,), [0.40116262435913086])</td>\n    </tr>\n    <tr>\n      <th>...</th>\n      <td>...</td>\n      <td>...</td>\n      <td>...</td>\n      <td>...</td>\n    </tr>\n    <tr>\n      <th>60422</th>\n      <td>60423</td>\n      <td>Product has been succesfully ordered and shipp...</td>\n      <td>product succesfully ordered shipped quickly. g...</td>\n      <td>((__label__5,), [0.36166679859161377])</td>\n    </tr>\n    <tr>\n      <th>60423</th>\n      <td>60424</td>\n      <td>Opening time a little scared. Fear dalemnya de...</td>\n      <td>opening time little scared. fear dalemnya dest...</td>\n      <td>((__label__3,), [0.5584401488304138])</td>\n    </tr>\n    <tr>\n      <th>60424</th>\n      <td>60425</td>\n      <td>The product quality is excellent. The origina...</td>\n      <td>product quality excellent. original product. p...</td>\n      <td>((__label__4,), [0.5016987323760986])</td>\n    </tr>\n    <tr>\n      <th>60425</th>\n      <td>60426</td>\n      <td>They 're holding up REALLY well also .</td>\n      <td>&amp;apos;re holding really well also .</td>\n      <td>((__label__5,), [0.43777817487716675])</td>\n    </tr>\n    <tr>\n      <th>60426</th>\n      <td>60427</td>\n      <td>Rapid response and detail ...\\nThanks gan, the...</td>\n      <td>rapid response detail . thanks gan. goods rece...</td>\n      <td>((__label__4,), [0.4618622958660126])</td>\n    </tr>\n  </tbody>\n</table>\n<p>60427 rows × 4 columns</p>\n</div>"
     },
     "metadata": {},
     "execution_count": 15
    }
   ],
   "source": [
    "test['fasttext'] = test['review_clean'].apply(model.predict)\n",
    "test"
   ]
  },
  {
   "cell_type": "code",
   "execution_count": 16,
   "metadata": {},
   "outputs": [
    {
     "output_type": "execute_result",
     "data": {
      "text/plain": "       review_id                                             review  \\\n0              1  Great danger, cool, motif and cantik2 jg model...   \n1              2                   One of the shades don't fit well   \n2              3                                   Very comfortable   \n3              4  Fast delivery. Product expiry is on Dec 2022. ...   \n4              5  it's sooooo cute! i like playing with the glit...   \n...          ...                                                ...   \n60422      60423  Product has been succesfully ordered and shipp...   \n60423      60424  Opening time a little scared. Fear dalemnya de...   \n60424      60425   The product quality is excellent. The origina...   \n60425      60426             They 're holding up REALLY well also .   \n60426      60427  Rapid response and detail ...\\nThanks gan, the...   \n\n                                            review_clean  \\\n0      great danger. cool. motif cantik2 jg models. d...   \n1                                    one shades fit well   \n2                                            comfortable   \n3      fast delivery. product expiry dec 2022. produc...   \n4      sooooo cute. like playing glitters better brow...   \n...                                                  ...   \n60422  product succesfully ordered shipped quickly. g...   \n60423  opening time little scared. fear dalemnya dest...   \n60424  product quality excellent. original product. p...   \n60425                &apos;re holding really well also .   \n60426  rapid response detail . thanks gan. goods rece...   \n\n                                     fasttext rating  \n0       ((__label__3,), [0.5670856237411499])      3  \n1      ((__label__5,), [0.46503695845603943])      5  \n2       ((__label__5,), [0.3944011628627777])      5  \n3      ((__label__4,), [0.36109068989753723])      4  \n4      ((__label__4,), [0.40116262435913086])      4  \n...                                       ...    ...  \n60422  ((__label__5,), [0.36166679859161377])      5  \n60423   ((__label__3,), [0.5584401488304138])      3  \n60424   ((__label__4,), [0.5016987323760986])      4  \n60425  ((__label__5,), [0.43777817487716675])      5  \n60426   ((__label__4,), [0.4618622958660126])      4  \n\n[60427 rows x 5 columns]",
      "text/html": "<div>\n<style scoped>\n    .dataframe tbody tr th:only-of-type {\n        vertical-align: middle;\n    }\n\n    .dataframe tbody tr th {\n        vertical-align: top;\n    }\n\n    .dataframe thead th {\n        text-align: right;\n    }\n</style>\n<table border=\"1\" class=\"dataframe\">\n  <thead>\n    <tr style=\"text-align: right;\">\n      <th></th>\n      <th>review_id</th>\n      <th>review</th>\n      <th>review_clean</th>\n      <th>fasttext</th>\n      <th>rating</th>\n    </tr>\n  </thead>\n  <tbody>\n    <tr>\n      <th>0</th>\n      <td>1</td>\n      <td>Great danger, cool, motif and cantik2 jg model...</td>\n      <td>great danger. cool. motif cantik2 jg models. d...</td>\n      <td>((__label__3,), [0.5670856237411499])</td>\n      <td>3</td>\n    </tr>\n    <tr>\n      <th>1</th>\n      <td>2</td>\n      <td>One of the shades don't fit well</td>\n      <td>one shades fit well</td>\n      <td>((__label__5,), [0.46503695845603943])</td>\n      <td>5</td>\n    </tr>\n    <tr>\n      <th>2</th>\n      <td>3</td>\n      <td>Very comfortable</td>\n      <td>comfortable</td>\n      <td>((__label__5,), [0.3944011628627777])</td>\n      <td>5</td>\n    </tr>\n    <tr>\n      <th>3</th>\n      <td>4</td>\n      <td>Fast delivery. Product expiry is on Dec 2022. ...</td>\n      <td>fast delivery. product expiry dec 2022. produc...</td>\n      <td>((__label__4,), [0.36109068989753723])</td>\n      <td>4</td>\n    </tr>\n    <tr>\n      <th>4</th>\n      <td>5</td>\n      <td>it's sooooo cute! i like playing with the glit...</td>\n      <td>sooooo cute. like playing glitters better brow...</td>\n      <td>((__label__4,), [0.40116262435913086])</td>\n      <td>4</td>\n    </tr>\n    <tr>\n      <th>...</th>\n      <td>...</td>\n      <td>...</td>\n      <td>...</td>\n      <td>...</td>\n      <td>...</td>\n    </tr>\n    <tr>\n      <th>60422</th>\n      <td>60423</td>\n      <td>Product has been succesfully ordered and shipp...</td>\n      <td>product succesfully ordered shipped quickly. g...</td>\n      <td>((__label__5,), [0.36166679859161377])</td>\n      <td>5</td>\n    </tr>\n    <tr>\n      <th>60423</th>\n      <td>60424</td>\n      <td>Opening time a little scared. Fear dalemnya de...</td>\n      <td>opening time little scared. fear dalemnya dest...</td>\n      <td>((__label__3,), [0.5584401488304138])</td>\n      <td>3</td>\n    </tr>\n    <tr>\n      <th>60424</th>\n      <td>60425</td>\n      <td>The product quality is excellent. The origina...</td>\n      <td>product quality excellent. original product. p...</td>\n      <td>((__label__4,), [0.5016987323760986])</td>\n      <td>4</td>\n    </tr>\n    <tr>\n      <th>60425</th>\n      <td>60426</td>\n      <td>They 're holding up REALLY well also .</td>\n      <td>&amp;apos;re holding really well also .</td>\n      <td>((__label__5,), [0.43777817487716675])</td>\n      <td>5</td>\n    </tr>\n    <tr>\n      <th>60426</th>\n      <td>60427</td>\n      <td>Rapid response and detail ...\\nThanks gan, the...</td>\n      <td>rapid response detail . thanks gan. goods rece...</td>\n      <td>((__label__4,), [0.4618622958660126])</td>\n      <td>4</td>\n    </tr>\n  </tbody>\n</table>\n<p>60427 rows × 5 columns</p>\n</div>"
     },
     "metadata": {},
     "execution_count": 16
    }
   ],
   "source": [
    "test['rating'] = test['fasttext'].str[0].str[0].str[-1]\n",
    "test"
   ]
  },
  {
   "cell_type": "code",
   "execution_count": 17,
   "metadata": {},
   "outputs": [
    {
     "output_type": "execute_result",
     "data": {
      "text/plain": "        review_id  review  review_clean  fasttext\nrating                                           \n1            5991    5991          5991      5991\n2            2507    2507          2507      2507\n3           14596   14596         14596     14596\n4           20654   20654         20654     20654\n5           16679   16679         16679     16679",
      "text/html": "<div>\n<style scoped>\n    .dataframe tbody tr th:only-of-type {\n        vertical-align: middle;\n    }\n\n    .dataframe tbody tr th {\n        vertical-align: top;\n    }\n\n    .dataframe thead th {\n        text-align: right;\n    }\n</style>\n<table border=\"1\" class=\"dataframe\">\n  <thead>\n    <tr style=\"text-align: right;\">\n      <th></th>\n      <th>review_id</th>\n      <th>review</th>\n      <th>review_clean</th>\n      <th>fasttext</th>\n    </tr>\n    <tr>\n      <th>rating</th>\n      <th></th>\n      <th></th>\n      <th></th>\n      <th></th>\n    </tr>\n  </thead>\n  <tbody>\n    <tr>\n      <th>1</th>\n      <td>5991</td>\n      <td>5991</td>\n      <td>5991</td>\n      <td>5991</td>\n    </tr>\n    <tr>\n      <th>2</th>\n      <td>2507</td>\n      <td>2507</td>\n      <td>2507</td>\n      <td>2507</td>\n    </tr>\n    <tr>\n      <th>3</th>\n      <td>14596</td>\n      <td>14596</td>\n      <td>14596</td>\n      <td>14596</td>\n    </tr>\n    <tr>\n      <th>4</th>\n      <td>20654</td>\n      <td>20654</td>\n      <td>20654</td>\n      <td>20654</td>\n    </tr>\n    <tr>\n      <th>5</th>\n      <td>16679</td>\n      <td>16679</td>\n      <td>16679</td>\n      <td>16679</td>\n    </tr>\n  </tbody>\n</table>\n</div>"
     },
     "metadata": {},
     "execution_count": 17
    }
   ],
   "source": [
    "test.groupby('rating').count()"
   ]
  },
  {
   "cell_type": "code",
   "execution_count": 18,
   "metadata": {},
   "outputs": [],
   "source": [
    "test.loc[:, ['review_id', 'rating']].to_csv('fasttext_submission.csv', index=False)"
   ]
  },
  {
   "cell_type": "code",
   "execution_count": null,
   "metadata": {},
   "outputs": [],
   "source": []
  }
 ]
}