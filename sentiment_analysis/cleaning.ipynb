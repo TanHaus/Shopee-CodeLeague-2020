{
 "metadata": {
  "language_info": {
   "codemirror_mode": {
    "name": "ipython",
    "version": 3
   },
   "file_extension": ".py",
   "mimetype": "text/x-python",
   "name": "python",
   "nbconvert_exporter": "python",
   "pygments_lexer": "ipython3",
   "version": 3
  },
  "orig_nbformat": 2,
  "kernelspec": {
   "name": "python_defaultSpec_1595658268020",
   "display_name": "Python 3.7.6 64-bit ('anaconda3': conda)"
  }
 },
 "nbformat": 4,
 "nbformat_minor": 2,
 "cells": [
  {
   "cell_type": "code",
   "execution_count": 1,
   "metadata": {},
   "outputs": [],
   "source": [
    "import pandas as pd\n",
    "from sacremoses import MosesTokenizer\n",
    "import string"
   ]
  },
  {
   "cell_type": "code",
   "execution_count": 2,
   "metadata": {},
   "outputs": [],
   "source": [
    "mtk = MosesTokenizer()"
   ]
  },
  {
   "cell_type": "code",
   "execution_count": 13,
   "metadata": {},
   "outputs": [
    {
     "output_type": "execute_result",
     "data": {
      "text/plain": "                                                   review  rating\n0       Ga disappointed neat products .. Meletot Hilsn...       1\n1         Rdtanya replace broken glass, broken chargernya       1\n2       Nyesel bngt dsni shopping antecedent photo mes...       1\n3           Sent a light blue suit goods ga want a refund       1\n4       Pendants came with dents and scratches on its ...       1\n...                                                   ...     ...\n106881                       Thanks you very satisfactory       5\n106882   Excellent quality Excellent quality Very acco...       5\n106883  Excellent product quality delivery speed is ve...       5\n106884                                         thanks gan       5\n106885   Awesome awesome quality merchandise value CP ...       5\n\n[106886 rows x 2 columns]",
      "text/html": "<div>\n<style scoped>\n    .dataframe tbody tr th:only-of-type {\n        vertical-align: middle;\n    }\n\n    .dataframe tbody tr th {\n        vertical-align: top;\n    }\n\n    .dataframe thead th {\n        text-align: right;\n    }\n</style>\n<table border=\"1\" class=\"dataframe\">\n  <thead>\n    <tr style=\"text-align: right;\">\n      <th></th>\n      <th>review</th>\n      <th>rating</th>\n    </tr>\n  </thead>\n  <tbody>\n    <tr>\n      <th>0</th>\n      <td>Ga disappointed neat products .. Meletot Hilsn...</td>\n      <td>1</td>\n    </tr>\n    <tr>\n      <th>1</th>\n      <td>Rdtanya replace broken glass, broken chargernya</td>\n      <td>1</td>\n    </tr>\n    <tr>\n      <th>2</th>\n      <td>Nyesel bngt dsni shopping antecedent photo mes...</td>\n      <td>1</td>\n    </tr>\n    <tr>\n      <th>3</th>\n      <td>Sent a light blue suit goods ga want a refund</td>\n      <td>1</td>\n    </tr>\n    <tr>\n      <th>4</th>\n      <td>Pendants came with dents and scratches on its ...</td>\n      <td>1</td>\n    </tr>\n    <tr>\n      <th>...</th>\n      <td>...</td>\n      <td>...</td>\n    </tr>\n    <tr>\n      <th>106881</th>\n      <td>Thanks you very satisfactory</td>\n      <td>5</td>\n    </tr>\n    <tr>\n      <th>106882</th>\n      <td>Excellent quality Excellent quality Very acco...</td>\n      <td>5</td>\n    </tr>\n    <tr>\n      <th>106883</th>\n      <td>Excellent product quality delivery speed is ve...</td>\n      <td>5</td>\n    </tr>\n    <tr>\n      <th>106884</th>\n      <td>thanks gan</td>\n      <td>5</td>\n    </tr>\n    <tr>\n      <th>106885</th>\n      <td>Awesome awesome quality merchandise value CP ...</td>\n      <td>5</td>\n    </tr>\n  </tbody>\n</table>\n<p>106886 rows × 2 columns</p>\n</div>"
     },
     "metadata": {},
     "execution_count": 13
    }
   ],
   "source": [
    "train = pd.read_csv('train_ds.csv')\n",
    "val = pd.read_csv('val_ds.csv')\n",
    "test = pd.read_csv('test.csv')\n",
    "train"
   ]
  },
  {
   "cell_type": "code",
   "execution_count": 4,
   "metadata": {},
   "outputs": [
    {
     "output_type": "execute_result",
     "data": {
      "text/plain": "                                                  review  rating  \\\n59165  But I have a good-sized sewing white. Lest the...       4   \n37922  7 ordered all bars Box 1 come rods are welded ...       3   \n99141   Very accommodating seller havent tried the pr...       5   \n74869  Kak good material, good jg response. Because q...       4   \n75517  Thank you so much sis .. hopefully continue to...       4   \n\n                                            review_clean  \n59165  but i have a good-sized sewing white. lest the...  \n37922  7 ordered all bars box 1 come rods are welded ...  \n99141   very accommodating seller havent tried the pr...  \n74869  kak good material, good jg response. because q...  \n75517  thank you so much sis .. hopefully continue to...  ",
      "text/html": "<div>\n<style scoped>\n    .dataframe tbody tr th:only-of-type {\n        vertical-align: middle;\n    }\n\n    .dataframe tbody tr th {\n        vertical-align: top;\n    }\n\n    .dataframe thead th {\n        text-align: right;\n    }\n</style>\n<table border=\"1\" class=\"dataframe\">\n  <thead>\n    <tr style=\"text-align: right;\">\n      <th></th>\n      <th>review</th>\n      <th>rating</th>\n      <th>review_clean</th>\n    </tr>\n  </thead>\n  <tbody>\n    <tr>\n      <th>59165</th>\n      <td>But I have a good-sized sewing white. Lest the...</td>\n      <td>4</td>\n      <td>but i have a good-sized sewing white. lest the...</td>\n    </tr>\n    <tr>\n      <th>37922</th>\n      <td>7 ordered all bars Box 1 come rods are welded ...</td>\n      <td>3</td>\n      <td>7 ordered all bars box 1 come rods are welded ...</td>\n    </tr>\n    <tr>\n      <th>99141</th>\n      <td>Very accommodating seller havent tried the pr...</td>\n      <td>5</td>\n      <td>very accommodating seller havent tried the pr...</td>\n    </tr>\n    <tr>\n      <th>74869</th>\n      <td>Kak good material, good jg response. Because q...</td>\n      <td>4</td>\n      <td>kak good material, good jg response. because q...</td>\n    </tr>\n    <tr>\n      <th>75517</th>\n      <td>Thank you so much sis .. hopefully continue to...</td>\n      <td>4</td>\n      <td>thank you so much sis .. hopefully continue to...</td>\n    </tr>\n  </tbody>\n</table>\n</div>"
     },
     "metadata": {},
     "execution_count": 4
    }
   ],
   "source": [
    "train['review_clean'] = train['review'].str.lower()\n",
    "train.sample(5)"
   ]
  },
  {
   "cell_type": "code",
   "execution_count": 5,
   "metadata": {},
   "outputs": [
    {
     "output_type": "execute_result",
     "data": {
      "text/plain": "'!\"#$%&\\'()*+,-./:;<=>?@[\\\\]^_`{|}~'"
     },
     "metadata": {},
     "execution_count": 5
    }
   ],
   "source": [
    "string.punctuation"
   ]
  },
  {
   "cell_type": "markdown",
   "metadata": {},
   "source": [
    "- Punctuations that likely won't impact the sentiment `+*`\n",
    "- Remove hashtag `#[a-z]+`\n",
    "- Remove mention `@[a-z]+`\n",
    "- Remove hyperlinks `http.+`\n"
   ]
  },
  {
   "cell_type": "code",
   "execution_count": 6,
   "metadata": {},
   "outputs": [
    {
     "output_type": "execute_result",
     "data": {
      "text/plain": "                                                   review  rating  \\\n1260     Items will not order again the same picture. ...       1   \n1277    Dishonest seller, the seller was promised the ...       1   \n1383    The actual powerbank itself is defective. It g...       1   \n1578    Earphonenya sure 100% ori? Products from Pampa...       1   \n1752    Material type but not cotton jersey 2xl as rep...       1   \n...                                                   ...     ...   \n105964  Well, very good value for money, like buy 1 ge...       5   \n105987  use good products, only 50% battery life but a...       5   \n106011  [QC] THE NAP do not forget - today (09/20) 20%...       5   \n106214  UDH Pketnny smpe lmyan cepet .. Tp syg earring...       5   \n106484  The price tag is lower than the other 40%. Pro...       5   \n\n                                             review_clean  \n1260     items will not order again the same picture. ...  \n1277    dishonest seller, the seller was promised the ...  \n1383    the actual powerbank itself is defective. it g...  \n1578    earphonenya sure 100% ori? products from pampa...  \n1752    material type but not cotton jersey 2xl as rep...  \n...                                                   ...  \n105964  well, very good value for money, like buy 1 ge...  \n105987  use good products, only 50% battery life but a...  \n106011  [qc] the nap do not forget - today (09/20) 20%...  \n106214  udh pketnny smpe lmyan cepet .. tp syg earring...  \n106484  the price tag is lower than the other 40%. pro...  \n\n[274 rows x 3 columns]",
      "text/html": "<div>\n<style scoped>\n    .dataframe tbody tr th:only-of-type {\n        vertical-align: middle;\n    }\n\n    .dataframe tbody tr th {\n        vertical-align: top;\n    }\n\n    .dataframe thead th {\n        text-align: right;\n    }\n</style>\n<table border=\"1\" class=\"dataframe\">\n  <thead>\n    <tr style=\"text-align: right;\">\n      <th></th>\n      <th>review</th>\n      <th>rating</th>\n      <th>review_clean</th>\n    </tr>\n  </thead>\n  <tbody>\n    <tr>\n      <th>1260</th>\n      <td>Items will not order again the same picture. ...</td>\n      <td>1</td>\n      <td>items will not order again the same picture. ...</td>\n    </tr>\n    <tr>\n      <th>1277</th>\n      <td>Dishonest seller, the seller was promised the ...</td>\n      <td>1</td>\n      <td>dishonest seller, the seller was promised the ...</td>\n    </tr>\n    <tr>\n      <th>1383</th>\n      <td>The actual powerbank itself is defective. It g...</td>\n      <td>1</td>\n      <td>the actual powerbank itself is defective. it g...</td>\n    </tr>\n    <tr>\n      <th>1578</th>\n      <td>Earphonenya sure 100% ori? Products from Pampa...</td>\n      <td>1</td>\n      <td>earphonenya sure 100% ori? products from pampa...</td>\n    </tr>\n    <tr>\n      <th>1752</th>\n      <td>Material type but not cotton jersey 2xl as rep...</td>\n      <td>1</td>\n      <td>material type but not cotton jersey 2xl as rep...</td>\n    </tr>\n    <tr>\n      <th>...</th>\n      <td>...</td>\n      <td>...</td>\n      <td>...</td>\n    </tr>\n    <tr>\n      <th>105964</th>\n      <td>Well, very good value for money, like buy 1 ge...</td>\n      <td>5</td>\n      <td>well, very good value for money, like buy 1 ge...</td>\n    </tr>\n    <tr>\n      <th>105987</th>\n      <td>use good products, only 50% battery life but a...</td>\n      <td>5</td>\n      <td>use good products, only 50% battery life but a...</td>\n    </tr>\n    <tr>\n      <th>106011</th>\n      <td>[QC] THE NAP do not forget - today (09/20) 20%...</td>\n      <td>5</td>\n      <td>[qc] the nap do not forget - today (09/20) 20%...</td>\n    </tr>\n    <tr>\n      <th>106214</th>\n      <td>UDH Pketnny smpe lmyan cepet .. Tp syg earring...</td>\n      <td>5</td>\n      <td>udh pketnny smpe lmyan cepet .. tp syg earring...</td>\n    </tr>\n    <tr>\n      <th>106484</th>\n      <td>The price tag is lower than the other 40%. Pro...</td>\n      <td>5</td>\n      <td>the price tag is lower than the other 40%. pro...</td>\n    </tr>\n  </tbody>\n</table>\n<p>274 rows × 3 columns</p>\n</div>"
     },
     "metadata": {},
     "execution_count": 6
    }
   ],
   "source": [
    "train[train['review_clean'].str.contains(r\"\\%\")]"
   ]
  },
  {
   "cell_type": "code",
   "execution_count": 7,
   "metadata": {},
   "outputs": [
    {
     "output_type": "execute_result",
     "data": {
      "text/plain": "                                                   review  rating  \\\n0       Ga disappointed neat products .. Meletot Hilsn...       1   \n1         Rdtanya replace broken glass, broken chargernya       1   \n2       Nyesel bngt dsni shopping antecedent photo mes...       1   \n3           Sent a light blue suit goods ga want a refund       1   \n4       Pendants came with dents and scratches on its ...       1   \n...                                                   ...     ...   \n106881                       Thanks you very satisfactory       5   \n106882   Excellent quality Excellent quality Very acco...       5   \n106883  Excellent product quality delivery speed is ve...       5   \n106884                                         thanks gan       5   \n106885   Awesome awesome quality merchandise value CP ...       5   \n\n                                             review_clean  \n0       ga disappointed neat products .  meletot hilsn...  \n1        rdtanya replace broken glass.  broken chargernya  \n2       nyesel bngt dsni shopping antecedent photo mes...  \n3           sent a light blue suit goods ga want a refund  \n4       pendants came with dents and scratches on its ...  \n...                                                   ...  \n106881                       thanks you very satisfactory  \n106882   excellent quality excellent quality very acco...  \n106883  excellent product quality delivery speed is ve...  \n106884                                         thanks gan  \n106885   awesome awesome quality merchandise value cp ...  \n\n[106886 rows x 3 columns]",
      "text/html": "<div>\n<style scoped>\n    .dataframe tbody tr th:only-of-type {\n        vertical-align: middle;\n    }\n\n    .dataframe tbody tr th {\n        vertical-align: top;\n    }\n\n    .dataframe thead th {\n        text-align: right;\n    }\n</style>\n<table border=\"1\" class=\"dataframe\">\n  <thead>\n    <tr style=\"text-align: right;\">\n      <th></th>\n      <th>review</th>\n      <th>rating</th>\n      <th>review_clean</th>\n    </tr>\n  </thead>\n  <tbody>\n    <tr>\n      <th>0</th>\n      <td>Ga disappointed neat products .. Meletot Hilsn...</td>\n      <td>1</td>\n      <td>ga disappointed neat products .  meletot hilsn...</td>\n    </tr>\n    <tr>\n      <th>1</th>\n      <td>Rdtanya replace broken glass, broken chargernya</td>\n      <td>1</td>\n      <td>rdtanya replace broken glass.  broken chargernya</td>\n    </tr>\n    <tr>\n      <th>2</th>\n      <td>Nyesel bngt dsni shopping antecedent photo mes...</td>\n      <td>1</td>\n      <td>nyesel bngt dsni shopping antecedent photo mes...</td>\n    </tr>\n    <tr>\n      <th>3</th>\n      <td>Sent a light blue suit goods ga want a refund</td>\n      <td>1</td>\n      <td>sent a light blue suit goods ga want a refund</td>\n    </tr>\n    <tr>\n      <th>4</th>\n      <td>Pendants came with dents and scratches on its ...</td>\n      <td>1</td>\n      <td>pendants came with dents and scratches on its ...</td>\n    </tr>\n    <tr>\n      <th>...</th>\n      <td>...</td>\n      <td>...</td>\n      <td>...</td>\n    </tr>\n    <tr>\n      <th>106881</th>\n      <td>Thanks you very satisfactory</td>\n      <td>5</td>\n      <td>thanks you very satisfactory</td>\n    </tr>\n    <tr>\n      <th>106882</th>\n      <td>Excellent quality Excellent quality Very acco...</td>\n      <td>5</td>\n      <td>excellent quality excellent quality very acco...</td>\n    </tr>\n    <tr>\n      <th>106883</th>\n      <td>Excellent product quality delivery speed is ve...</td>\n      <td>5</td>\n      <td>excellent product quality delivery speed is ve...</td>\n    </tr>\n    <tr>\n      <th>106884</th>\n      <td>thanks gan</td>\n      <td>5</td>\n      <td>thanks gan</td>\n    </tr>\n    <tr>\n      <th>106885</th>\n      <td>Awesome awesome quality merchandise value CP ...</td>\n      <td>5</td>\n      <td>awesome awesome quality merchandise value cp ...</td>\n    </tr>\n  </tbody>\n</table>\n<p>106886 rows × 3 columns</p>\n</div>"
     },
     "metadata": {},
     "execution_count": 7
    }
   ],
   "source": [
    "train['review_clean'] = train['review_clean'].str.replace(r'’', '\\'')\n",
    "train['review_clean'] = train['review_clean'].str.replace(r'#[a-z]+', ' ')\n",
    "train['review_clean'] = train['review_clean'].str.replace(r'@[a-z]+', ' ')\n",
    "train['review_clean'] = train['review_clean'].str.replace(r'[\\+\\*=@#<>\\(\\)\\[\\]\\^_]+', ' ')\n",
    "train['review_clean'] = train['review_clean'].str.replace(r'[,!?;.:]+', '. ')\n",
    "train"
   ]
  },
  {
   "cell_type": "code",
   "execution_count": 8,
   "metadata": {},
   "outputs": [],
   "source": [
    "train.to_csv('train_clean.csv', index=False)"
   ]
  },
  {
   "cell_type": "code",
   "execution_count": 14,
   "metadata": {},
   "outputs": [
    {
     "output_type": "execute_result",
     "data": {
      "text/plain": "                                                 review  rating  \\\n0     Order black. But until the color of khakis. Or...       1   \n1     Response sellers alike absolutely nothing. ver...       1   \n2                        Keep it in the bag rice weevil       1   \n3     Ga receipt of goods, confirmed to be from the ...       1   \n4     goods bagussssssssssssssssssssssssssssssssssss...       1   \n...                                                 ...     ...   \n9995  Original product. The price of the best parts....       5   \n9996  CPET bgt his delivery, packing oke bgt, safe p...       5   \n9997  Thank you for your boss at home really texture...       5   \n9998  Thank you seller....products delivered in good...       5   \n9999   Awesome service awesome speed of the ship awe...       5   \n\n                                           review_clean  \n0     order black.  but until the color of khakis.  ...  \n1     response sellers alike absolutely nothing.  ve...  \n2                        keep it in the bag rice weevil  \n3     ga receipt of goods.  confirmed to be from the...  \n4     goods bagussssssssssssssssssssssssssssssssssss...  \n...                                                 ...  \n9995  original product.  the price of the best parts...  \n9996  cpet bgt his delivery.  packing oke bgt.  safe...  \n9997  thank you for your boss at home really texture...  \n9998  thank you seller. products delivered in good c...  \n9999   awesome service awesome speed of the ship awe...  \n\n[10000 rows x 3 columns]",
      "text/html": "<div>\n<style scoped>\n    .dataframe tbody tr th:only-of-type {\n        vertical-align: middle;\n    }\n\n    .dataframe tbody tr th {\n        vertical-align: top;\n    }\n\n    .dataframe thead th {\n        text-align: right;\n    }\n</style>\n<table border=\"1\" class=\"dataframe\">\n  <thead>\n    <tr style=\"text-align: right;\">\n      <th></th>\n      <th>review</th>\n      <th>rating</th>\n      <th>review_clean</th>\n    </tr>\n  </thead>\n  <tbody>\n    <tr>\n      <th>0</th>\n      <td>Order black. But until the color of khakis. Or...</td>\n      <td>1</td>\n      <td>order black.  but until the color of khakis.  ...</td>\n    </tr>\n    <tr>\n      <th>1</th>\n      <td>Response sellers alike absolutely nothing. ver...</td>\n      <td>1</td>\n      <td>response sellers alike absolutely nothing.  ve...</td>\n    </tr>\n    <tr>\n      <th>2</th>\n      <td>Keep it in the bag rice weevil</td>\n      <td>1</td>\n      <td>keep it in the bag rice weevil</td>\n    </tr>\n    <tr>\n      <th>3</th>\n      <td>Ga receipt of goods, confirmed to be from the ...</td>\n      <td>1</td>\n      <td>ga receipt of goods.  confirmed to be from the...</td>\n    </tr>\n    <tr>\n      <th>4</th>\n      <td>goods bagussssssssssssssssssssssssssssssssssss...</td>\n      <td>1</td>\n      <td>goods bagussssssssssssssssssssssssssssssssssss...</td>\n    </tr>\n    <tr>\n      <th>...</th>\n      <td>...</td>\n      <td>...</td>\n      <td>...</td>\n    </tr>\n    <tr>\n      <th>9995</th>\n      <td>Original product. The price of the best parts....</td>\n      <td>5</td>\n      <td>original product.  the price of the best parts...</td>\n    </tr>\n    <tr>\n      <th>9996</th>\n      <td>CPET bgt his delivery, packing oke bgt, safe p...</td>\n      <td>5</td>\n      <td>cpet bgt his delivery.  packing oke bgt.  safe...</td>\n    </tr>\n    <tr>\n      <th>9997</th>\n      <td>Thank you for your boss at home really texture...</td>\n      <td>5</td>\n      <td>thank you for your boss at home really texture...</td>\n    </tr>\n    <tr>\n      <th>9998</th>\n      <td>Thank you seller....products delivered in good...</td>\n      <td>5</td>\n      <td>thank you seller. products delivered in good c...</td>\n    </tr>\n    <tr>\n      <th>9999</th>\n      <td>Awesome service awesome speed of the ship awe...</td>\n      <td>5</td>\n      <td>awesome service awesome speed of the ship awe...</td>\n    </tr>\n  </tbody>\n</table>\n<p>10000 rows × 3 columns</p>\n</div>"
     },
     "metadata": {},
     "execution_count": 14
    }
   ],
   "source": [
    "def clean(series):\n",
    "    series = series.str.lower()\n",
    "\n",
    "    series = series.str.replace(r'’', '\\'')\n",
    "    series = series.str.replace(r'#[a-z]+', ' ')\n",
    "    series = series.str.replace(r'@[a-z]+', ' ')\n",
    "    series = series.str.replace(r'[\\+\\*=@#<>\\(\\)\\[\\]\\^_]+', ' ')\n",
    "    series = series.str.replace(r'[,!?;.:]+', '. ')\n",
    "\n",
    "    return series\n",
    "\n",
    "val['review_clean'] = clean(val['review'])\n",
    "test['review_clean'] = clean(test['review'])\n",
    "val"
   ]
  },
  {
   "cell_type": "code",
   "execution_count": 15,
   "metadata": {},
   "outputs": [],
   "source": [
    "val.to_csv('val_clean.csv', index=False)\n",
    "test.to_csv('test_clean.csv', index=False)"
   ]
  },
  {
   "cell_type": "code",
   "execution_count": null,
   "metadata": {},
   "outputs": [],
   "source": []
  }
 ]
}