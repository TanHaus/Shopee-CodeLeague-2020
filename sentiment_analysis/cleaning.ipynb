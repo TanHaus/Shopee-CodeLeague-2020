{
 "metadata": {
  "language_info": {
   "codemirror_mode": {
    "name": "ipython",
    "version": 3
   },
   "file_extension": ".py",
   "mimetype": "text/x-python",
   "name": "python",
   "nbconvert_exporter": "python",
   "pygments_lexer": "ipython3",
   "version": 3
  },
  "orig_nbformat": 2,
  "kernelspec": {
   "name": "python_defaultSpec_1595348547135",
   "display_name": "Python 3.7.6 64-bit ('anaconda3': conda)"
  }
 },
 "nbformat": 4,
 "nbformat_minor": 2,
 "cells": [
  {
   "cell_type": "code",
   "execution_count": 1,
   "metadata": {},
   "outputs": [],
   "source": [
    "import pandas as pd\n",
    "from sacremoses import MosesTokenizer\n",
    "import string\n",
    "import emoji"
   ]
  },
  {
   "cell_type": "code",
   "execution_count": 2,
   "metadata": {},
   "outputs": [],
   "source": [
    "mtk = MosesTokenizer()\n",
    "emoji_regex = emoji.get_emoji_regexp()"
   ]
  },
  {
   "cell_type": "code",
   "execution_count": 3,
   "metadata": {},
   "outputs": [
    {
     "output_type": "execute_result",
     "data": {
      "text/plain": "                                                   review  rating\n0       Package price already received fast delivery m...       4\n1       Goods have to be in good condition. Sellsr fas...       4\n2                  kapaditasnya passable bgt .. thank God       4\n3        Awesome awesome quality of goods shipped spee...       5\n4       Good bye but have not I go to hopefully cut no...       4\n...                                                   ...     ...\n117443                      Motifny bgs2 who ordern pertm       3\n117444                               Good value for money       4\n117445      His legs to look very neat that goes on foot.       4\n117446                              BRG ok..cantik lipez.       5\n117447  Like its more fit may be delivered late. I'm s...       3\n\n[117448 rows x 2 columns]",
      "text/html": "<div>\n<style scoped>\n    .dataframe tbody tr th:only-of-type {\n        vertical-align: middle;\n    }\n\n    .dataframe tbody tr th {\n        vertical-align: top;\n    }\n\n    .dataframe thead th {\n        text-align: right;\n    }\n</style>\n<table border=\"1\" class=\"dataframe\">\n  <thead>\n    <tr style=\"text-align: right;\">\n      <th></th>\n      <th>review</th>\n      <th>rating</th>\n    </tr>\n  </thead>\n  <tbody>\n    <tr>\n      <th>0</th>\n      <td>Package price already received fast delivery m...</td>\n      <td>4</td>\n    </tr>\n    <tr>\n      <th>1</th>\n      <td>Goods have to be in good condition. Sellsr fas...</td>\n      <td>4</td>\n    </tr>\n    <tr>\n      <th>2</th>\n      <td>kapaditasnya passable bgt .. thank God</td>\n      <td>4</td>\n    </tr>\n    <tr>\n      <th>3</th>\n      <td>Awesome awesome quality of goods shipped spee...</td>\n      <td>5</td>\n    </tr>\n    <tr>\n      <th>4</th>\n      <td>Good bye but have not I go to hopefully cut no...</td>\n      <td>4</td>\n    </tr>\n    <tr>\n      <th>...</th>\n      <td>...</td>\n      <td>...</td>\n    </tr>\n    <tr>\n      <th>117443</th>\n      <td>Motifny bgs2 who ordern pertm</td>\n      <td>3</td>\n    </tr>\n    <tr>\n      <th>117444</th>\n      <td>Good value for money</td>\n      <td>4</td>\n    </tr>\n    <tr>\n      <th>117445</th>\n      <td>His legs to look very neat that goes on foot.</td>\n      <td>4</td>\n    </tr>\n    <tr>\n      <th>117446</th>\n      <td>BRG ok..cantik lipez.</td>\n      <td>5</td>\n    </tr>\n    <tr>\n      <th>117447</th>\n      <td>Like its more fit may be delivered late. I'm s...</td>\n      <td>3</td>\n    </tr>\n  </tbody>\n</table>\n<p>117448 rows × 2 columns</p>\n</div>"
     },
     "metadata": {},
     "execution_count": 3
    }
   ],
   "source": [
    "train = pd.read_csv('train_set.csv')\n",
    "val = pd.read_csv('val_set.csv')\n",
    "train"
   ]
  },
  {
   "cell_type": "code",
   "execution_count": 4,
   "metadata": {},
   "outputs": [
    {
     "output_type": "execute_result",
     "data": {
      "text/plain": "                                                  review  rating  \\\n89368  Its products are passable, but slow response. ...       1   \n98885  Packets have been received, thank you .. but I...       3   \n80026      Awesome awesome quality of goods and services       5   \n36839  Get rich but pretty satisfied ủa fom too tight...       3   \n64933                            Delivery speed is good.       3   \n\n                                            review_clean  \n89368  its products are passable, but slow response. ...  \n98885  packets have been received, thank you .. but i...  \n80026      awesome awesome quality of goods and services  \n36839  get rich but pretty satisfied ủa fom too tight...  \n64933                            delivery speed is good.  ",
      "text/html": "<div>\n<style scoped>\n    .dataframe tbody tr th:only-of-type {\n        vertical-align: middle;\n    }\n\n    .dataframe tbody tr th {\n        vertical-align: top;\n    }\n\n    .dataframe thead th {\n        text-align: right;\n    }\n</style>\n<table border=\"1\" class=\"dataframe\">\n  <thead>\n    <tr style=\"text-align: right;\">\n      <th></th>\n      <th>review</th>\n      <th>rating</th>\n      <th>review_clean</th>\n    </tr>\n  </thead>\n  <tbody>\n    <tr>\n      <th>89368</th>\n      <td>Its products are passable, but slow response. ...</td>\n      <td>1</td>\n      <td>its products are passable, but slow response. ...</td>\n    </tr>\n    <tr>\n      <th>98885</th>\n      <td>Packets have been received, thank you .. but I...</td>\n      <td>3</td>\n      <td>packets have been received, thank you .. but i...</td>\n    </tr>\n    <tr>\n      <th>80026</th>\n      <td>Awesome awesome quality of goods and services</td>\n      <td>5</td>\n      <td>awesome awesome quality of goods and services</td>\n    </tr>\n    <tr>\n      <th>36839</th>\n      <td>Get rich but pretty satisfied ủa fom too tight...</td>\n      <td>3</td>\n      <td>get rich but pretty satisfied ủa fom too tight...</td>\n    </tr>\n    <tr>\n      <th>64933</th>\n      <td>Delivery speed is good.</td>\n      <td>3</td>\n      <td>delivery speed is good.</td>\n    </tr>\n  </tbody>\n</table>\n</div>"
     },
     "metadata": {},
     "execution_count": 4
    }
   ],
   "source": [
    "train['review_clean'] = train['review'].str.lower()\n",
    "train.sample(5)"
   ]
  },
  {
   "cell_type": "code",
   "execution_count": 5,
   "metadata": {},
   "outputs": [
    {
     "output_type": "execute_result",
     "data": {
      "text/plain": "'!\"#$%&\\'()*+,-./:;<=>?@[\\\\]^_`{|}~'"
     },
     "metadata": {},
     "execution_count": 5
    }
   ],
   "source": [
    "string.punctuation"
   ]
  },
  {
   "cell_type": "markdown",
   "metadata": {},
   "source": [
    "- Punctuations that likely won't impact the sentiment `+*`\n",
    "- Remove hashtag `#[a-z]+`\n",
    "- Remove mention `@[a-z]+`\n",
    "- Remove hyperlinks `http.+`\n"
   ]
  },
  {
   "cell_type": "code",
   "execution_count": 6,
   "metadata": {},
   "outputs": [
    {
     "output_type": "execute_result",
     "data": {
      "text/plain": "                                                   review  rating  \\\n299     Color e nice. Real pict 99%. If you want to bu...       5   \n375                        Will order again 100% Original       5   \n403     Yes. He also came :). I opened the battery to ...       3   \n1127    Small plates to Forum But does not indicate ho...       3   \n1844    Prudential Indonesia together with Junior Achi...       5   \n...                                                   ...     ...   \n113561   Excellent quality Very accommodating seller W...       5   \n115405  extremely fast delivery. i read some of the re...       5   \n115546  Item 100% originu. Packing safe. Sellers could...       5   \n115608  Unfortunately, probably like everyone else ......       2   \n116132  Gaskets safety less than 50% total pesenan den...       2   \n\n                                             review_clean  \n299     color e nice. real pict 99%. if you want to bu...  \n375                        will order again 100% original  \n403     yes. he also came :). i opened the battery to ...  \n1127    small plates to forum but does not indicate ho...  \n1844    prudential indonesia together with junior achi...  \n...                                                   ...  \n113561   excellent quality very accommodating seller w...  \n115405  extremely fast delivery. i read some of the re...  \n115546  item 100% originu. packing safe. sellers could...  \n115608  unfortunately, probably like everyone else ......  \n116132  gaskets safety less than 50% total pesenan den...  \n\n[239 rows x 3 columns]",
      "text/html": "<div>\n<style scoped>\n    .dataframe tbody tr th:only-of-type {\n        vertical-align: middle;\n    }\n\n    .dataframe tbody tr th {\n        vertical-align: top;\n    }\n\n    .dataframe thead th {\n        text-align: right;\n    }\n</style>\n<table border=\"1\" class=\"dataframe\">\n  <thead>\n    <tr style=\"text-align: right;\">\n      <th></th>\n      <th>review</th>\n      <th>rating</th>\n      <th>review_clean</th>\n    </tr>\n  </thead>\n  <tbody>\n    <tr>\n      <th>299</th>\n      <td>Color e nice. Real pict 99%. If you want to bu...</td>\n      <td>5</td>\n      <td>color e nice. real pict 99%. if you want to bu...</td>\n    </tr>\n    <tr>\n      <th>375</th>\n      <td>Will order again 100% Original</td>\n      <td>5</td>\n      <td>will order again 100% original</td>\n    </tr>\n    <tr>\n      <th>403</th>\n      <td>Yes. He also came :). I opened the battery to ...</td>\n      <td>3</td>\n      <td>yes. he also came :). i opened the battery to ...</td>\n    </tr>\n    <tr>\n      <th>1127</th>\n      <td>Small plates to Forum But does not indicate ho...</td>\n      <td>3</td>\n      <td>small plates to forum but does not indicate ho...</td>\n    </tr>\n    <tr>\n      <th>1844</th>\n      <td>Prudential Indonesia together with Junior Achi...</td>\n      <td>5</td>\n      <td>prudential indonesia together with junior achi...</td>\n    </tr>\n    <tr>\n      <th>...</th>\n      <td>...</td>\n      <td>...</td>\n      <td>...</td>\n    </tr>\n    <tr>\n      <th>113561</th>\n      <td>Excellent quality Very accommodating seller W...</td>\n      <td>5</td>\n      <td>excellent quality very accommodating seller w...</td>\n    </tr>\n    <tr>\n      <th>115405</th>\n      <td>extremely fast delivery. i read some of the re...</td>\n      <td>5</td>\n      <td>extremely fast delivery. i read some of the re...</td>\n    </tr>\n    <tr>\n      <th>115546</th>\n      <td>Item 100% originu. Packing safe. Sellers could...</td>\n      <td>5</td>\n      <td>item 100% originu. packing safe. sellers could...</td>\n    </tr>\n    <tr>\n      <th>115608</th>\n      <td>Unfortunately, probably like everyone else ......</td>\n      <td>2</td>\n      <td>unfortunately, probably like everyone else ......</td>\n    </tr>\n    <tr>\n      <th>116132</th>\n      <td>Gaskets safety less than 50% total pesenan den...</td>\n      <td>2</td>\n      <td>gaskets safety less than 50% total pesenan den...</td>\n    </tr>\n  </tbody>\n</table>\n<p>239 rows × 3 columns</p>\n</div>"
     },
     "metadata": {},
     "execution_count": 6
    }
   ],
   "source": [
    "train[train['review_clean'].str.contains(r\"\\%\")]"
   ]
  },
  {
   "cell_type": "code",
   "execution_count": 7,
   "metadata": {},
   "outputs": [
    {
     "output_type": "execute_result",
     "data": {
      "text/plain": "                                                   review  rating  \\\n0       Package price already received fast delivery m...       4   \n1       Goods have to be in good condition. Sellsr fas...       4   \n2                  kapaditasnya passable bgt .. thank God       4   \n3        Awesome awesome quality of goods shipped spee...       5   \n4       Good bye but have not I go to hopefully cut no...       4   \n...                                                   ...     ...   \n117443                      Motifny bgs2 who ordern pertm       3   \n117444                               Good value for money       4   \n117445      His legs to look very neat that goes on foot.       4   \n117446                              BRG ok..cantik lipez.       5   \n117447  Like its more fit may be delivered late. I'm s...       3   \n\n                                             review_clean  \n0       package price already received fast delivery m...  \n1       goods have to be in good condition.  sellsr fa...  \n2                  kapaditasnya passable bgt .  thank god  \n3        awesome awesome quality of goods shipped spee...  \n4       good bye but have not i go to hopefully cut no...  \n...                                                   ...  \n117443                      motifny bgs2 who ordern pertm  \n117444                               good value for money  \n117445     his legs to look very neat that goes on foot.   \n117446                             brg ok. cantik lipez.   \n117447  like its more fit may be delivered late.  i'm ...  \n\n[117448 rows x 3 columns]",
      "text/html": "<div>\n<style scoped>\n    .dataframe tbody tr th:only-of-type {\n        vertical-align: middle;\n    }\n\n    .dataframe tbody tr th {\n        vertical-align: top;\n    }\n\n    .dataframe thead th {\n        text-align: right;\n    }\n</style>\n<table border=\"1\" class=\"dataframe\">\n  <thead>\n    <tr style=\"text-align: right;\">\n      <th></th>\n      <th>review</th>\n      <th>rating</th>\n      <th>review_clean</th>\n    </tr>\n  </thead>\n  <tbody>\n    <tr>\n      <th>0</th>\n      <td>Package price already received fast delivery m...</td>\n      <td>4</td>\n      <td>package price already received fast delivery m...</td>\n    </tr>\n    <tr>\n      <th>1</th>\n      <td>Goods have to be in good condition. Sellsr fas...</td>\n      <td>4</td>\n      <td>goods have to be in good condition.  sellsr fa...</td>\n    </tr>\n    <tr>\n      <th>2</th>\n      <td>kapaditasnya passable bgt .. thank God</td>\n      <td>4</td>\n      <td>kapaditasnya passable bgt .  thank god</td>\n    </tr>\n    <tr>\n      <th>3</th>\n      <td>Awesome awesome quality of goods shipped spee...</td>\n      <td>5</td>\n      <td>awesome awesome quality of goods shipped spee...</td>\n    </tr>\n    <tr>\n      <th>4</th>\n      <td>Good bye but have not I go to hopefully cut no...</td>\n      <td>4</td>\n      <td>good bye but have not i go to hopefully cut no...</td>\n    </tr>\n    <tr>\n      <th>...</th>\n      <td>...</td>\n      <td>...</td>\n      <td>...</td>\n    </tr>\n    <tr>\n      <th>117443</th>\n      <td>Motifny bgs2 who ordern pertm</td>\n      <td>3</td>\n      <td>motifny bgs2 who ordern pertm</td>\n    </tr>\n    <tr>\n      <th>117444</th>\n      <td>Good value for money</td>\n      <td>4</td>\n      <td>good value for money</td>\n    </tr>\n    <tr>\n      <th>117445</th>\n      <td>His legs to look very neat that goes on foot.</td>\n      <td>4</td>\n      <td>his legs to look very neat that goes on foot.</td>\n    </tr>\n    <tr>\n      <th>117446</th>\n      <td>BRG ok..cantik lipez.</td>\n      <td>5</td>\n      <td>brg ok. cantik lipez.</td>\n    </tr>\n    <tr>\n      <th>117447</th>\n      <td>Like its more fit may be delivered late. I'm s...</td>\n      <td>3</td>\n      <td>like its more fit may be delivered late.  i'm ...</td>\n    </tr>\n  </tbody>\n</table>\n<p>117448 rows × 3 columns</p>\n</div>"
     },
     "metadata": {},
     "execution_count": 7
    }
   ],
   "source": [
    "train['review_clean'] = train['review_clean'].str.replace(r'’', '\\'')\n",
    "train['review_clean'] = train['review_clean'].str.replace(r'#[a-z]+', ' ')\n",
    "train['review_clean'] = train['review_clean'].str.replace(r'@[a-z]+', ' ')\n",
    "train['review_clean'] = train['review_clean'].str.replace(r'[\\+\\*=@#<>\\(\\)\\[\\]\\^_]+', ' ')\n",
    "train['review_clean'] = train['review_clean'].str.replace(r'[,!?;.:]+', '. ')\n",
    "train"
   ]
  },
  {
   "cell_type": "code",
   "execution_count": 8,
   "metadata": {
    "tags": []
   },
   "outputs": [
    {
     "output_type": "execute_result",
     "data": {
      "text/plain": "                                                   review  rating  \\\n0       Package price already received fast delivery m...       4   \n1       Goods have to be in good condition. Sellsr fas...       4   \n2                  kapaditasnya passable bgt .. thank God       4   \n3        Awesome awesome quality of goods shipped spee...       5   \n4       Good bye but have not I go to hopefully cut no...       4   \n...                                                   ...     ...   \n117443                      Motifny bgs2 who ordern pertm       3   \n117444                               Good value for money       4   \n117445      His legs to look very neat that goes on foot.       4   \n117446                              BRG ok..cantik lipez.       5   \n117447  Like its more fit may be delivered late. I'm s...       3   \n\n                                             review_clean  \n0       [package, price, already, received, fast, deli...  \n1       [goods, have, to, be, in, good, condition., se...  \n2            [kapaditasnya, passable, bgt, ., thank, god]  \n3       [awesome, awesome, quality, of, goods, shipped...  \n4       [good, bye, but, have, not, i, go, to, hopeful...  \n...                                                   ...  \n117443                [motifny, bgs2, who, ordern, pertm]  \n117444                          [good, value, for, money]  \n117445  [his, legs, to, look, very, neat, that, goes, ...  \n117446                       [brg, ok., cantik, lipez, .]  \n117447  [like, its, more, fit, may, be, delivered, lat...  \n\n[117448 rows x 3 columns]",
      "text/html": "<div>\n<style scoped>\n    .dataframe tbody tr th:only-of-type {\n        vertical-align: middle;\n    }\n\n    .dataframe tbody tr th {\n        vertical-align: top;\n    }\n\n    .dataframe thead th {\n        text-align: right;\n    }\n</style>\n<table border=\"1\" class=\"dataframe\">\n  <thead>\n    <tr style=\"text-align: right;\">\n      <th></th>\n      <th>review</th>\n      <th>rating</th>\n      <th>review_clean</th>\n    </tr>\n  </thead>\n  <tbody>\n    <tr>\n      <th>0</th>\n      <td>Package price already received fast delivery m...</td>\n      <td>4</td>\n      <td>[package, price, already, received, fast, deli...</td>\n    </tr>\n    <tr>\n      <th>1</th>\n      <td>Goods have to be in good condition. Sellsr fas...</td>\n      <td>4</td>\n      <td>[goods, have, to, be, in, good, condition., se...</td>\n    </tr>\n    <tr>\n      <th>2</th>\n      <td>kapaditasnya passable bgt .. thank God</td>\n      <td>4</td>\n      <td>[kapaditasnya, passable, bgt, ., thank, god]</td>\n    </tr>\n    <tr>\n      <th>3</th>\n      <td>Awesome awesome quality of goods shipped spee...</td>\n      <td>5</td>\n      <td>[awesome, awesome, quality, of, goods, shipped...</td>\n    </tr>\n    <tr>\n      <th>4</th>\n      <td>Good bye but have not I go to hopefully cut no...</td>\n      <td>4</td>\n      <td>[good, bye, but, have, not, i, go, to, hopeful...</td>\n    </tr>\n    <tr>\n      <th>...</th>\n      <td>...</td>\n      <td>...</td>\n      <td>...</td>\n    </tr>\n    <tr>\n      <th>117443</th>\n      <td>Motifny bgs2 who ordern pertm</td>\n      <td>3</td>\n      <td>[motifny, bgs2, who, ordern, pertm]</td>\n    </tr>\n    <tr>\n      <th>117444</th>\n      <td>Good value for money</td>\n      <td>4</td>\n      <td>[good, value, for, money]</td>\n    </tr>\n    <tr>\n      <th>117445</th>\n      <td>His legs to look very neat that goes on foot.</td>\n      <td>4</td>\n      <td>[his, legs, to, look, very, neat, that, goes, ...</td>\n    </tr>\n    <tr>\n      <th>117446</th>\n      <td>BRG ok..cantik lipez.</td>\n      <td>5</td>\n      <td>[brg, ok., cantik, lipez, .]</td>\n    </tr>\n    <tr>\n      <th>117447</th>\n      <td>Like its more fit may be delivered late. I'm s...</td>\n      <td>3</td>\n      <td>[like, its, more, fit, may, be, delivered, lat...</td>\n    </tr>\n  </tbody>\n</table>\n<p>117448 rows × 3 columns</p>\n</div>"
     },
     "metadata": {},
     "execution_count": 8
    }
   ],
   "source": [
    "train['review_clean'] = train['review_clean'].apply(mtk.tokenize)\n",
    "train"
   ]
  },
  {
   "cell_type": "code",
   "execution_count": 9,
   "metadata": {},
   "outputs": [
    {
     "output_type": "execute_result",
     "data": {
      "text/plain": "                                                   review  rating  \\\n5929    Shop packaged boring. Dented distortion of all...       1   \n74590                      Response From good seller SIPP       4   \n36127   order items until 03/18/19 11/03/19 Although t...       2   \n46375   Fast delivery Packing sure best performance, b...       4   \n29802           Good value for money Good product quality       5   \n109250                           Very memuaskn mbak Mksih       4   \n67433   Good quality good price everything is complete...       2   \n43527                     don't like order from this shop       1   \n46867   I'm not certain ... its nice fabric. This arm ...       3   \n92766   cpt passable delivery and good packing. good r...       3   \n\n                                             review_clean  \n5929    [shop, packaged, boring., dented, distortion, ...  \n74590                [response, from, good, seller, sipp]  \n36127   [order, items, until, 03, /, 18, /, 19, 11, /,...  \n46375   [fast, delivery, packing, sure, best, performa...  \n29802   [good, value, for, money, good, product, quality]  \n109250                      [very, memuaskn, mbak, mksih]  \n67433   [good, quality, good, price, everything, is, c...  \n43527       [don, &apos;t, like, order, from, this, shop]  \n46867   [i, &apos;m, not, certain, ., its, nice, fabri...  \n92766   [cpt, passable, delivery, and, good, packing.,...  ",
      "text/html": "<div>\n<style scoped>\n    .dataframe tbody tr th:only-of-type {\n        vertical-align: middle;\n    }\n\n    .dataframe tbody tr th {\n        vertical-align: top;\n    }\n\n    .dataframe thead th {\n        text-align: right;\n    }\n</style>\n<table border=\"1\" class=\"dataframe\">\n  <thead>\n    <tr style=\"text-align: right;\">\n      <th></th>\n      <th>review</th>\n      <th>rating</th>\n      <th>review_clean</th>\n    </tr>\n  </thead>\n  <tbody>\n    <tr>\n      <th>5929</th>\n      <td>Shop packaged boring. Dented distortion of all...</td>\n      <td>1</td>\n      <td>[shop, packaged, boring., dented, distortion, ...</td>\n    </tr>\n    <tr>\n      <th>74590</th>\n      <td>Response From good seller SIPP</td>\n      <td>4</td>\n      <td>[response, from, good, seller, sipp]</td>\n    </tr>\n    <tr>\n      <th>36127</th>\n      <td>order items until 03/18/19 11/03/19 Although t...</td>\n      <td>2</td>\n      <td>[order, items, until, 03, /, 18, /, 19, 11, /,...</td>\n    </tr>\n    <tr>\n      <th>46375</th>\n      <td>Fast delivery Packing sure best performance, b...</td>\n      <td>4</td>\n      <td>[fast, delivery, packing, sure, best, performa...</td>\n    </tr>\n    <tr>\n      <th>29802</th>\n      <td>Good value for money Good product quality</td>\n      <td>5</td>\n      <td>[good, value, for, money, good, product, quality]</td>\n    </tr>\n    <tr>\n      <th>109250</th>\n      <td>Very memuaskn mbak Mksih</td>\n      <td>4</td>\n      <td>[very, memuaskn, mbak, mksih]</td>\n    </tr>\n    <tr>\n      <th>67433</th>\n      <td>Good quality good price everything is complete...</td>\n      <td>2</td>\n      <td>[good, quality, good, price, everything, is, c...</td>\n    </tr>\n    <tr>\n      <th>43527</th>\n      <td>don't like order from this shop</td>\n      <td>1</td>\n      <td>[don, &amp;apos;t, like, order, from, this, shop]</td>\n    </tr>\n    <tr>\n      <th>46867</th>\n      <td>I'm not certain ... its nice fabric. This arm ...</td>\n      <td>3</td>\n      <td>[i, &amp;apos;m, not, certain, ., its, nice, fabri...</td>\n    </tr>\n    <tr>\n      <th>92766</th>\n      <td>cpt passable delivery and good packing. good r...</td>\n      <td>3</td>\n      <td>[cpt, passable, delivery, and, good, packing.,...</td>\n    </tr>\n  </tbody>\n</table>\n</div>"
     },
     "metadata": {},
     "execution_count": 9
    }
   ],
   "source": [
    "train.sample(10)"
   ]
  },
  {
   "cell_type": "code",
   "execution_count": 10,
   "metadata": {},
   "outputs": [
    {
     "output_type": "execute_result",
     "data": {
      "text/plain": "                                                  review  rating  \\\n0       But I have put a call saying I'm not hearing it.       1   \n1      Excellent product quality, use makeup remover ...       5   \n2      good stuff as reply expected pengirimanya also...       5   \n3      Fast delivery, goods accordingly. Not mengecaw...       3   \n4      Thank you very much min. Payetnya beautiful, g...       5   \n...                                                  ...     ...   \n29358                        Speed ​​of delivery is good       1   \n29359  the second time the order has reached prodak l...       3   \n29360   Item shipped immediately !!! Will order again :)       5   \n29361   The product quality is excellent. The origina...       4   \n29362   Awesome awesome speed of the ship's delivery ...       4   \n\n                                            review_clean  \n0      [but, i, have, put, a, call, saying, i, &apos;...  \n1      [excellent, product, quality., use, makeup, re...  \n2      [good, stuff, as, reply, expected, pengirimany...  \n3      [fast, delivery., goods, accordingly., not, me...  \n4      [thank, you, very, much, min., payetnya, beaut...  \n...                                                  ...  \n29358              [speed, ​, ​, of, delivery, is, good]  \n29359  [the, second, time, the, order, has, reached, ...  \n29360  [item, shipped, immediately, ., will, order, a...  \n29361  [the, product, quality, is, excellent., the, o...  \n29362  [awesome, awesome, speed, of, the, ship, &apos...  \n\n[29363 rows x 3 columns]",
      "text/html": "<div>\n<style scoped>\n    .dataframe tbody tr th:only-of-type {\n        vertical-align: middle;\n    }\n\n    .dataframe tbody tr th {\n        vertical-align: top;\n    }\n\n    .dataframe thead th {\n        text-align: right;\n    }\n</style>\n<table border=\"1\" class=\"dataframe\">\n  <thead>\n    <tr style=\"text-align: right;\">\n      <th></th>\n      <th>review</th>\n      <th>rating</th>\n      <th>review_clean</th>\n    </tr>\n  </thead>\n  <tbody>\n    <tr>\n      <th>0</th>\n      <td>But I have put a call saying I'm not hearing it.</td>\n      <td>1</td>\n      <td>[but, i, have, put, a, call, saying, i, &amp;apos;...</td>\n    </tr>\n    <tr>\n      <th>1</th>\n      <td>Excellent product quality, use makeup remover ...</td>\n      <td>5</td>\n      <td>[excellent, product, quality., use, makeup, re...</td>\n    </tr>\n    <tr>\n      <th>2</th>\n      <td>good stuff as reply expected pengirimanya also...</td>\n      <td>5</td>\n      <td>[good, stuff, as, reply, expected, pengirimany...</td>\n    </tr>\n    <tr>\n      <th>3</th>\n      <td>Fast delivery, goods accordingly. Not mengecaw...</td>\n      <td>3</td>\n      <td>[fast, delivery., goods, accordingly., not, me...</td>\n    </tr>\n    <tr>\n      <th>4</th>\n      <td>Thank you very much min. Payetnya beautiful, g...</td>\n      <td>5</td>\n      <td>[thank, you, very, much, min., payetnya, beaut...</td>\n    </tr>\n    <tr>\n      <th>...</th>\n      <td>...</td>\n      <td>...</td>\n      <td>...</td>\n    </tr>\n    <tr>\n      <th>29358</th>\n      <td>Speed ​​of delivery is good</td>\n      <td>1</td>\n      <td>[speed, ​, ​, of, delivery, is, good]</td>\n    </tr>\n    <tr>\n      <th>29359</th>\n      <td>the second time the order has reached prodak l...</td>\n      <td>3</td>\n      <td>[the, second, time, the, order, has, reached, ...</td>\n    </tr>\n    <tr>\n      <th>29360</th>\n      <td>Item shipped immediately !!! Will order again :)</td>\n      <td>5</td>\n      <td>[item, shipped, immediately, ., will, order, a...</td>\n    </tr>\n    <tr>\n      <th>29361</th>\n      <td>The product quality is excellent. The origina...</td>\n      <td>4</td>\n      <td>[the, product, quality, is, excellent., the, o...</td>\n    </tr>\n    <tr>\n      <th>29362</th>\n      <td>Awesome awesome speed of the ship's delivery ...</td>\n      <td>4</td>\n      <td>[awesome, awesome, speed, of, the, ship, &amp;apos...</td>\n    </tr>\n  </tbody>\n</table>\n<p>29363 rows × 3 columns</p>\n</div>"
     },
     "metadata": {},
     "execution_count": 10
    }
   ],
   "source": [
    "def clean(series):\n",
    "    series = series.str.lower()\n",
    "\n",
    "    series = series.str.replace(r'’', '\\'')\n",
    "    series = series.str.replace(r'#[a-z]+', ' ')\n",
    "    series = series.str.replace(r'@[a-z]+', ' ')\n",
    "    series = series.str.replace(r'[\\+\\*=@#<>\\(\\)\\[\\]\\^_]+', ' ')\n",
    "    series = series.str.replace(r'[,!?;.:]+', '. ')\n",
    "\n",
    "    series = series.apply(mtk.tokenize)\n",
    "\n",
    "    return series\n",
    "\n",
    "val['review_clean'] = clean(val['review'])\n",
    "val"
   ]
  },
  {
   "cell_type": "code",
   "execution_count": 14,
   "metadata": {},
   "outputs": [
    {
     "output_type": "execute_result",
     "data": {
      "text/plain": "                                                   review  rating  \\\n0       Package price already received fast delivery m...       4   \n1       Goods have to be in good condition. Sellsr fas...       4   \n2                  kapaditasnya passable bgt .. thank God       4   \n3        Awesome awesome quality of goods shipped spee...       5   \n4       Good bye but have not I go to hopefully cut no...       4   \n...                                                   ...     ...   \n117443                      Motifny bgs2 who ordern pertm       3   \n117444                               Good value for money       4   \n117445      His legs to look very neat that goes on foot.       4   \n117446                              BRG ok..cantik lipez.       5   \n117447  Like its more fit may be delivered late. I'm s...       3   \n\n                                             review_clean  \\\n0       [package, price, already, received, fast, deli...   \n1       [goods, have, to, be, in, good, condition., se...   \n2            [kapaditasnya, passable, bgt, ., thank, god]   \n3       [awesome, awesome, quality, of, goods, shipped...   \n4       [good, bye, but, have, not, i, go, to, hopeful...   \n...                                                   ...   \n117443                [motifny, bgs2, who, ordern, pertm]   \n117444                          [good, value, for, money]   \n117445  [his, legs, to, look, very, neat, that, goes, ...   \n117446                       [brg, ok., cantik, lipez, .]   \n117447  [like, its, more, fit, may, be, delivered, lat...   \n\n                                                 fasttext  \n0       __label__4 package price already received fast...  \n1       __label__4 goods have to be in good condition....  \n2        __label__4 kapaditasnya passable bgt . thank god  \n3       __label__5 awesome awesome quality of goods sh...  \n4       __label__4 good bye but have not i go to hopef...  \n...                                                   ...  \n117443           __label__3 motifny bgs2 who ordern pertm  \n117444                    __label__4 good value for money  \n117445  __label__4 his legs to look very neat that goe...  \n117446                  __label__5 brg ok. cantik lipez .  \n117447  __label__3 like its more fit may be delivered ...  \n\n[117448 rows x 4 columns]",
      "text/html": "<div>\n<style scoped>\n    .dataframe tbody tr th:only-of-type {\n        vertical-align: middle;\n    }\n\n    .dataframe tbody tr th {\n        vertical-align: top;\n    }\n\n    .dataframe thead th {\n        text-align: right;\n    }\n</style>\n<table border=\"1\" class=\"dataframe\">\n  <thead>\n    <tr style=\"text-align: right;\">\n      <th></th>\n      <th>review</th>\n      <th>rating</th>\n      <th>review_clean</th>\n      <th>fasttext</th>\n    </tr>\n  </thead>\n  <tbody>\n    <tr>\n      <th>0</th>\n      <td>Package price already received fast delivery m...</td>\n      <td>4</td>\n      <td>[package, price, already, received, fast, deli...</td>\n      <td>__label__4 package price already received fast...</td>\n    </tr>\n    <tr>\n      <th>1</th>\n      <td>Goods have to be in good condition. Sellsr fas...</td>\n      <td>4</td>\n      <td>[goods, have, to, be, in, good, condition., se...</td>\n      <td>__label__4 goods have to be in good condition....</td>\n    </tr>\n    <tr>\n      <th>2</th>\n      <td>kapaditasnya passable bgt .. thank God</td>\n      <td>4</td>\n      <td>[kapaditasnya, passable, bgt, ., thank, god]</td>\n      <td>__label__4 kapaditasnya passable bgt . thank god</td>\n    </tr>\n    <tr>\n      <th>3</th>\n      <td>Awesome awesome quality of goods shipped spee...</td>\n      <td>5</td>\n      <td>[awesome, awesome, quality, of, goods, shipped...</td>\n      <td>__label__5 awesome awesome quality of goods sh...</td>\n    </tr>\n    <tr>\n      <th>4</th>\n      <td>Good bye but have not I go to hopefully cut no...</td>\n      <td>4</td>\n      <td>[good, bye, but, have, not, i, go, to, hopeful...</td>\n      <td>__label__4 good bye but have not i go to hopef...</td>\n    </tr>\n    <tr>\n      <th>...</th>\n      <td>...</td>\n      <td>...</td>\n      <td>...</td>\n      <td>...</td>\n    </tr>\n    <tr>\n      <th>117443</th>\n      <td>Motifny bgs2 who ordern pertm</td>\n      <td>3</td>\n      <td>[motifny, bgs2, who, ordern, pertm]</td>\n      <td>__label__3 motifny bgs2 who ordern pertm</td>\n    </tr>\n    <tr>\n      <th>117444</th>\n      <td>Good value for money</td>\n      <td>4</td>\n      <td>[good, value, for, money]</td>\n      <td>__label__4 good value for money</td>\n    </tr>\n    <tr>\n      <th>117445</th>\n      <td>His legs to look very neat that goes on foot.</td>\n      <td>4</td>\n      <td>[his, legs, to, look, very, neat, that, goes, ...</td>\n      <td>__label__4 his legs to look very neat that goe...</td>\n    </tr>\n    <tr>\n      <th>117446</th>\n      <td>BRG ok..cantik lipez.</td>\n      <td>5</td>\n      <td>[brg, ok., cantik, lipez, .]</td>\n      <td>__label__5 brg ok. cantik lipez .</td>\n    </tr>\n    <tr>\n      <th>117447</th>\n      <td>Like its more fit may be delivered late. I'm s...</td>\n      <td>3</td>\n      <td>[like, its, more, fit, may, be, delivered, lat...</td>\n      <td>__label__3 like its more fit may be delivered ...</td>\n    </tr>\n  </tbody>\n</table>\n<p>117448 rows × 4 columns</p>\n</div>"
     },
     "metadata": {},
     "execution_count": 14
    }
   ],
   "source": [
    "def export_fasttext(tokens, rating):\n",
    "    return '__label__' + rating.astype(str) + ' ' + tokens.str.join(' ')\n",
    "\n",
    "train['fasttext'] = export_fasttext(train['review_clean'], train['rating'])\n",
    "val['fasttext'] = export_fasttext(val['review_clean'], val['rating'])\n",
    "train"
   ]
  },
  {
   "cell_type": "code",
   "execution_count": 15,
   "metadata": {},
   "outputs": [],
   "source": [
    "train['fasttext'].to_csv('train_fasttext.csv', index=False, header=False)\n",
    "val['fasttext'].to_csv('val_fasttext.csv', index=False, header=False)"
   ]
  },
  {
   "cell_type": "code",
   "execution_count": null,
   "metadata": {},
   "outputs": [],
   "source": []
  }
 ]
}