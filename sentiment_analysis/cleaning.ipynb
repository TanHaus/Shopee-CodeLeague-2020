{
 "metadata": {
  "language_info": {
   "codemirror_mode": {
    "name": "ipython",
    "version": 3
   },
   "file_extension": ".py",
   "mimetype": "text/x-python",
   "name": "python",
   "nbconvert_exporter": "python",
   "pygments_lexer": "ipython3",
   "version": 3
  },
  "orig_nbformat": 2,
  "kernelspec": {
   "name": "python_defaultSpec_1596307623707",
   "display_name": "Python 3.7.6 64-bit ('anaconda3': conda)"
  }
 },
 "nbformat": 4,
 "nbformat_minor": 2,
 "cells": [
  {
   "cell_type": "code",
   "execution_count": 1,
   "metadata": {},
   "outputs": [],
   "source": [
    "import string\n",
    "import re\n",
    "\n",
    "import pandas as pd\n",
    "\n",
    "import nltk\n",
    "from nltk.corpus import stopwords\n",
    "\n",
    "import emoji"
   ]
  },
  {
   "cell_type": "markdown",
   "metadata": {},
   "source": [
    "Download packages for NLTK"
   ]
  },
  {
   "cell_type": "code",
   "execution_count": 2,
   "metadata": {
    "tags": []
   },
   "outputs": [
    {
     "output_type": "stream",
     "name": "stderr",
     "text": "[nltk_data] Downloading collection 'popular'\n[nltk_data]    | \n[nltk_data]    | Downloading package cmudict to\n[nltk_data]    |     /home/students/student11_5/nltk_data...\n[nltk_data]    |   Package cmudict is already up-to-date!\n[nltk_data]    | Downloading package gazetteers to\n[nltk_data]    |     /home/students/student11_5/nltk_data...\n[nltk_data]    |   Package gazetteers is already up-to-date!\n[nltk_data]    | Downloading package genesis to\n[nltk_data]    |     /home/students/student11_5/nltk_data...\n[nltk_data]    |   Package genesis is already up-to-date!\n[nltk_data]    | Downloading package gutenberg to\n[nltk_data]    |     /home/students/student11_5/nltk_data...\n[nltk_data]    |   Package gutenberg is already up-to-date!\n[nltk_data]    | Downloading package inaugural to\n[nltk_data]    |     /home/students/student11_5/nltk_data...\n[nltk_data]    |   Package inaugural is already up-to-date!\n[nltk_data]    | Downloading package movie_reviews to\n[nltk_data]    |     /home/students/student11_5/nltk_data...\n[nltk_data]    |   Package movie_reviews is already up-to-date!\n[nltk_data]    | Downloading package names to\n[nltk_data]    |     /home/students/student11_5/nltk_data...\n[nltk_data]    |   Package names is already up-to-date!\n[nltk_data]    | Downloading package shakespeare to\n[nltk_data]    |     /home/students/student11_5/nltk_data...\n[nltk_data]    |   Package shakespeare is already up-to-date!\n[nltk_data]    | Downloading package stopwords to\n[nltk_data]    |     /home/students/student11_5/nltk_data...\n[nltk_data]    |   Package stopwords is already up-to-date!\n[nltk_data]    | Downloading package treebank to\n[nltk_data]    |     /home/students/student11_5/nltk_data...\n[nltk_data]    |   Package treebank is already up-to-date!\n[nltk_data]    | Downloading package twitter_samples to\n[nltk_data]    |     /home/students/student11_5/nltk_data...\n[nltk_data]    |   Package twitter_samples is already up-to-date!\n[nltk_data]    | Downloading package omw to\n[nltk_data]    |     /home/students/student11_5/nltk_data...\n[nltk_data]    |   Package omw is already up-to-date!\n[nltk_data]    | Downloading package wordnet to\n[nltk_data]    |     /home/students/student11_5/nltk_data...\n[nltk_data]    |   Package wordnet is already up-to-date!\n[nltk_data]    | Downloading package wordnet_ic to\n[nltk_data]    |     /home/students/student11_5/nltk_data...\n[nltk_data]    |   Package wordnet_ic is already up-to-date!\n[nltk_data]    | Downloading package words to\n[nltk_data]    |     /home/students/student11_5/nltk_data...\n[nltk_data]    |   Package words is already up-to-date!\n[nltk_data]    | Downloading package maxent_ne_chunker to\n[nltk_data]    |     /home/students/student11_5/nltk_data...\n[nltk_data]    |   Package maxent_ne_chunker is already up-to-date!\n[nltk_data]    | Downloading package punkt to\n[nltk_data]    |     /home/students/student11_5/nltk_data...\n[nltk_data]    |   Package punkt is already up-to-date!\n[nltk_data]    | Downloading package snowball_data to\n[nltk_data]    |     /home/students/student11_5/nltk_data...\n[nltk_data]    |   Package snowball_data is already up-to-date!\n[nltk_data]    | Downloading package averaged_perceptron_tagger to\n[nltk_data]    |     /home/students/student11_5/nltk_data...\n[nltk_data]    |   Package averaged_perceptron_tagger is already up-\n[nltk_data]    |       to-date!\n[nltk_data]    | \n[nltk_data]  Done downloading collection popular\n"
    },
    {
     "output_type": "execute_result",
     "data": {
      "text/plain": "True"
     },
     "metadata": {},
     "execution_count": 2
    }
   ],
   "source": [
    "nltk.download('popular')"
   ]
  },
  {
   "cell_type": "markdown",
   "metadata": {},
   "source": [
    "Get English stopwords and emoji regex"
   ]
  },
  {
   "cell_type": "code",
   "execution_count": 3,
   "metadata": {},
   "outputs": [],
   "source": [
    "en_stopwords = stopwords.words('english')\n",
    "emoji_regex = emoji.get_emoji_regexp()"
   ]
  },
  {
   "cell_type": "markdown",
   "metadata": {},
   "source": [
    "## Import data\n",
    "\n",
    "There are around 30k duplicates"
   ]
  },
  {
   "cell_type": "code",
   "execution_count": 4,
   "metadata": {},
   "outputs": [
    {
     "output_type": "execute_result",
     "data": {
      "text/plain": "        review_id                                             review  rating\n0               0  Ga disappointed neat products .. Meletot Hilsn...       1\n1               1    Rdtanya replace broken glass, broken chargernya       1\n2               2  Nyesel bngt dsni shopping antecedent photo mes...       1\n3               3      Sent a light blue suit goods ga want a refund       1\n4               4  Pendants came with dents and scratches on its ...       1\n...           ...                                                ...     ...\n146804     146804   Excellent quality Excellent quality Very acco...       5\n146806     146806  Excellent product quality delivery speed is ve...       5\n146807     146807                                         thanks gan       5\n146808     146808   Awesome awesome quality merchandise value CP ...       5\n146809     146809  Nice Packing boxes made effective price .........       5\n\n[116886 rows x 3 columns]",
      "text/html": "<div>\n<style scoped>\n    .dataframe tbody tr th:only-of-type {\n        vertical-align: middle;\n    }\n\n    .dataframe tbody tr th {\n        vertical-align: top;\n    }\n\n    .dataframe thead th {\n        text-align: right;\n    }\n</style>\n<table border=\"1\" class=\"dataframe\">\n  <thead>\n    <tr style=\"text-align: right;\">\n      <th></th>\n      <th>review_id</th>\n      <th>review</th>\n      <th>rating</th>\n    </tr>\n  </thead>\n  <tbody>\n    <tr>\n      <th>0</th>\n      <td>0</td>\n      <td>Ga disappointed neat products .. Meletot Hilsn...</td>\n      <td>1</td>\n    </tr>\n    <tr>\n      <th>1</th>\n      <td>1</td>\n      <td>Rdtanya replace broken glass, broken chargernya</td>\n      <td>1</td>\n    </tr>\n    <tr>\n      <th>2</th>\n      <td>2</td>\n      <td>Nyesel bngt dsni shopping antecedent photo mes...</td>\n      <td>1</td>\n    </tr>\n    <tr>\n      <th>3</th>\n      <td>3</td>\n      <td>Sent a light blue suit goods ga want a refund</td>\n      <td>1</td>\n    </tr>\n    <tr>\n      <th>4</th>\n      <td>4</td>\n      <td>Pendants came with dents and scratches on its ...</td>\n      <td>1</td>\n    </tr>\n    <tr>\n      <th>...</th>\n      <td>...</td>\n      <td>...</td>\n      <td>...</td>\n    </tr>\n    <tr>\n      <th>146804</th>\n      <td>146804</td>\n      <td>Excellent quality Excellent quality Very acco...</td>\n      <td>5</td>\n    </tr>\n    <tr>\n      <th>146806</th>\n      <td>146806</td>\n      <td>Excellent product quality delivery speed is ve...</td>\n      <td>5</td>\n    </tr>\n    <tr>\n      <th>146807</th>\n      <td>146807</td>\n      <td>thanks gan</td>\n      <td>5</td>\n    </tr>\n    <tr>\n      <th>146808</th>\n      <td>146808</td>\n      <td>Awesome awesome quality merchandise value CP ...</td>\n      <td>5</td>\n    </tr>\n    <tr>\n      <th>146809</th>\n      <td>146809</td>\n      <td>Nice Packing boxes made effective price .........</td>\n      <td>5</td>\n    </tr>\n  </tbody>\n</table>\n<p>116886 rows × 3 columns</p>\n</div>"
     },
     "metadata": {},
     "execution_count": 4
    }
   ],
   "source": [
    "train = pd.read_csv('train.csv')\n",
    "train = train.drop_duplicates(['review', 'rating'])\n",
    "test = pd.read_csv('test.csv')\n",
    "\n",
    "train"
   ]
  },
  {
   "cell_type": "markdown",
   "metadata": {},
   "source": [
    "## Clean data"
   ]
  },
  {
   "cell_type": "code",
   "execution_count": 5,
   "metadata": {},
   "outputs": [
    {
     "output_type": "execute_result",
     "data": {
      "text/plain": "'!\"#$%&\\'()*+,-./:;<=>?@[\\\\]^_`{|}~'"
     },
     "metadata": {},
     "execution_count": 5
    }
   ],
   "source": [
    "string.punctuation"
   ]
  },
  {
   "cell_type": "markdown",
   "metadata": {},
   "source": [
    "- Punctuations that likely won't impact the sentiment `+*`\n",
    "- Remove hashtag `#[a-z]+`\n",
    "- Remove mention `@[a-z]+`\n",
    "- Remove hyperlinks `http.+`"
   ]
  },
  {
   "cell_type": "code",
   "execution_count": 6,
   "metadata": {},
   "outputs": [
    {
     "output_type": "execute_result",
     "data": {
      "text/plain": "        review_id                                             review  rating  \\\n0               0  Ga disappointed neat products .. Meletot Hilsn...       1   \n1               1    Rdtanya replace broken glass, broken chargernya       1   \n2               2  Nyesel bngt dsni shopping antecedent photo mes...       1   \n3               3      Sent a light blue suit goods ga want a refund       1   \n4               4  Pendants came with dents and scratches on its ...       1   \n...           ...                                                ...     ...   \n146804     146804   Excellent quality Excellent quality Very acco...       5   \n146806     146806  Excellent product quality delivery speed is ve...       5   \n146807     146807                                         thanks gan       5   \n146808     146808   Awesome awesome quality merchandise value CP ...       5   \n146809     146809  Nice Packing boxes made effective price .........       5   \n\n                                             review_clean  \n0       ga disappointed neat products .  meletot hilsn...  \n1        rdtanya replace broken glass.  broken chargernya  \n2       nyesel bngt dsni shopping antecedent photo mes...  \n3           sent a light blue suit goods ga want a refund  \n4       pendants came with dents and scratches on its ...  \n...                                                   ...  \n146804   excellent quality excellent quality very acco...  \n146806  excellent product quality delivery speed is ve...  \n146807                                         thanks gan  \n146808   awesome awesome quality merchandise value cp ...  \n146809  nice packing boxes made effective price .  .  ...  \n\n[116886 rows x 4 columns]",
      "text/html": "<div>\n<style scoped>\n    .dataframe tbody tr th:only-of-type {\n        vertical-align: middle;\n    }\n\n    .dataframe tbody tr th {\n        vertical-align: top;\n    }\n\n    .dataframe thead th {\n        text-align: right;\n    }\n</style>\n<table border=\"1\" class=\"dataframe\">\n  <thead>\n    <tr style=\"text-align: right;\">\n      <th></th>\n      <th>review_id</th>\n      <th>review</th>\n      <th>rating</th>\n      <th>review_clean</th>\n    </tr>\n  </thead>\n  <tbody>\n    <tr>\n      <th>0</th>\n      <td>0</td>\n      <td>Ga disappointed neat products .. Meletot Hilsn...</td>\n      <td>1</td>\n      <td>ga disappointed neat products .  meletot hilsn...</td>\n    </tr>\n    <tr>\n      <th>1</th>\n      <td>1</td>\n      <td>Rdtanya replace broken glass, broken chargernya</td>\n      <td>1</td>\n      <td>rdtanya replace broken glass.  broken chargernya</td>\n    </tr>\n    <tr>\n      <th>2</th>\n      <td>2</td>\n      <td>Nyesel bngt dsni shopping antecedent photo mes...</td>\n      <td>1</td>\n      <td>nyesel bngt dsni shopping antecedent photo mes...</td>\n    </tr>\n    <tr>\n      <th>3</th>\n      <td>3</td>\n      <td>Sent a light blue suit goods ga want a refund</td>\n      <td>1</td>\n      <td>sent a light blue suit goods ga want a refund</td>\n    </tr>\n    <tr>\n      <th>4</th>\n      <td>4</td>\n      <td>Pendants came with dents and scratches on its ...</td>\n      <td>1</td>\n      <td>pendants came with dents and scratches on its ...</td>\n    </tr>\n    <tr>\n      <th>...</th>\n      <td>...</td>\n      <td>...</td>\n      <td>...</td>\n      <td>...</td>\n    </tr>\n    <tr>\n      <th>146804</th>\n      <td>146804</td>\n      <td>Excellent quality Excellent quality Very acco...</td>\n      <td>5</td>\n      <td>excellent quality excellent quality very acco...</td>\n    </tr>\n    <tr>\n      <th>146806</th>\n      <td>146806</td>\n      <td>Excellent product quality delivery speed is ve...</td>\n      <td>5</td>\n      <td>excellent product quality delivery speed is ve...</td>\n    </tr>\n    <tr>\n      <th>146807</th>\n      <td>146807</td>\n      <td>thanks gan</td>\n      <td>5</td>\n      <td>thanks gan</td>\n    </tr>\n    <tr>\n      <th>146808</th>\n      <td>146808</td>\n      <td>Awesome awesome quality merchandise value CP ...</td>\n      <td>5</td>\n      <td>awesome awesome quality merchandise value cp ...</td>\n    </tr>\n    <tr>\n      <th>146809</th>\n      <td>146809</td>\n      <td>Nice Packing boxes made effective price .........</td>\n      <td>5</td>\n      <td>nice packing boxes made effective price .  .  ...</td>\n    </tr>\n  </tbody>\n</table>\n<p>116886 rows × 4 columns</p>\n</div>"
     },
     "metadata": {},
     "execution_count": 6
    }
   ],
   "source": [
    "train['review_clean'] = train['review'].str.lower()\n",
    "\n",
    "train['review_clean'] = train['review_clean'].str.replace(r'’', '\\'')\n",
    "train['review_clean'] = train['review_clean'].str.replace(r'#[a-z]+', ' ')\n",
    "train['review_clean'] = train['review_clean'].str.replace(r'@[a-z]+', ' ')\n",
    "train['review_clean'] = train['review_clean'].str.replace(r'[\\+\\*=@#<>\\(\\)\\[\\]\\^_]+', ' ')\n",
    "train['review_clean'] = train['review_clean'].str.replace(r'[,!?;.:]+', '. ')\n",
    "\n",
    "# Remove some repeated words\n",
    "train['review_clean'] = train['review_clean'].str.replace(r'(other ){2,}', 'other ')\n",
    "train['review_clean'] = train['review_clean'].str.replace(r'(kg ){2,}', 'kg ')\n",
    "train['review_clean'] = train['review_clean'].str.replace(r'(mm ){2,}', 'mm ')\n",
    "train['review_clean'] = train['review_clean'].str.replace(r'(amount of ){2,}', 'amount of ')\n",
    "train['review_clean'] = train['review_clean'].str.replace(r'(good ){2,}', 'good ')\n",
    "train['review_clean'] = train['review_clean'].str.replace(r'(great ){2,}', 'great ')\n",
    "\n",
    "train"
   ]
  },
  {
   "cell_type": "markdown",
   "metadata": {},
   "source": [
    "View a few stopwords"
   ]
  },
  {
   "cell_type": "code",
   "execution_count": 7,
   "metadata": {},
   "outputs": [
    {
     "output_type": "execute_result",
     "data": {
      "text/plain": "['i', 'me', 'my', 'myself', 'we', 'our', 'ours', 'ourselves', 'you', \"you're\"]"
     },
     "metadata": {},
     "execution_count": 7
    }
   ],
   "source": [
    "en_stopwords[:10]"
   ]
  },
  {
   "cell_type": "code",
   "execution_count": 8,
   "metadata": {},
   "outputs": [
    {
     "output_type": "execute_result",
     "data": {
      "text/plain": "        review_id                                             review  rating  \\\n0               0  Ga disappointed neat products .. Meletot Hilsn...       1   \n1               1    Rdtanya replace broken glass, broken chargernya       1   \n2               2  Nyesel bngt dsni shopping antecedent photo mes...       1   \n3               3      Sent a light blue suit goods ga want a refund       1   \n4               4  Pendants came with dents and scratches on its ...       1   \n...           ...                                                ...     ...   \n146804     146804   Excellent quality Excellent quality Very acco...       5   \n146806     146806  Excellent product quality delivery speed is ve...       5   \n146807     146807                                         thanks gan       5   \n146808     146808   Awesome awesome quality merchandise value CP ...       5   \n146809     146809  Nice Packing boxes made effective price .........       5   \n\n                                             review_clean  \n0       ga disappointed neat products . meletot hilsny...  \n1         rdtanya replace broken glass. broken chargernya  \n2       nyesel bngt dsni shopping antecedent photo mes...  \n3               sent light blue suit goods ga want refund  \n4       pendants came dents scratches surface. coating...  \n...                                                   ...  \n146804  excellent quality excellent quality accommodat...  \n146806  excellent product quality delivery speed good ...  \n146807                                         thanks gan  \n146808  awesome awesome quality merchandise value cp n...  \n146809  nice packing boxes made effective price . . fa...  \n\n[116886 rows x 4 columns]",
      "text/html": "<div>\n<style scoped>\n    .dataframe tbody tr th:only-of-type {\n        vertical-align: middle;\n    }\n\n    .dataframe tbody tr th {\n        vertical-align: top;\n    }\n\n    .dataframe thead th {\n        text-align: right;\n    }\n</style>\n<table border=\"1\" class=\"dataframe\">\n  <thead>\n    <tr style=\"text-align: right;\">\n      <th></th>\n      <th>review_id</th>\n      <th>review</th>\n      <th>rating</th>\n      <th>review_clean</th>\n    </tr>\n  </thead>\n  <tbody>\n    <tr>\n      <th>0</th>\n      <td>0</td>\n      <td>Ga disappointed neat products .. Meletot Hilsn...</td>\n      <td>1</td>\n      <td>ga disappointed neat products . meletot hilsny...</td>\n    </tr>\n    <tr>\n      <th>1</th>\n      <td>1</td>\n      <td>Rdtanya replace broken glass, broken chargernya</td>\n      <td>1</td>\n      <td>rdtanya replace broken glass. broken chargernya</td>\n    </tr>\n    <tr>\n      <th>2</th>\n      <td>2</td>\n      <td>Nyesel bngt dsni shopping antecedent photo mes...</td>\n      <td>1</td>\n      <td>nyesel bngt dsni shopping antecedent photo mes...</td>\n    </tr>\n    <tr>\n      <th>3</th>\n      <td>3</td>\n      <td>Sent a light blue suit goods ga want a refund</td>\n      <td>1</td>\n      <td>sent light blue suit goods ga want refund</td>\n    </tr>\n    <tr>\n      <th>4</th>\n      <td>4</td>\n      <td>Pendants came with dents and scratches on its ...</td>\n      <td>1</td>\n      <td>pendants came dents scratches surface. coating...</td>\n    </tr>\n    <tr>\n      <th>...</th>\n      <td>...</td>\n      <td>...</td>\n      <td>...</td>\n      <td>...</td>\n    </tr>\n    <tr>\n      <th>146804</th>\n      <td>146804</td>\n      <td>Excellent quality Excellent quality Very acco...</td>\n      <td>5</td>\n      <td>excellent quality excellent quality accommodat...</td>\n    </tr>\n    <tr>\n      <th>146806</th>\n      <td>146806</td>\n      <td>Excellent product quality delivery speed is ve...</td>\n      <td>5</td>\n      <td>excellent product quality delivery speed good ...</td>\n    </tr>\n    <tr>\n      <th>146807</th>\n      <td>146807</td>\n      <td>thanks gan</td>\n      <td>5</td>\n      <td>thanks gan</td>\n    </tr>\n    <tr>\n      <th>146808</th>\n      <td>146808</td>\n      <td>Awesome awesome quality merchandise value CP ...</td>\n      <td>5</td>\n      <td>awesome awesome quality merchandise value cp n...</td>\n    </tr>\n    <tr>\n      <th>146809</th>\n      <td>146809</td>\n      <td>Nice Packing boxes made effective price .........</td>\n      <td>5</td>\n      <td>nice packing boxes made effective price . . fa...</td>\n    </tr>\n  </tbody>\n</table>\n<p>116886 rows × 4 columns</p>\n</div>"
     },
     "metadata": {},
     "execution_count": 8
    }
   ],
   "source": [
    "def remove_stopwords(sentence):\n",
    "    tokens = sentence.split()\n",
    "    tokens = [token for token in tokens if token not in en_stopwords]\n",
    "    return \" \".join(tokens)\n",
    "\n",
    "train['review_clean'] = train['review_clean'].apply(remove_stopwords)\n",
    "train"
   ]
  },
  {
   "cell_type": "markdown",
   "metadata": {},
   "source": [
    "Remove all rows that have nothing left (after removing stopwords)"
   ]
  },
  {
   "cell_type": "code",
   "execution_count": 9,
   "metadata": {},
   "outputs": [
    {
     "output_type": "execute_result",
     "data": {
      "text/plain": "        review_id                                             review  rating  \\\n0               0  Ga disappointed neat products .. Meletot Hilsn...       1   \n1               1    Rdtanya replace broken glass, broken chargernya       1   \n2               2  Nyesel bngt dsni shopping antecedent photo mes...       1   \n3               3      Sent a light blue suit goods ga want a refund       1   \n4               4  Pendants came with dents and scratches on its ...       1   \n...           ...                                                ...     ...   \n146804     146804   Excellent quality Excellent quality Very acco...       5   \n146806     146806  Excellent product quality delivery speed is ve...       5   \n146807     146807                                         thanks gan       5   \n146808     146808   Awesome awesome quality merchandise value CP ...       5   \n146809     146809  Nice Packing boxes made effective price .........       5   \n\n                                             review_clean  \n0       ga disappointed neat products . meletot hilsny...  \n1         rdtanya replace broken glass. broken chargernya  \n2       nyesel bngt dsni shopping antecedent photo mes...  \n3               sent light blue suit goods ga want refund  \n4       pendants came dents scratches surface. coating...  \n...                                                   ...  \n146804  excellent quality excellent quality accommodat...  \n146806  excellent product quality delivery speed good ...  \n146807                                         thanks gan  \n146808  awesome awesome quality merchandise value cp n...  \n146809  nice packing boxes made effective price . . fa...  \n\n[116878 rows x 4 columns]",
      "text/html": "<div>\n<style scoped>\n    .dataframe tbody tr th:only-of-type {\n        vertical-align: middle;\n    }\n\n    .dataframe tbody tr th {\n        vertical-align: top;\n    }\n\n    .dataframe thead th {\n        text-align: right;\n    }\n</style>\n<table border=\"1\" class=\"dataframe\">\n  <thead>\n    <tr style=\"text-align: right;\">\n      <th></th>\n      <th>review_id</th>\n      <th>review</th>\n      <th>rating</th>\n      <th>review_clean</th>\n    </tr>\n  </thead>\n  <tbody>\n    <tr>\n      <th>0</th>\n      <td>0</td>\n      <td>Ga disappointed neat products .. Meletot Hilsn...</td>\n      <td>1</td>\n      <td>ga disappointed neat products . meletot hilsny...</td>\n    </tr>\n    <tr>\n      <th>1</th>\n      <td>1</td>\n      <td>Rdtanya replace broken glass, broken chargernya</td>\n      <td>1</td>\n      <td>rdtanya replace broken glass. broken chargernya</td>\n    </tr>\n    <tr>\n      <th>2</th>\n      <td>2</td>\n      <td>Nyesel bngt dsni shopping antecedent photo mes...</td>\n      <td>1</td>\n      <td>nyesel bngt dsni shopping antecedent photo mes...</td>\n    </tr>\n    <tr>\n      <th>3</th>\n      <td>3</td>\n      <td>Sent a light blue suit goods ga want a refund</td>\n      <td>1</td>\n      <td>sent light blue suit goods ga want refund</td>\n    </tr>\n    <tr>\n      <th>4</th>\n      <td>4</td>\n      <td>Pendants came with dents and scratches on its ...</td>\n      <td>1</td>\n      <td>pendants came dents scratches surface. coating...</td>\n    </tr>\n    <tr>\n      <th>...</th>\n      <td>...</td>\n      <td>...</td>\n      <td>...</td>\n      <td>...</td>\n    </tr>\n    <tr>\n      <th>146804</th>\n      <td>146804</td>\n      <td>Excellent quality Excellent quality Very acco...</td>\n      <td>5</td>\n      <td>excellent quality excellent quality accommodat...</td>\n    </tr>\n    <tr>\n      <th>146806</th>\n      <td>146806</td>\n      <td>Excellent product quality delivery speed is ve...</td>\n      <td>5</td>\n      <td>excellent product quality delivery speed good ...</td>\n    </tr>\n    <tr>\n      <th>146807</th>\n      <td>146807</td>\n      <td>thanks gan</td>\n      <td>5</td>\n      <td>thanks gan</td>\n    </tr>\n    <tr>\n      <th>146808</th>\n      <td>146808</td>\n      <td>Awesome awesome quality merchandise value CP ...</td>\n      <td>5</td>\n      <td>awesome awesome quality merchandise value cp n...</td>\n    </tr>\n    <tr>\n      <th>146809</th>\n      <td>146809</td>\n      <td>Nice Packing boxes made effective price .........</td>\n      <td>5</td>\n      <td>nice packing boxes made effective price . . fa...</td>\n    </tr>\n  </tbody>\n</table>\n<p>116878 rows × 4 columns</p>\n</div>"
     },
     "metadata": {},
     "execution_count": 9
    }
   ],
   "source": [
    "train = train[train['review_clean'].astype(bool)]\n",
    "train"
   ]
  },
  {
   "cell_type": "markdown",
   "metadata": {},
   "source": [
    "Strategy to clean emojis:\n",
    "- Remove all emojis, only keep the first two\n",
    "- Convert the first two emojis into text"
   ]
  },
  {
   "cell_type": "code",
   "execution_count": 10,
   "metadata": {},
   "outputs": [
    {
     "output_type": "execute_result",
     "data": {
      "text/plain": "' cloud smiling_face_with_smiling_eyes '"
     },
     "metadata": {},
     "execution_count": 10
    }
   ],
   "source": [
    "def clean_emoji(sentence):\n",
    "    def convert_emoji(char): return emoji.demojize(char).replace(':', ' ')\n",
    "\n",
    "    emojis = list(re.finditer(emoji_regex, sentence))\n",
    "    \n",
    "    if len(emojis) == 0:\n",
    "        return sentence\n",
    "    \n",
    "    elif len(emojis) == 1:\n",
    "        first = emojis[0]\n",
    "        start1 = first.start(0)\n",
    "        end1 = first.end(0)\n",
    "        sentence = sentence[:start1] + convert_emoji(first.group(0)) + sentence[end1:]\n",
    "\n",
    "        return sentence\n",
    "        \n",
    "    first, second = emojis[:2]\n",
    "\n",
    "    start1 = first.start(0)\n",
    "    end1 = first.end(0)\n",
    "    start2 = second.start(0)\n",
    "    end2 = second.end(0)\n",
    "\n",
    "    sentence = sentence[:start1] + convert_emoji(first.group(0)) + sentence[end1:start2] + convert_emoji(second.group(0)) + sentence[end2:]\n",
    "    \n",
    "    sentence = re.sub(emoji_regex, \" \", sentence)\n",
    "    sentence = re.sub(r'\\s+', ' ', sentence)\n",
    "\n",
    "    return sentence\n",
    "\n",
    "sample = '☁😊☁☁😊☁😁☁ ☁😊☁☁😊☁☁☁ ☁😊😊😊😊☁😊☁ ☁😊☁☁😊☁😊☁ ☁😊☁☁😊☁😊☁ ☁'\n",
    "clean_emoji(sample)"
   ]
  },
  {
   "cell_type": "code",
   "execution_count": 11,
   "metadata": {},
   "outputs": [
    {
     "output_type": "execute_result",
     "data": {
      "text/plain": "        review_id                                             review  rating  \\\n0               0  Ga disappointed neat products .. Meletot Hilsn...       1   \n1               1    Rdtanya replace broken glass, broken chargernya       1   \n2               2  Nyesel bngt dsni shopping antecedent photo mes...       1   \n3               3      Sent a light blue suit goods ga want a refund       1   \n4               4  Pendants came with dents and scratches on its ...       1   \n...           ...                                                ...     ...   \n146804     146804   Excellent quality Excellent quality Very acco...       5   \n146806     146806  Excellent product quality delivery speed is ve...       5   \n146807     146807                                         thanks gan       5   \n146808     146808   Awesome awesome quality merchandise value CP ...       5   \n146809     146809  Nice Packing boxes made effective price .........       5   \n\n                                             review_clean  \n0       ga disappointed neat products . meletot hilsny...  \n1         rdtanya replace broken glass. broken chargernya  \n2       nyesel bngt dsni shopping antecedent photo mes...  \n3               sent light blue suit goods ga want refund  \n4       pendants came dents scratches surface. coating...  \n...                                                   ...  \n146804  excellent quality excellent quality accommodat...  \n146806  excellent product quality delivery speed good ...  \n146807                                         thanks gan  \n146808  awesome awesome quality merchandise value cp n...  \n146809  nice packing boxes made effective price . . fa...  \n\n[116878 rows x 4 columns]",
      "text/html": "<div>\n<style scoped>\n    .dataframe tbody tr th:only-of-type {\n        vertical-align: middle;\n    }\n\n    .dataframe tbody tr th {\n        vertical-align: top;\n    }\n\n    .dataframe thead th {\n        text-align: right;\n    }\n</style>\n<table border=\"1\" class=\"dataframe\">\n  <thead>\n    <tr style=\"text-align: right;\">\n      <th></th>\n      <th>review_id</th>\n      <th>review</th>\n      <th>rating</th>\n      <th>review_clean</th>\n    </tr>\n  </thead>\n  <tbody>\n    <tr>\n      <th>0</th>\n      <td>0</td>\n      <td>Ga disappointed neat products .. Meletot Hilsn...</td>\n      <td>1</td>\n      <td>ga disappointed neat products . meletot hilsny...</td>\n    </tr>\n    <tr>\n      <th>1</th>\n      <td>1</td>\n      <td>Rdtanya replace broken glass, broken chargernya</td>\n      <td>1</td>\n      <td>rdtanya replace broken glass. broken chargernya</td>\n    </tr>\n    <tr>\n      <th>2</th>\n      <td>2</td>\n      <td>Nyesel bngt dsni shopping antecedent photo mes...</td>\n      <td>1</td>\n      <td>nyesel bngt dsni shopping antecedent photo mes...</td>\n    </tr>\n    <tr>\n      <th>3</th>\n      <td>3</td>\n      <td>Sent a light blue suit goods ga want a refund</td>\n      <td>1</td>\n      <td>sent light blue suit goods ga want refund</td>\n    </tr>\n    <tr>\n      <th>4</th>\n      <td>4</td>\n      <td>Pendants came with dents and scratches on its ...</td>\n      <td>1</td>\n      <td>pendants came dents scratches surface. coating...</td>\n    </tr>\n    <tr>\n      <th>...</th>\n      <td>...</td>\n      <td>...</td>\n      <td>...</td>\n      <td>...</td>\n    </tr>\n    <tr>\n      <th>146804</th>\n      <td>146804</td>\n      <td>Excellent quality Excellent quality Very acco...</td>\n      <td>5</td>\n      <td>excellent quality excellent quality accommodat...</td>\n    </tr>\n    <tr>\n      <th>146806</th>\n      <td>146806</td>\n      <td>Excellent product quality delivery speed is ve...</td>\n      <td>5</td>\n      <td>excellent product quality delivery speed good ...</td>\n    </tr>\n    <tr>\n      <th>146807</th>\n      <td>146807</td>\n      <td>thanks gan</td>\n      <td>5</td>\n      <td>thanks gan</td>\n    </tr>\n    <tr>\n      <th>146808</th>\n      <td>146808</td>\n      <td>Awesome awesome quality merchandise value CP ...</td>\n      <td>5</td>\n      <td>awesome awesome quality merchandise value cp n...</td>\n    </tr>\n    <tr>\n      <th>146809</th>\n      <td>146809</td>\n      <td>Nice Packing boxes made effective price .........</td>\n      <td>5</td>\n      <td>nice packing boxes made effective price . . fa...</td>\n    </tr>\n  </tbody>\n</table>\n<p>116878 rows × 4 columns</p>\n</div>"
     },
     "metadata": {},
     "execution_count": 11
    }
   ],
   "source": [
    "train['review_clean'] = train['review_clean'].apply(clean_emoji)\n",
    "train['review_clean'] = train['review_clean'].str.replace(r'\\s+', ' ')\n",
    "train"
   ]
  },
  {
   "cell_type": "markdown",
   "metadata": {},
   "source": [
    "Check number of words after cleaning"
   ]
  },
  {
   "cell_type": "code",
   "execution_count": 12,
   "metadata": {},
   "outputs": [
    {
     "output_type": "execute_result",
     "data": {
      "text/plain": "        review_id                                             review  rating  \\\n54868       54868  Get me a very good ❤️❤️❤️❤️❤️❤️❤️❤️❤️❤️❤️❤️❤️❤...       3   \n123999     123999  makasii yy ♥ ️ ♥ ️ ♥ ️ ♥ ️ ♥ ️ ♥ ️ ♥ ️ ♥ ️ ♥ ️...       5   \n115488     115488  Quality products Farren delivered straight Exc...       5   \n129197     129197  Fast forward to this sensitivity, plus alcohol...       5   \n118478     118478  XgghHffuzigaxjaivwjpcwohxwj2, dưkfwxlhwcjwvljw...       5   \n...           ...                                                ...     ...   \n19817       19817                                       Very satisfy       2   \n117042     117042                                         very puass       5   \n132278     132278                                  Very responsive!        5   \n142899     142899                                         very great       5   \n16038       16038                                   It does not foam       2   \n\n                                             review_clean  count  \n54868   get good red_heart ️ red_heart ️ ️ ️ ️ ️ ️ ️ ️...    188  \n123999  makasii yy heart_suit ️ heart_suit ️ ️ ️ ️ ️ ️...    180  \n115488  quality products farren delivered straight exc...    127  \n129197  fast forward sensitivity. plus alcohol gel was...    125  \n118478  xgghhffuzigaxjaivwjpcwohxwj2. dưkfwxlhwcjwvljw...    124  \n...                                                   ...    ...  \n19817                                             satisfy      1  \n117042                                              puass      1  \n132278                                        responsive.      1  \n142899                                              great      1  \n16038                                                foam      1  \n\n[116878 rows x 5 columns]",
      "text/html": "<div>\n<style scoped>\n    .dataframe tbody tr th:only-of-type {\n        vertical-align: middle;\n    }\n\n    .dataframe tbody tr th {\n        vertical-align: top;\n    }\n\n    .dataframe thead th {\n        text-align: right;\n    }\n</style>\n<table border=\"1\" class=\"dataframe\">\n  <thead>\n    <tr style=\"text-align: right;\">\n      <th></th>\n      <th>review_id</th>\n      <th>review</th>\n      <th>rating</th>\n      <th>review_clean</th>\n      <th>count</th>\n    </tr>\n  </thead>\n  <tbody>\n    <tr>\n      <th>54868</th>\n      <td>54868</td>\n      <td>Get me a very good ❤️❤️❤️❤️❤️❤️❤️❤️❤️❤️❤️❤️❤️❤...</td>\n      <td>3</td>\n      <td>get good red_heart ️ red_heart ️ ️ ️ ️ ️ ️ ️ ️...</td>\n      <td>188</td>\n    </tr>\n    <tr>\n      <th>123999</th>\n      <td>123999</td>\n      <td>makasii yy ♥ ️ ♥ ️ ♥ ️ ♥ ️ ♥ ️ ♥ ️ ♥ ️ ♥ ️ ♥ ️...</td>\n      <td>5</td>\n      <td>makasii yy heart_suit ️ heart_suit ️ ️ ️ ️ ️ ️...</td>\n      <td>180</td>\n    </tr>\n    <tr>\n      <th>115488</th>\n      <td>115488</td>\n      <td>Quality products Farren delivered straight Exc...</td>\n      <td>5</td>\n      <td>quality products farren delivered straight exc...</td>\n      <td>127</td>\n    </tr>\n    <tr>\n      <th>129197</th>\n      <td>129197</td>\n      <td>Fast forward to this sensitivity, plus alcohol...</td>\n      <td>5</td>\n      <td>fast forward sensitivity. plus alcohol gel was...</td>\n      <td>125</td>\n    </tr>\n    <tr>\n      <th>118478</th>\n      <td>118478</td>\n      <td>XgghHffuzigaxjaivwjpcwohxwj2, dưkfwxlhwcjwvljw...</td>\n      <td>5</td>\n      <td>xgghhffuzigaxjaivwjpcwohxwj2. dưkfwxlhwcjwvljw...</td>\n      <td>124</td>\n    </tr>\n    <tr>\n      <th>...</th>\n      <td>...</td>\n      <td>...</td>\n      <td>...</td>\n      <td>...</td>\n      <td>...</td>\n    </tr>\n    <tr>\n      <th>19817</th>\n      <td>19817</td>\n      <td>Very satisfy</td>\n      <td>2</td>\n      <td>satisfy</td>\n      <td>1</td>\n    </tr>\n    <tr>\n      <th>117042</th>\n      <td>117042</td>\n      <td>very puass</td>\n      <td>5</td>\n      <td>puass</td>\n      <td>1</td>\n    </tr>\n    <tr>\n      <th>132278</th>\n      <td>132278</td>\n      <td>Very responsive!</td>\n      <td>5</td>\n      <td>responsive.</td>\n      <td>1</td>\n    </tr>\n    <tr>\n      <th>142899</th>\n      <td>142899</td>\n      <td>very great</td>\n      <td>5</td>\n      <td>great</td>\n      <td>1</td>\n    </tr>\n    <tr>\n      <th>16038</th>\n      <td>16038</td>\n      <td>It does not foam</td>\n      <td>2</td>\n      <td>foam</td>\n      <td>1</td>\n    </tr>\n  </tbody>\n</table>\n<p>116878 rows × 5 columns</p>\n</div>"
     },
     "metadata": {},
     "execution_count": 12
    }
   ],
   "source": [
    "train['count'] = train['review_clean'].str.split().str.len()\n",
    "train.sort_values('count', ascending=False)"
   ]
  },
  {
   "cell_type": "code",
   "execution_count": 13,
   "metadata": {},
   "outputs": [
    {
     "output_type": "execute_result",
     "data": {
      "text/plain": "<matplotlib.axes._subplots.AxesSubplot at 0x7f751afd6b90>"
     },
     "metadata": {},
     "execution_count": 13
    },
    {
     "output_type": "display_data",
     "data": {
      "text/plain": "<Figure size 432x288 with 1 Axes>",
      "image/svg+xml": "<?xml version=\"1.0\" encoding=\"utf-8\" standalone=\"no\"?>\n<!DOCTYPE svg PUBLIC \"-//W3C//DTD SVG 1.1//EN\"\n  \"http://www.w3.org/Graphics/SVG/1.1/DTD/svg11.dtd\">\n<!-- Created with matplotlib (https://matplotlib.org/) -->\n<svg height=\"248.518125pt\" version=\"1.1\" viewBox=\"0 0 408.053125 248.518125\" width=\"408.053125pt\" xmlns=\"http://www.w3.org/2000/svg\" xmlns:xlink=\"http://www.w3.org/1999/xlink\">\n <defs>\n  <style type=\"text/css\">\n*{stroke-linecap:butt;stroke-linejoin:round;}\n  </style>\n </defs>\n <g id=\"figure_1\">\n  <g id=\"patch_1\">\n   <path d=\"M 0 248.518125 \nL 408.053125 248.518125 \nL 408.053125 0 \nL 0 0 \nz\n\" style=\"fill:none;\"/>\n  </g>\n  <g id=\"axes_1\">\n   <g id=\"patch_2\">\n    <path d=\"M 66.053125 224.64 \nL 400.853125 224.64 \nL 400.853125 7.2 \nL 66.053125 7.2 \nz\n\" style=\"fill:#ffffff;\"/>\n   </g>\n   <g id=\"patch_3\">\n    <path clip-path=\"url(#paf0f9ee894)\" d=\"M 81.271307 224.64 \nL 111.70767 224.64 \nL 111.70767 17.554286 \nL 81.271307 17.554286 \nz\n\" style=\"fill:#1f77b4;\"/>\n   </g>\n   <g id=\"patch_4\">\n    <path clip-path=\"url(#paf0f9ee894)\" d=\"M 111.70767 224.64 \nL 142.144034 224.64 \nL 142.144034 194.071321 \nL 111.70767 194.071321 \nz\n\" style=\"fill:#1f77b4;\"/>\n   </g>\n   <g id=\"patch_5\">\n    <path clip-path=\"url(#paf0f9ee894)\" d=\"M 142.144034 224.64 \nL 172.580398 224.64 \nL 172.580398 222.040469 \nL 142.144034 222.040469 \nz\n\" style=\"fill:#1f77b4;\"/>\n   </g>\n   <g id=\"patch_6\">\n    <path clip-path=\"url(#paf0f9ee894)\" d=\"M 172.580398 224.64 \nL 203.016761 224.64 \nL 203.016761 224.452702 \nL 172.580398 224.452702 \nz\n\" style=\"fill:#1f77b4;\"/>\n   </g>\n   <g id=\"patch_7\">\n    <path clip-path=\"url(#paf0f9ee894)\" d=\"M 203.016761 224.64 \nL 233.453125 224.64 \nL 233.453125 224.584428 \nL 203.016761 224.584428 \nz\n\" style=\"fill:#1f77b4;\"/>\n   </g>\n   <g id=\"patch_8\">\n    <path clip-path=\"url(#paf0f9ee894)\" d=\"M 233.453125 224.64 \nL 263.889489 224.64 \nL 263.889489 224.596777 \nL 233.453125 224.596777 \nz\n\" style=\"fill:#1f77b4;\"/>\n   </g>\n   <g id=\"patch_9\">\n    <path clip-path=\"url(#paf0f9ee894)\" d=\"M 263.889489 224.64 \nL 294.325852 224.64 \nL 294.325852 224.623534 \nL 263.889489 224.623534 \nz\n\" style=\"fill:#1f77b4;\"/>\n   </g>\n   <g id=\"patch_10\">\n    <path clip-path=\"url(#paf0f9ee894)\" d=\"M 294.325852 224.64 \nL 324.762216 224.64 \nL 324.762216 224.64 \nL 294.325852 224.64 \nz\n\" style=\"fill:#1f77b4;\"/>\n   </g>\n   <g id=\"patch_11\">\n    <path clip-path=\"url(#paf0f9ee894)\" d=\"M 324.762216 224.64 \nL 355.19858 224.64 \nL 355.19858 224.64 \nL 324.762216 224.64 \nz\n\" style=\"fill:#1f77b4;\"/>\n   </g>\n   <g id=\"patch_12\">\n    <path clip-path=\"url(#paf0f9ee894)\" d=\"M 355.19858 224.64 \nL 385.634943 224.64 \nL 385.634943 224.635884 \nL 355.19858 224.635884 \nz\n\" style=\"fill:#1f77b4;\"/>\n   </g>\n   <g id=\"matplotlib.axis_1\">\n    <g id=\"xtick_1\">\n     <g id=\"line2d_1\">\n      <defs>\n       <path d=\"M 0 0 \nL 0 3.5 \n\" id=\"m89ffa764ae\" style=\"stroke:#000000;stroke-width:0.8;\"/>\n      </defs>\n      <g>\n       <use style=\"stroke:#000000;stroke-width:0.8;\" x=\"79.643694\" xlink:href=\"#m89ffa764ae\" y=\"224.64\"/>\n      </g>\n     </g>\n     <g id=\"text_1\">\n      <!-- 0 -->\n      <defs>\n       <path d=\"M 31.78125 66.40625 \nQ 24.171875 66.40625 20.328125 58.90625 \nQ 16.5 51.421875 16.5 36.375 \nQ 16.5 21.390625 20.328125 13.890625 \nQ 24.171875 6.390625 31.78125 6.390625 \nQ 39.453125 6.390625 43.28125 13.890625 \nQ 47.125 21.390625 47.125 36.375 \nQ 47.125 51.421875 43.28125 58.90625 \nQ 39.453125 66.40625 31.78125 66.40625 \nz\nM 31.78125 74.21875 \nQ 44.046875 74.21875 50.515625 64.515625 \nQ 56.984375 54.828125 56.984375 36.375 \nQ 56.984375 17.96875 50.515625 8.265625 \nQ 44.046875 -1.421875 31.78125 -1.421875 \nQ 19.53125 -1.421875 13.0625 8.265625 \nQ 6.59375 17.96875 6.59375 36.375 \nQ 6.59375 54.828125 13.0625 64.515625 \nQ 19.53125 74.21875 31.78125 74.21875 \nz\n\" id=\"DejaVuSans-48\"/>\n      </defs>\n      <g transform=\"translate(76.462444 239.238437)scale(0.1 -0.1)\">\n       <use xlink:href=\"#DejaVuSans-48\"/>\n      </g>\n     </g>\n    </g>\n    <g id=\"xtick_2\">\n     <g id=\"line2d_2\">\n      <g>\n       <use style=\"stroke:#000000;stroke-width:0.8;\" x=\"120.33402\" xlink:href=\"#m89ffa764ae\" y=\"224.64\"/>\n      </g>\n     </g>\n     <g id=\"text_2\">\n      <!-- 25 -->\n      <defs>\n       <path d=\"M 19.1875 8.296875 \nL 53.609375 8.296875 \nL 53.609375 0 \nL 7.328125 0 \nL 7.328125 8.296875 \nQ 12.9375 14.109375 22.625 23.890625 \nQ 32.328125 33.6875 34.8125 36.53125 \nQ 39.546875 41.84375 41.421875 45.53125 \nQ 43.3125 49.21875 43.3125 52.78125 \nQ 43.3125 58.59375 39.234375 62.25 \nQ 35.15625 65.921875 28.609375 65.921875 \nQ 23.96875 65.921875 18.8125 64.3125 \nQ 13.671875 62.703125 7.8125 59.421875 \nL 7.8125 69.390625 \nQ 13.765625 71.78125 18.9375 73 \nQ 24.125 74.21875 28.421875 74.21875 \nQ 39.75 74.21875 46.484375 68.546875 \nQ 53.21875 62.890625 53.21875 53.421875 \nQ 53.21875 48.921875 51.53125 44.890625 \nQ 49.859375 40.875 45.40625 35.40625 \nQ 44.1875 33.984375 37.640625 27.21875 \nQ 31.109375 20.453125 19.1875 8.296875 \nz\n\" id=\"DejaVuSans-50\"/>\n       <path d=\"M 10.796875 72.90625 \nL 49.515625 72.90625 \nL 49.515625 64.59375 \nL 19.828125 64.59375 \nL 19.828125 46.734375 \nQ 21.96875 47.46875 24.109375 47.828125 \nQ 26.265625 48.1875 28.421875 48.1875 \nQ 40.625 48.1875 47.75 41.5 \nQ 54.890625 34.8125 54.890625 23.390625 \nQ 54.890625 11.625 47.5625 5.09375 \nQ 40.234375 -1.421875 26.90625 -1.421875 \nQ 22.3125 -1.421875 17.546875 -0.640625 \nQ 12.796875 0.140625 7.71875 1.703125 \nL 7.71875 11.625 \nQ 12.109375 9.234375 16.796875 8.0625 \nQ 21.484375 6.890625 26.703125 6.890625 \nQ 35.15625 6.890625 40.078125 11.328125 \nQ 45.015625 15.765625 45.015625 23.390625 \nQ 45.015625 31 40.078125 35.4375 \nQ 35.15625 39.890625 26.703125 39.890625 \nQ 22.75 39.890625 18.8125 39.015625 \nQ 14.890625 38.140625 10.796875 36.28125 \nz\n\" id=\"DejaVuSans-53\"/>\n      </defs>\n      <g transform=\"translate(113.97152 239.238437)scale(0.1 -0.1)\">\n       <use xlink:href=\"#DejaVuSans-50\"/>\n       <use x=\"63.623047\" xlink:href=\"#DejaVuSans-53\"/>\n      </g>\n     </g>\n    </g>\n    <g id=\"xtick_3\">\n     <g id=\"line2d_3\">\n      <g>\n       <use style=\"stroke:#000000;stroke-width:0.8;\" x=\"161.024345\" xlink:href=\"#m89ffa764ae\" y=\"224.64\"/>\n      </g>\n     </g>\n     <g id=\"text_3\">\n      <!-- 50 -->\n      <g transform=\"translate(154.661845 239.238437)scale(0.1 -0.1)\">\n       <use xlink:href=\"#DejaVuSans-53\"/>\n       <use x=\"63.623047\" xlink:href=\"#DejaVuSans-48\"/>\n      </g>\n     </g>\n    </g>\n    <g id=\"xtick_4\">\n     <g id=\"line2d_4\">\n      <g>\n       <use style=\"stroke:#000000;stroke-width:0.8;\" x=\"201.714671\" xlink:href=\"#m89ffa764ae\" y=\"224.64\"/>\n      </g>\n     </g>\n     <g id=\"text_4\">\n      <!-- 75 -->\n      <defs>\n       <path d=\"M 8.203125 72.90625 \nL 55.078125 72.90625 \nL 55.078125 68.703125 \nL 28.609375 0 \nL 18.3125 0 \nL 43.21875 64.59375 \nL 8.203125 64.59375 \nz\n\" id=\"DejaVuSans-55\"/>\n      </defs>\n      <g transform=\"translate(195.352171 239.238437)scale(0.1 -0.1)\">\n       <use xlink:href=\"#DejaVuSans-55\"/>\n       <use x=\"63.623047\" xlink:href=\"#DejaVuSans-53\"/>\n      </g>\n     </g>\n    </g>\n    <g id=\"xtick_5\">\n     <g id=\"line2d_5\">\n      <g>\n       <use style=\"stroke:#000000;stroke-width:0.8;\" x=\"242.404997\" xlink:href=\"#m89ffa764ae\" y=\"224.64\"/>\n      </g>\n     </g>\n     <g id=\"text_5\">\n      <!-- 100 -->\n      <defs>\n       <path d=\"M 12.40625 8.296875 \nL 28.515625 8.296875 \nL 28.515625 63.921875 \nL 10.984375 60.40625 \nL 10.984375 69.390625 \nL 28.421875 72.90625 \nL 38.28125 72.90625 \nL 38.28125 8.296875 \nL 54.390625 8.296875 \nL 54.390625 0 \nL 12.40625 0 \nz\n\" id=\"DejaVuSans-49\"/>\n      </defs>\n      <g transform=\"translate(232.861247 239.238437)scale(0.1 -0.1)\">\n       <use xlink:href=\"#DejaVuSans-49\"/>\n       <use x=\"63.623047\" xlink:href=\"#DejaVuSans-48\"/>\n       <use x=\"127.246094\" xlink:href=\"#DejaVuSans-48\"/>\n      </g>\n     </g>\n    </g>\n    <g id=\"xtick_6\">\n     <g id=\"line2d_6\">\n      <g>\n       <use style=\"stroke:#000000;stroke-width:0.8;\" x=\"283.095322\" xlink:href=\"#m89ffa764ae\" y=\"224.64\"/>\n      </g>\n     </g>\n     <g id=\"text_6\">\n      <!-- 125 -->\n      <g transform=\"translate(273.551572 239.238437)scale(0.1 -0.1)\">\n       <use xlink:href=\"#DejaVuSans-49\"/>\n       <use x=\"63.623047\" xlink:href=\"#DejaVuSans-50\"/>\n       <use x=\"127.246094\" xlink:href=\"#DejaVuSans-53\"/>\n      </g>\n     </g>\n    </g>\n    <g id=\"xtick_7\">\n     <g id=\"line2d_7\">\n      <g>\n       <use style=\"stroke:#000000;stroke-width:0.8;\" x=\"323.785648\" xlink:href=\"#m89ffa764ae\" y=\"224.64\"/>\n      </g>\n     </g>\n     <g id=\"text_7\">\n      <!-- 150 -->\n      <g transform=\"translate(314.241898 239.238437)scale(0.1 -0.1)\">\n       <use xlink:href=\"#DejaVuSans-49\"/>\n       <use x=\"63.623047\" xlink:href=\"#DejaVuSans-53\"/>\n       <use x=\"127.246094\" xlink:href=\"#DejaVuSans-48\"/>\n      </g>\n     </g>\n    </g>\n    <g id=\"xtick_8\">\n     <g id=\"line2d_8\">\n      <g>\n       <use style=\"stroke:#000000;stroke-width:0.8;\" x=\"364.475974\" xlink:href=\"#m89ffa764ae\" y=\"224.64\"/>\n      </g>\n     </g>\n     <g id=\"text_8\">\n      <!-- 175 -->\n      <g transform=\"translate(354.932224 239.238437)scale(0.1 -0.1)\">\n       <use xlink:href=\"#DejaVuSans-49\"/>\n       <use x=\"63.623047\" xlink:href=\"#DejaVuSans-55\"/>\n       <use x=\"127.246094\" xlink:href=\"#DejaVuSans-53\"/>\n      </g>\n     </g>\n    </g>\n   </g>\n   <g id=\"matplotlib.axis_2\">\n    <g id=\"ytick_1\">\n     <g id=\"line2d_9\">\n      <defs>\n       <path d=\"M 0 0 \nL -3.5 0 \n\" id=\"m2d65ba0f70\" style=\"stroke:#000000;stroke-width:0.8;\"/>\n      </defs>\n      <g>\n       <use style=\"stroke:#000000;stroke-width:0.8;\" x=\"66.053125\" xlink:href=\"#m2d65ba0f70\" y=\"224.64\"/>\n      </g>\n     </g>\n     <g id=\"text_9\">\n      <!-- 0 -->\n      <g transform=\"translate(52.690625 228.439219)scale(0.1 -0.1)\">\n       <use xlink:href=\"#DejaVuSans-48\"/>\n      </g>\n     </g>\n    </g>\n    <g id=\"ytick_2\">\n     <g id=\"line2d_10\">\n      <g>\n       <use style=\"stroke:#000000;stroke-width:0.8;\" x=\"66.053125\" xlink:href=\"#m2d65ba0f70\" y=\"183.475607\"/>\n      </g>\n     </g>\n     <g id=\"text_10\">\n      <!-- 20000 -->\n      <g transform=\"translate(27.240625 187.274825)scale(0.1 -0.1)\">\n       <use xlink:href=\"#DejaVuSans-50\"/>\n       <use x=\"63.623047\" xlink:href=\"#DejaVuSans-48\"/>\n       <use x=\"127.246094\" xlink:href=\"#DejaVuSans-48\"/>\n       <use x=\"190.869141\" xlink:href=\"#DejaVuSans-48\"/>\n       <use x=\"254.492188\" xlink:href=\"#DejaVuSans-48\"/>\n      </g>\n     </g>\n    </g>\n    <g id=\"ytick_3\">\n     <g id=\"line2d_11\">\n      <g>\n       <use style=\"stroke:#000000;stroke-width:0.8;\" x=\"66.053125\" xlink:href=\"#m2d65ba0f70\" y=\"142.311213\"/>\n      </g>\n     </g>\n     <g id=\"text_11\">\n      <!-- 40000 -->\n      <defs>\n       <path d=\"M 37.796875 64.3125 \nL 12.890625 25.390625 \nL 37.796875 25.390625 \nz\nM 35.203125 72.90625 \nL 47.609375 72.90625 \nL 47.609375 25.390625 \nL 58.015625 25.390625 \nL 58.015625 17.1875 \nL 47.609375 17.1875 \nL 47.609375 0 \nL 37.796875 0 \nL 37.796875 17.1875 \nL 4.890625 17.1875 \nL 4.890625 26.703125 \nz\n\" id=\"DejaVuSans-52\"/>\n      </defs>\n      <g transform=\"translate(27.240625 146.110432)scale(0.1 -0.1)\">\n       <use xlink:href=\"#DejaVuSans-52\"/>\n       <use x=\"63.623047\" xlink:href=\"#DejaVuSans-48\"/>\n       <use x=\"127.246094\" xlink:href=\"#DejaVuSans-48\"/>\n       <use x=\"190.869141\" xlink:href=\"#DejaVuSans-48\"/>\n       <use x=\"254.492188\" xlink:href=\"#DejaVuSans-48\"/>\n      </g>\n     </g>\n    </g>\n    <g id=\"ytick_4\">\n     <g id=\"line2d_12\">\n      <g>\n       <use style=\"stroke:#000000;stroke-width:0.8;\" x=\"66.053125\" xlink:href=\"#m2d65ba0f70\" y=\"101.14682\"/>\n      </g>\n     </g>\n     <g id=\"text_12\">\n      <!-- 60000 -->\n      <defs>\n       <path d=\"M 33.015625 40.375 \nQ 26.375 40.375 22.484375 35.828125 \nQ 18.609375 31.296875 18.609375 23.390625 \nQ 18.609375 15.53125 22.484375 10.953125 \nQ 26.375 6.390625 33.015625 6.390625 \nQ 39.65625 6.390625 43.53125 10.953125 \nQ 47.40625 15.53125 47.40625 23.390625 \nQ 47.40625 31.296875 43.53125 35.828125 \nQ 39.65625 40.375 33.015625 40.375 \nz\nM 52.59375 71.296875 \nL 52.59375 62.3125 \nQ 48.875 64.0625 45.09375 64.984375 \nQ 41.3125 65.921875 37.59375 65.921875 \nQ 27.828125 65.921875 22.671875 59.328125 \nQ 17.53125 52.734375 16.796875 39.40625 \nQ 19.671875 43.65625 24.015625 45.921875 \nQ 28.375 48.1875 33.59375 48.1875 \nQ 44.578125 48.1875 50.953125 41.515625 \nQ 57.328125 34.859375 57.328125 23.390625 \nQ 57.328125 12.15625 50.6875 5.359375 \nQ 44.046875 -1.421875 33.015625 -1.421875 \nQ 20.359375 -1.421875 13.671875 8.265625 \nQ 6.984375 17.96875 6.984375 36.375 \nQ 6.984375 53.65625 15.1875 63.9375 \nQ 23.390625 74.21875 37.203125 74.21875 \nQ 40.921875 74.21875 44.703125 73.484375 \nQ 48.484375 72.75 52.59375 71.296875 \nz\n\" id=\"DejaVuSans-54\"/>\n      </defs>\n      <g transform=\"translate(27.240625 104.946038)scale(0.1 -0.1)\">\n       <use xlink:href=\"#DejaVuSans-54\"/>\n       <use x=\"63.623047\" xlink:href=\"#DejaVuSans-48\"/>\n       <use x=\"127.246094\" xlink:href=\"#DejaVuSans-48\"/>\n       <use x=\"190.869141\" xlink:href=\"#DejaVuSans-48\"/>\n       <use x=\"254.492188\" xlink:href=\"#DejaVuSans-48\"/>\n      </g>\n     </g>\n    </g>\n    <g id=\"ytick_5\">\n     <g id=\"line2d_13\">\n      <g>\n       <use style=\"stroke:#000000;stroke-width:0.8;\" x=\"66.053125\" xlink:href=\"#m2d65ba0f70\" y=\"59.982426\"/>\n      </g>\n     </g>\n     <g id=\"text_13\">\n      <!-- 80000 -->\n      <defs>\n       <path d=\"M 31.78125 34.625 \nQ 24.75 34.625 20.71875 30.859375 \nQ 16.703125 27.09375 16.703125 20.515625 \nQ 16.703125 13.921875 20.71875 10.15625 \nQ 24.75 6.390625 31.78125 6.390625 \nQ 38.8125 6.390625 42.859375 10.171875 \nQ 46.921875 13.96875 46.921875 20.515625 \nQ 46.921875 27.09375 42.890625 30.859375 \nQ 38.875 34.625 31.78125 34.625 \nz\nM 21.921875 38.8125 \nQ 15.578125 40.375 12.03125 44.71875 \nQ 8.5 49.078125 8.5 55.328125 \nQ 8.5 64.0625 14.71875 69.140625 \nQ 20.953125 74.21875 31.78125 74.21875 \nQ 42.671875 74.21875 48.875 69.140625 \nQ 55.078125 64.0625 55.078125 55.328125 \nQ 55.078125 49.078125 51.53125 44.71875 \nQ 48 40.375 41.703125 38.8125 \nQ 48.828125 37.15625 52.796875 32.3125 \nQ 56.78125 27.484375 56.78125 20.515625 \nQ 56.78125 9.90625 50.3125 4.234375 \nQ 43.84375 -1.421875 31.78125 -1.421875 \nQ 19.734375 -1.421875 13.25 4.234375 \nQ 6.78125 9.90625 6.78125 20.515625 \nQ 6.78125 27.484375 10.78125 32.3125 \nQ 14.796875 37.15625 21.921875 38.8125 \nz\nM 18.3125 54.390625 \nQ 18.3125 48.734375 21.84375 45.5625 \nQ 25.390625 42.390625 31.78125 42.390625 \nQ 38.140625 42.390625 41.71875 45.5625 \nQ 45.3125 48.734375 45.3125 54.390625 \nQ 45.3125 60.0625 41.71875 63.234375 \nQ 38.140625 66.40625 31.78125 66.40625 \nQ 25.390625 66.40625 21.84375 63.234375 \nQ 18.3125 60.0625 18.3125 54.390625 \nz\n\" id=\"DejaVuSans-56\"/>\n      </defs>\n      <g transform=\"translate(27.240625 63.781645)scale(0.1 -0.1)\">\n       <use xlink:href=\"#DejaVuSans-56\"/>\n       <use x=\"63.623047\" xlink:href=\"#DejaVuSans-48\"/>\n       <use x=\"127.246094\" xlink:href=\"#DejaVuSans-48\"/>\n       <use x=\"190.869141\" xlink:href=\"#DejaVuSans-48\"/>\n       <use x=\"254.492188\" xlink:href=\"#DejaVuSans-48\"/>\n      </g>\n     </g>\n    </g>\n    <g id=\"ytick_6\">\n     <g id=\"line2d_14\">\n      <g>\n       <use style=\"stroke:#000000;stroke-width:0.8;\" x=\"66.053125\" xlink:href=\"#m2d65ba0f70\" y=\"18.818033\"/>\n      </g>\n     </g>\n     <g id=\"text_14\">\n      <!-- 100000 -->\n      <g transform=\"translate(20.878125 22.617251)scale(0.1 -0.1)\">\n       <use xlink:href=\"#DejaVuSans-49\"/>\n       <use x=\"63.623047\" xlink:href=\"#DejaVuSans-48\"/>\n       <use x=\"127.246094\" xlink:href=\"#DejaVuSans-48\"/>\n       <use x=\"190.869141\" xlink:href=\"#DejaVuSans-48\"/>\n       <use x=\"254.492188\" xlink:href=\"#DejaVuSans-48\"/>\n       <use x=\"318.115234\" xlink:href=\"#DejaVuSans-48\"/>\n      </g>\n     </g>\n    </g>\n    <g id=\"text_15\">\n     <!-- Frequency -->\n     <defs>\n      <path d=\"M 9.8125 72.90625 \nL 51.703125 72.90625 \nL 51.703125 64.59375 \nL 19.671875 64.59375 \nL 19.671875 43.109375 \nL 48.578125 43.109375 \nL 48.578125 34.8125 \nL 19.671875 34.8125 \nL 19.671875 0 \nL 9.8125 0 \nz\n\" id=\"DejaVuSans-70\"/>\n      <path d=\"M 41.109375 46.296875 \nQ 39.59375 47.171875 37.8125 47.578125 \nQ 36.03125 48 33.890625 48 \nQ 26.265625 48 22.1875 43.046875 \nQ 18.109375 38.09375 18.109375 28.8125 \nL 18.109375 0 \nL 9.078125 0 \nL 9.078125 54.6875 \nL 18.109375 54.6875 \nL 18.109375 46.1875 \nQ 20.953125 51.171875 25.484375 53.578125 \nQ 30.03125 56 36.53125 56 \nQ 37.453125 56 38.578125 55.875 \nQ 39.703125 55.765625 41.0625 55.515625 \nz\n\" id=\"DejaVuSans-114\"/>\n      <path d=\"M 56.203125 29.59375 \nL 56.203125 25.203125 \nL 14.890625 25.203125 \nQ 15.484375 15.921875 20.484375 11.0625 \nQ 25.484375 6.203125 34.421875 6.203125 \nQ 39.59375 6.203125 44.453125 7.46875 \nQ 49.3125 8.734375 54.109375 11.28125 \nL 54.109375 2.78125 \nQ 49.265625 0.734375 44.1875 -0.34375 \nQ 39.109375 -1.421875 33.890625 -1.421875 \nQ 20.796875 -1.421875 13.15625 6.1875 \nQ 5.515625 13.8125 5.515625 26.8125 \nQ 5.515625 40.234375 12.765625 48.109375 \nQ 20.015625 56 32.328125 56 \nQ 43.359375 56 49.78125 48.890625 \nQ 56.203125 41.796875 56.203125 29.59375 \nz\nM 47.21875 32.234375 \nQ 47.125 39.59375 43.09375 43.984375 \nQ 39.0625 48.390625 32.421875 48.390625 \nQ 24.90625 48.390625 20.390625 44.140625 \nQ 15.875 39.890625 15.1875 32.171875 \nz\n\" id=\"DejaVuSans-101\"/>\n      <path d=\"M 14.796875 27.296875 \nQ 14.796875 17.390625 18.875 11.75 \nQ 22.953125 6.109375 30.078125 6.109375 \nQ 37.203125 6.109375 41.296875 11.75 \nQ 45.40625 17.390625 45.40625 27.296875 \nQ 45.40625 37.203125 41.296875 42.84375 \nQ 37.203125 48.484375 30.078125 48.484375 \nQ 22.953125 48.484375 18.875 42.84375 \nQ 14.796875 37.203125 14.796875 27.296875 \nz\nM 45.40625 8.203125 \nQ 42.578125 3.328125 38.25 0.953125 \nQ 33.9375 -1.421875 27.875 -1.421875 \nQ 17.96875 -1.421875 11.734375 6.484375 \nQ 5.515625 14.40625 5.515625 27.296875 \nQ 5.515625 40.1875 11.734375 48.09375 \nQ 17.96875 56 27.875 56 \nQ 33.9375 56 38.25 53.625 \nQ 42.578125 51.265625 45.40625 46.390625 \nL 45.40625 54.6875 \nL 54.390625 54.6875 \nL 54.390625 -20.796875 \nL 45.40625 -20.796875 \nz\n\" id=\"DejaVuSans-113\"/>\n      <path d=\"M 8.5 21.578125 \nL 8.5 54.6875 \nL 17.484375 54.6875 \nL 17.484375 21.921875 \nQ 17.484375 14.15625 20.5 10.265625 \nQ 23.53125 6.390625 29.59375 6.390625 \nQ 36.859375 6.390625 41.078125 11.03125 \nQ 45.3125 15.671875 45.3125 23.6875 \nL 45.3125 54.6875 \nL 54.296875 54.6875 \nL 54.296875 0 \nL 45.3125 0 \nL 45.3125 8.40625 \nQ 42.046875 3.421875 37.71875 1 \nQ 33.40625 -1.421875 27.6875 -1.421875 \nQ 18.265625 -1.421875 13.375 4.4375 \nQ 8.5 10.296875 8.5 21.578125 \nz\nM 31.109375 56 \nz\n\" id=\"DejaVuSans-117\"/>\n      <path d=\"M 54.890625 33.015625 \nL 54.890625 0 \nL 45.90625 0 \nL 45.90625 32.71875 \nQ 45.90625 40.484375 42.875 44.328125 \nQ 39.84375 48.1875 33.796875 48.1875 \nQ 26.515625 48.1875 22.3125 43.546875 \nQ 18.109375 38.921875 18.109375 30.90625 \nL 18.109375 0 \nL 9.078125 0 \nL 9.078125 54.6875 \nL 18.109375 54.6875 \nL 18.109375 46.1875 \nQ 21.34375 51.125 25.703125 53.5625 \nQ 30.078125 56 35.796875 56 \nQ 45.21875 56 50.046875 50.171875 \nQ 54.890625 44.34375 54.890625 33.015625 \nz\n\" id=\"DejaVuSans-110\"/>\n      <path d=\"M 48.78125 52.59375 \nL 48.78125 44.1875 \nQ 44.96875 46.296875 41.140625 47.34375 \nQ 37.3125 48.390625 33.40625 48.390625 \nQ 24.65625 48.390625 19.8125 42.84375 \nQ 14.984375 37.3125 14.984375 27.296875 \nQ 14.984375 17.28125 19.8125 11.734375 \nQ 24.65625 6.203125 33.40625 6.203125 \nQ 37.3125 6.203125 41.140625 7.25 \nQ 44.96875 8.296875 48.78125 10.40625 \nL 48.78125 2.09375 \nQ 45.015625 0.34375 40.984375 -0.53125 \nQ 36.96875 -1.421875 32.421875 -1.421875 \nQ 20.0625 -1.421875 12.78125 6.34375 \nQ 5.515625 14.109375 5.515625 27.296875 \nQ 5.515625 40.671875 12.859375 48.328125 \nQ 20.21875 56 33.015625 56 \nQ 37.15625 56 41.109375 55.140625 \nQ 45.0625 54.296875 48.78125 52.59375 \nz\n\" id=\"DejaVuSans-99\"/>\n      <path d=\"M 32.171875 -5.078125 \nQ 28.375 -14.84375 24.75 -17.8125 \nQ 21.140625 -20.796875 15.09375 -20.796875 \nL 7.90625 -20.796875 \nL 7.90625 -13.28125 \nL 13.1875 -13.28125 \nQ 16.890625 -13.28125 18.9375 -11.515625 \nQ 21 -9.765625 23.484375 -3.21875 \nL 25.09375 0.875 \nL 2.984375 54.6875 \nL 12.5 54.6875 \nL 29.59375 11.921875 \nL 46.6875 54.6875 \nL 56.203125 54.6875 \nz\n\" id=\"DejaVuSans-121\"/>\n     </defs>\n     <g transform=\"translate(14.798438 142.217656)rotate(-90)scale(0.1 -0.1)\">\n      <use xlink:href=\"#DejaVuSans-70\"/>\n      <use x=\"57.410156\" xlink:href=\"#DejaVuSans-114\"/>\n      <use x=\"98.492188\" xlink:href=\"#DejaVuSans-101\"/>\n      <use x=\"160.015625\" xlink:href=\"#DejaVuSans-113\"/>\n      <use x=\"223.492188\" xlink:href=\"#DejaVuSans-117\"/>\n      <use x=\"286.871094\" xlink:href=\"#DejaVuSans-101\"/>\n      <use x=\"348.394531\" xlink:href=\"#DejaVuSans-110\"/>\n      <use x=\"411.773438\" xlink:href=\"#DejaVuSans-99\"/>\n      <use x=\"466.753906\" xlink:href=\"#DejaVuSans-121\"/>\n     </g>\n    </g>\n   </g>\n   <g id=\"patch_13\">\n    <path d=\"M 66.053125 224.64 \nL 66.053125 7.2 \n\" style=\"fill:none;stroke:#000000;stroke-linecap:square;stroke-linejoin:miter;stroke-width:0.8;\"/>\n   </g>\n   <g id=\"patch_14\">\n    <path d=\"M 400.853125 224.64 \nL 400.853125 7.2 \n\" style=\"fill:none;stroke:#000000;stroke-linecap:square;stroke-linejoin:miter;stroke-width:0.8;\"/>\n   </g>\n   <g id=\"patch_15\">\n    <path d=\"M 66.053125 224.64 \nL 400.853125 224.64 \n\" style=\"fill:none;stroke:#000000;stroke-linecap:square;stroke-linejoin:miter;stroke-width:0.8;\"/>\n   </g>\n   <g id=\"patch_16\">\n    <path d=\"M 66.053125 7.2 \nL 400.853125 7.2 \n\" style=\"fill:none;stroke:#000000;stroke-linecap:square;stroke-linejoin:miter;stroke-width:0.8;\"/>\n   </g>\n  </g>\n </g>\n <defs>\n  <clipPath id=\"paf0f9ee894\">\n   <rect height=\"217.44\" width=\"334.8\" x=\"66.053125\" y=\"7.2\"/>\n  </clipPath>\n </defs>\n</svg>\n",
      "image/png": "[encoded data removed]"
     },
     "metadata": {
      "needs_background": "light"
     }
    }
   ],
   "source": [
    "train['count'].plot.hist()"
   ]
  },
  {
   "cell_type": "code",
   "execution_count": 14,
   "metadata": {},
   "outputs": [
    {
     "output_type": "execute_result",
     "data": {
      "text/plain": "246"
     },
     "metadata": {},
     "execution_count": 14
    }
   ],
   "source": [
    "sum(train['count'] > 50)"
   ]
  },
  {
   "cell_type": "markdown",
   "metadata": {},
   "source": [
    "Check class distribution"
   ]
  },
  {
   "cell_type": "code",
   "execution_count": 15,
   "metadata": {},
   "outputs": [
    {
     "output_type": "execute_result",
     "data": {
      "text/plain": "        review_id  review  review_clean  count\nrating                                        \n1           13803   13803         13803  13803\n2           11260   11260         11260  11260\n3           28478   28478         28478  28478\n4           31931   31931         31931  31931\n5           31406   31406         31406  31406",
      "text/html": "<div>\n<style scoped>\n    .dataframe tbody tr th:only-of-type {\n        vertical-align: middle;\n    }\n\n    .dataframe tbody tr th {\n        vertical-align: top;\n    }\n\n    .dataframe thead th {\n        text-align: right;\n    }\n</style>\n<table border=\"1\" class=\"dataframe\">\n  <thead>\n    <tr style=\"text-align: right;\">\n      <th></th>\n      <th>review_id</th>\n      <th>review</th>\n      <th>review_clean</th>\n      <th>count</th>\n    </tr>\n    <tr>\n      <th>rating</th>\n      <th></th>\n      <th></th>\n      <th></th>\n      <th></th>\n    </tr>\n  </thead>\n  <tbody>\n    <tr>\n      <th>1</th>\n      <td>13803</td>\n      <td>13803</td>\n      <td>13803</td>\n      <td>13803</td>\n    </tr>\n    <tr>\n      <th>2</th>\n      <td>11260</td>\n      <td>11260</td>\n      <td>11260</td>\n      <td>11260</td>\n    </tr>\n    <tr>\n      <th>3</th>\n      <td>28478</td>\n      <td>28478</td>\n      <td>28478</td>\n      <td>28478</td>\n    </tr>\n    <tr>\n      <th>4</th>\n      <td>31931</td>\n      <td>31931</td>\n      <td>31931</td>\n      <td>31931</td>\n    </tr>\n    <tr>\n      <th>5</th>\n      <td>31406</td>\n      <td>31406</td>\n      <td>31406</td>\n      <td>31406</td>\n    </tr>\n  </tbody>\n</table>\n</div>"
     },
     "metadata": {},
     "execution_count": 15
    }
   ],
   "source": [
    "train.groupby('rating').count()"
   ]
  },
  {
   "cell_type": "markdown",
   "metadata": {},
   "source": [
    "Sample the validation set"
   ]
  },
  {
   "cell_type": "code",
   "execution_count": 16,
   "metadata": {},
   "outputs": [],
   "source": [
    "NUM_VAL = 1000\n",
    "\n",
    "val = pd.DataFrame(columns=train.columns)\n",
    "ratings = train['rating'].unique()\n",
    "\n",
    "for rating in ratings:\n",
    "    sub_df = train[train['rating'] == rating]\n",
    "    sub_df = sub_df.sample(NUM_VAL, random_state=0)\n",
    "    val = val.append(sub_df, ignore_index=True)\n",
    "\n",
    "train = train[~train['review_id'].isin(val['review_id'])]"
   ]
  },
  {
   "cell_type": "code",
   "execution_count": 17,
   "metadata": {},
   "outputs": [
    {
     "output_type": "execute_result",
     "data": {
      "text/plain": "        review_id  review  review_clean  count\nrating                                        \n1            1000    1000          1000   1000\n2            1000    1000          1000   1000\n3            1000    1000          1000   1000\n4            1000    1000          1000   1000\n5            1000    1000          1000   1000",
      "text/html": "<div>\n<style scoped>\n    .dataframe tbody tr th:only-of-type {\n        vertical-align: middle;\n    }\n\n    .dataframe tbody tr th {\n        vertical-align: top;\n    }\n\n    .dataframe thead th {\n        text-align: right;\n    }\n</style>\n<table border=\"1\" class=\"dataframe\">\n  <thead>\n    <tr style=\"text-align: right;\">\n      <th></th>\n      <th>review_id</th>\n      <th>review</th>\n      <th>review_clean</th>\n      <th>count</th>\n    </tr>\n    <tr>\n      <th>rating</th>\n      <th></th>\n      <th></th>\n      <th></th>\n      <th></th>\n    </tr>\n  </thead>\n  <tbody>\n    <tr>\n      <th>1</th>\n      <td>1000</td>\n      <td>1000</td>\n      <td>1000</td>\n      <td>1000</td>\n    </tr>\n    <tr>\n      <th>2</th>\n      <td>1000</td>\n      <td>1000</td>\n      <td>1000</td>\n      <td>1000</td>\n    </tr>\n    <tr>\n      <th>3</th>\n      <td>1000</td>\n      <td>1000</td>\n      <td>1000</td>\n      <td>1000</td>\n    </tr>\n    <tr>\n      <th>4</th>\n      <td>1000</td>\n      <td>1000</td>\n      <td>1000</td>\n      <td>1000</td>\n    </tr>\n    <tr>\n      <th>5</th>\n      <td>1000</td>\n      <td>1000</td>\n      <td>1000</td>\n      <td>1000</td>\n    </tr>\n  </tbody>\n</table>\n</div>"
     },
     "metadata": {},
     "execution_count": 17
    }
   ],
   "source": [
    "val.groupby('rating').count()"
   ]
  },
  {
   "cell_type": "code",
   "execution_count": 18,
   "metadata": {},
   "outputs": [
    {
     "output_type": "execute_result",
     "data": {
      "text/plain": "        review_id  review  review_clean  count\nrating                                        \n1           12803   12803         12803  12803\n2           10260   10260         10260  10260\n3           27478   27478         27478  27478\n4           30931   30931         30931  30931\n5           30406   30406         30406  30406",
      "text/html": "<div>\n<style scoped>\n    .dataframe tbody tr th:only-of-type {\n        vertical-align: middle;\n    }\n\n    .dataframe tbody tr th {\n        vertical-align: top;\n    }\n\n    .dataframe thead th {\n        text-align: right;\n    }\n</style>\n<table border=\"1\" class=\"dataframe\">\n  <thead>\n    <tr style=\"text-align: right;\">\n      <th></th>\n      <th>review_id</th>\n      <th>review</th>\n      <th>review_clean</th>\n      <th>count</th>\n    </tr>\n    <tr>\n      <th>rating</th>\n      <th></th>\n      <th></th>\n      <th></th>\n      <th></th>\n    </tr>\n  </thead>\n  <tbody>\n    <tr>\n      <th>1</th>\n      <td>12803</td>\n      <td>12803</td>\n      <td>12803</td>\n      <td>12803</td>\n    </tr>\n    <tr>\n      <th>2</th>\n      <td>10260</td>\n      <td>10260</td>\n      <td>10260</td>\n      <td>10260</td>\n    </tr>\n    <tr>\n      <th>3</th>\n      <td>27478</td>\n      <td>27478</td>\n      <td>27478</td>\n      <td>27478</td>\n    </tr>\n    <tr>\n      <th>4</th>\n      <td>30931</td>\n      <td>30931</td>\n      <td>30931</td>\n      <td>30931</td>\n    </tr>\n    <tr>\n      <th>5</th>\n      <td>30406</td>\n      <td>30406</td>\n      <td>30406</td>\n      <td>30406</td>\n    </tr>\n  </tbody>\n</table>\n</div>"
     },
     "metadata": {},
     "execution_count": 18
    }
   ],
   "source": [
    "train.groupby('rating').count()"
   ]
  },
  {
   "cell_type": "markdown",
   "metadata": {},
   "source": [
    "Repeat the cleaning steps for test set"
   ]
  },
  {
   "cell_type": "code",
   "execution_count": 19,
   "metadata": {},
   "outputs": [
    {
     "output_type": "execute_result",
     "data": {
      "text/plain": "       review_id                                             review  \\\n0              1  Great danger, cool, motif and cantik2 jg model...   \n1              2                   One of the shades don't fit well   \n2              3                                   Very comfortable   \n3              4  Fast delivery. Product expiry is on Dec 2022. ...   \n4              5  it's sooooo cute! i like playing with the glit...   \n...          ...                                                ...   \n60422      60423  Product has been succesfully ordered and shipp...   \n60423      60424  Opening time a little scared. Fear dalemnya de...   \n60424      60425   The product quality is excellent. The origina...   \n60425      60426             They 're holding up REALLY well also .   \n60426      60427  Rapid response and detail ...\\nThanks gan, the...   \n\n                                            review_clean  \n0      great danger. cool. motif cantik2 jg models. d...  \n1                                    one shades fit well  \n2                                            comfortable  \n3      fast delivery. product expiry dec 2022. produc...  \n4      sooooo cute. like playing glitters better brow...  \n...                                                  ...  \n60422  product succesfully ordered shipped quickly. g...  \n60423  opening time little scared. fear dalemnya dest...  \n60424  product quality excellent. original product. p...  \n60425                     're holding really well also .  \n60426  rapid response detail . thanks gan. goods rece...  \n\n[60427 rows x 3 columns]",
      "text/html": "<div>\n<style scoped>\n    .dataframe tbody tr th:only-of-type {\n        vertical-align: middle;\n    }\n\n    .dataframe tbody tr th {\n        vertical-align: top;\n    }\n\n    .dataframe thead th {\n        text-align: right;\n    }\n</style>\n<table border=\"1\" class=\"dataframe\">\n  <thead>\n    <tr style=\"text-align: right;\">\n      <th></th>\n      <th>review_id</th>\n      <th>review</th>\n      <th>review_clean</th>\n    </tr>\n  </thead>\n  <tbody>\n    <tr>\n      <th>0</th>\n      <td>1</td>\n      <td>Great danger, cool, motif and cantik2 jg model...</td>\n      <td>great danger. cool. motif cantik2 jg models. d...</td>\n    </tr>\n    <tr>\n      <th>1</th>\n      <td>2</td>\n      <td>One of the shades don't fit well</td>\n      <td>one shades fit well</td>\n    </tr>\n    <tr>\n      <th>2</th>\n      <td>3</td>\n      <td>Very comfortable</td>\n      <td>comfortable</td>\n    </tr>\n    <tr>\n      <th>3</th>\n      <td>4</td>\n      <td>Fast delivery. Product expiry is on Dec 2022. ...</td>\n      <td>fast delivery. product expiry dec 2022. produc...</td>\n    </tr>\n    <tr>\n      <th>4</th>\n      <td>5</td>\n      <td>it's sooooo cute! i like playing with the glit...</td>\n      <td>sooooo cute. like playing glitters better brow...</td>\n    </tr>\n    <tr>\n      <th>...</th>\n      <td>...</td>\n      <td>...</td>\n      <td>...</td>\n    </tr>\n    <tr>\n      <th>60422</th>\n      <td>60423</td>\n      <td>Product has been succesfully ordered and shipp...</td>\n      <td>product succesfully ordered shipped quickly. g...</td>\n    </tr>\n    <tr>\n      <th>60423</th>\n      <td>60424</td>\n      <td>Opening time a little scared. Fear dalemnya de...</td>\n      <td>opening time little scared. fear dalemnya dest...</td>\n    </tr>\n    <tr>\n      <th>60424</th>\n      <td>60425</td>\n      <td>The product quality is excellent. The origina...</td>\n      <td>product quality excellent. original product. p...</td>\n    </tr>\n    <tr>\n      <th>60425</th>\n      <td>60426</td>\n      <td>They 're holding up REALLY well also .</td>\n      <td>'re holding really well also .</td>\n    </tr>\n    <tr>\n      <th>60426</th>\n      <td>60427</td>\n      <td>Rapid response and detail ...\\nThanks gan, the...</td>\n      <td>rapid response detail . thanks gan. goods rece...</td>\n    </tr>\n  </tbody>\n</table>\n<p>60427 rows × 3 columns</p>\n</div>"
     },
     "metadata": {},
     "execution_count": 19
    }
   ],
   "source": [
    "test['review_clean'] = test['review'].str.lower()\n",
    "\n",
    "test['review_clean'] = test['review_clean'].str.replace(r'’', '\\'')\n",
    "test['review_clean'] = test['review_clean'].str.replace(r'#[a-z]+', ' ')\n",
    "test['review_clean'] = test['review_clean'].str.replace(r'@[a-z]+', ' ')\n",
    "test['review_clean'] = test['review_clean'].str.replace(r'[\\+\\*=@#<>\\(\\)\\[\\]\\^_]+', ' ')\n",
    "test['review_clean'] = test['review_clean'].str.replace(r'[,!?;.:]+', '. ')\n",
    "\n",
    "test['review_clean'] = test['review_clean'].str.replace(r'(other ){2,}', 'other ')\n",
    "test['review_clean'] = test['review_clean'].str.replace(r'(kg ){2,}', 'kg ')\n",
    "test['review_clean'] = test['review_clean'].str.replace(r'(mm ){2,}', 'mm ')\n",
    "test['review_clean'] = test['review_clean'].str.replace(r'(amount of ){2,}', 'amount of ')\n",
    "test['review_clean'] = test['review_clean'].str.replace(r'(good ){2,}', 'good ')\n",
    "test['review_clean'] = test['review_clean'].str.replace(r'(great ){2,}', 'great ')\n",
    "\n",
    "test['review_clean'] = test['review_clean'].apply(remove_stopwords)\n",
    "\n",
    "test['review_clean'] = test['review_clean'].apply(clean_emoji)\n",
    "test['review_clean'] = test['review_clean'].str.replace(r'\\s+', ' ')\n",
    "test"
   ]
  },
  {
   "cell_type": "markdown",
   "metadata": {},
   "source": [
    "Check if any samples from test set was empty after cleaning"
   ]
  },
  {
   "cell_type": "code",
   "execution_count": 20,
   "metadata": {},
   "outputs": [
    {
     "output_type": "execute_result",
     "data": {
      "text/plain": "       review_id                                             review  \\\n26663      26664  Very very very very very very very very very v...   \n\n      review_clean  \n26663               ",
      "text/html": "<div>\n<style scoped>\n    .dataframe tbody tr th:only-of-type {\n        vertical-align: middle;\n    }\n\n    .dataframe tbody tr th {\n        vertical-align: top;\n    }\n\n    .dataframe thead th {\n        text-align: right;\n    }\n</style>\n<table border=\"1\" class=\"dataframe\">\n  <thead>\n    <tr style=\"text-align: right;\">\n      <th></th>\n      <th>review_id</th>\n      <th>review</th>\n      <th>review_clean</th>\n    </tr>\n  </thead>\n  <tbody>\n    <tr>\n      <th>26663</th>\n      <td>26664</td>\n      <td>Very very very very very very very very very v...</td>\n      <td></td>\n    </tr>\n  </tbody>\n</table>\n</div>"
     },
     "metadata": {},
     "execution_count": 20
    }
   ],
   "source": [
    "test[~test['review_clean'].astype(bool)]"
   ]
  },
  {
   "cell_type": "markdown",
   "metadata": {},
   "source": [
    "Replace that sample with 'very'"
   ]
  },
  {
   "cell_type": "code",
   "execution_count": 21,
   "metadata": {},
   "outputs": [],
   "source": [
    "test['review_clean'] = test['review_clean'].apply(lambda x: x if x != '' else 'very')"
   ]
  },
  {
   "cell_type": "code",
   "execution_count": 22,
   "metadata": {},
   "outputs": [
    {
     "output_type": "execute_result",
     "data": {
      "text/plain": "Empty DataFrame\nColumns: [review_id, review, review_clean]\nIndex: []",
      "text/html": "<div>\n<style scoped>\n    .dataframe tbody tr th:only-of-type {\n        vertical-align: middle;\n    }\n\n    .dataframe tbody tr th {\n        vertical-align: top;\n    }\n\n    .dataframe thead th {\n        text-align: right;\n    }\n</style>\n<table border=\"1\" class=\"dataframe\">\n  <thead>\n    <tr style=\"text-align: right;\">\n      <th></th>\n      <th>review_id</th>\n      <th>review</th>\n      <th>review_clean</th>\n    </tr>\n  </thead>\n  <tbody>\n  </tbody>\n</table>\n</div>"
     },
     "metadata": {},
     "execution_count": 22
    }
   ],
   "source": [
    "test[~test['review_clean'].astype(bool)]"
   ]
  },
  {
   "cell_type": "code",
   "execution_count": 23,
   "metadata": {},
   "outputs": [],
   "source": [
    "train.to_csv('train_clean.csv', index=False)\n",
    "val.to_csv('val_clean.csv', index=False)\n",
    "test.to_csv('test_clean.csv', index=False)"
   ]
  },
  {
   "cell_type": "code",
   "execution_count": null,
   "metadata": {},
   "outputs": [],
   "source": []
  }
 ]
}