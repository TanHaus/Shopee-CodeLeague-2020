{
 "metadata": {
  "language_info": {
   "codemirror_mode": {
    "name": "ipython",
    "version": 3
   },
   "file_extension": ".py",
   "mimetype": "text/x-python",
   "name": "python",
   "nbconvert_exporter": "python",
   "pygments_lexer": "ipython3",
   "version": 3
  },
  "orig_nbformat": 2,
  "kernelspec": {
   "name": "python_defaultSpec_1595061516061",
   "display_name": "Python 3.7.7 64-bit ('Anaconda3': conda)"
  }
 },
 "nbformat": 4,
 "nbformat_minor": 2,
 "cells": [
  {
   "cell_type": "code",
   "execution_count": 1,
   "metadata": {},
   "outputs": [],
   "source": [
    "import pandas as pd\n",
    "import sacremoses"
   ]
  },
  {
   "cell_type": "code",
   "execution_count": 2,
   "metadata": {},
   "outputs": [
    {
     "output_type": "execute_result",
     "data": {
      "text/plain": "                                                      review  rating\nreview_id                                                           \n0          Ga disappointed neat products .. Meletot Hilsn...       1\n1            Rdtanya replace broken glass, broken chargernya       1\n2          Nyesel bngt dsni shopping antecedent photo mes...       1\n3              Sent a light blue suit goods ga want a refund       1\n4          Pendants came with dents and scratches on its ...       1\n...                                                      ...     ...\n146806     Excellent product quality delivery speed is ve...       5\n146807                                            thanks gan       5\n146808      Awesome awesome quality merchandise value CP ...       5\n146809     Nice Packing boxes made effective price .........       5\n146810      Excellent product quality excellent product p...       5\n\n[146811 rows x 2 columns]",
      "text/html": "<div>\n<style scoped>\n    .dataframe tbody tr th:only-of-type {\n        vertical-align: middle;\n    }\n\n    .dataframe tbody tr th {\n        vertical-align: top;\n    }\n\n    .dataframe thead th {\n        text-align: right;\n    }\n</style>\n<table border=\"1\" class=\"dataframe\">\n  <thead>\n    <tr style=\"text-align: right;\">\n      <th></th>\n      <th>review</th>\n      <th>rating</th>\n    </tr>\n    <tr>\n      <th>review_id</th>\n      <th></th>\n      <th></th>\n    </tr>\n  </thead>\n  <tbody>\n    <tr>\n      <th>0</th>\n      <td>Ga disappointed neat products .. Meletot Hilsn...</td>\n      <td>1</td>\n    </tr>\n    <tr>\n      <th>1</th>\n      <td>Rdtanya replace broken glass, broken chargernya</td>\n      <td>1</td>\n    </tr>\n    <tr>\n      <th>2</th>\n      <td>Nyesel bngt dsni shopping antecedent photo mes...</td>\n      <td>1</td>\n    </tr>\n    <tr>\n      <th>3</th>\n      <td>Sent a light blue suit goods ga want a refund</td>\n      <td>1</td>\n    </tr>\n    <tr>\n      <th>4</th>\n      <td>Pendants came with dents and scratches on its ...</td>\n      <td>1</td>\n    </tr>\n    <tr>\n      <th>...</th>\n      <td>...</td>\n      <td>...</td>\n    </tr>\n    <tr>\n      <th>146806</th>\n      <td>Excellent product quality delivery speed is ve...</td>\n      <td>5</td>\n    </tr>\n    <tr>\n      <th>146807</th>\n      <td>thanks gan</td>\n      <td>5</td>\n    </tr>\n    <tr>\n      <th>146808</th>\n      <td>Awesome awesome quality merchandise value CP ...</td>\n      <td>5</td>\n    </tr>\n    <tr>\n      <th>146809</th>\n      <td>Nice Packing boxes made effective price .........</td>\n      <td>5</td>\n    </tr>\n    <tr>\n      <th>146810</th>\n      <td>Excellent product quality excellent product p...</td>\n      <td>5</td>\n    </tr>\n  </tbody>\n</table>\n<p>146811 rows × 2 columns</p>\n</div>"
     },
     "metadata": {},
     "execution_count": 2
    }
   ],
   "source": [
    "train_df = pd.read_csv('train.csv', index_col='review_id')\n",
    "train_df"
   ]
  },
  {
   "cell_type": "code",
   "execution_count": 3,
   "metadata": {},
   "outputs": [],
   "source": [
    "mtk = sacremoses.MosesTokenizer()"
   ]
  },
  {
   "cell_type": "code",
   "execution_count": 4,
   "metadata": {},
   "outputs": [
    {
     "output_type": "execute_result",
     "data": {
      "text/plain": "                                                      review  rating\nreview_id                                                           \n146540     Tqvm...all in good condition...suit perfectly ...       5\n26202      Useless to ungodly data only other charge. Wai...       2\n73136      The rating for each shop nè long but beautiful...       4\n29660                                  Fragile unfortunately       3\n47497      Package has been received ... complete and ori...       3\n75511      Excellent quality Very accommodating seller We...       4\n12231      Disappointed at the quality of my disappointme...       1\n57267       Good product quality. The product price is good.       3\n53888      Get a smooth and fast delivery too much waitin...       3\n48255                Product quality good price good product       3",
      "text/html": "<div>\n<style scoped>\n    .dataframe tbody tr th:only-of-type {\n        vertical-align: middle;\n    }\n\n    .dataframe tbody tr th {\n        vertical-align: top;\n    }\n\n    .dataframe thead th {\n        text-align: right;\n    }\n</style>\n<table border=\"1\" class=\"dataframe\">\n  <thead>\n    <tr style=\"text-align: right;\">\n      <th></th>\n      <th>review</th>\n      <th>rating</th>\n    </tr>\n    <tr>\n      <th>review_id</th>\n      <th></th>\n      <th></th>\n    </tr>\n  </thead>\n  <tbody>\n    <tr>\n      <th>146540</th>\n      <td>Tqvm...all in good condition...suit perfectly ...</td>\n      <td>5</td>\n    </tr>\n    <tr>\n      <th>26202</th>\n      <td>Useless to ungodly data only other charge. Wai...</td>\n      <td>2</td>\n    </tr>\n    <tr>\n      <th>73136</th>\n      <td>The rating for each shop nè long but beautiful...</td>\n      <td>4</td>\n    </tr>\n    <tr>\n      <th>29660</th>\n      <td>Fragile unfortunately</td>\n      <td>3</td>\n    </tr>\n    <tr>\n      <th>47497</th>\n      <td>Package has been received ... complete and ori...</td>\n      <td>3</td>\n    </tr>\n    <tr>\n      <th>75511</th>\n      <td>Excellent quality Very accommodating seller We...</td>\n      <td>4</td>\n    </tr>\n    <tr>\n      <th>12231</th>\n      <td>Disappointed at the quality of my disappointme...</td>\n      <td>1</td>\n    </tr>\n    <tr>\n      <th>57267</th>\n      <td>Good product quality. The product price is good.</td>\n      <td>3</td>\n    </tr>\n    <tr>\n      <th>53888</th>\n      <td>Get a smooth and fast delivery too much waitin...</td>\n      <td>3</td>\n    </tr>\n    <tr>\n      <th>48255</th>\n      <td>Product quality good price good product</td>\n      <td>3</td>\n    </tr>\n  </tbody>\n</table>\n</div>"
     },
     "metadata": {},
     "execution_count": 4
    }
   ],
   "source": [
    "test = train_df.sample(10)\n",
    "test"
   ]
  },
  {
   "cell_type": "code",
   "execution_count": 5,
   "metadata": {},
   "outputs": [
    {
     "output_type": "execute_result",
     "data": {
      "text/plain": "                                                      review  rating\nreview_id                                                           \n13         KALO RULES DO NOT WANT TO PARTICIPATE IN CHAT ...       1\n33             Lacking those items, those filters only sent!       1\n57         Product quality has really bad enough With pho...       1\n93         Item ok. Just got friendly sellar directly whe...       1\n142        I ordered pixie Snow pinaship nio Kau ... anno...       1\n...                                                      ...     ...\n146696     Thank you! 2nd time in this shop to order .......       5\n146700     good and cheap . expiry in 2022.  heard good r...       5\n146727     The seller was very helpful and replied fast. ...       5\n146763     Wrong size. Large did you send, but still I re...       5\n146808      Awesome awesome quality merchandise value CP ...       5\n\n[6366 rows x 2 columns]",
      "text/html": "<div>\n<style scoped>\n    .dataframe tbody tr th:only-of-type {\n        vertical-align: middle;\n    }\n\n    .dataframe tbody tr th {\n        vertical-align: top;\n    }\n\n    .dataframe thead th {\n        text-align: right;\n    }\n</style>\n<table border=\"1\" class=\"dataframe\">\n  <thead>\n    <tr style=\"text-align: right;\">\n      <th></th>\n      <th>review</th>\n      <th>rating</th>\n    </tr>\n    <tr>\n      <th>review_id</th>\n      <th></th>\n      <th></th>\n    </tr>\n  </thead>\n  <tbody>\n    <tr>\n      <th>13</th>\n      <td>KALO RULES DO NOT WANT TO PARTICIPATE IN CHAT ...</td>\n      <td>1</td>\n    </tr>\n    <tr>\n      <th>33</th>\n      <td>Lacking those items, those filters only sent!</td>\n      <td>1</td>\n    </tr>\n    <tr>\n      <th>57</th>\n      <td>Product quality has really bad enough With pho...</td>\n      <td>1</td>\n    </tr>\n    <tr>\n      <th>93</th>\n      <td>Item ok. Just got friendly sellar directly whe...</td>\n      <td>1</td>\n    </tr>\n    <tr>\n      <th>142</th>\n      <td>I ordered pixie Snow pinaship nio Kau ... anno...</td>\n      <td>1</td>\n    </tr>\n    <tr>\n      <th>...</th>\n      <td>...</td>\n      <td>...</td>\n    </tr>\n    <tr>\n      <th>146696</th>\n      <td>Thank you! 2nd time in this shop to order .......</td>\n      <td>5</td>\n    </tr>\n    <tr>\n      <th>146700</th>\n      <td>good and cheap . expiry in 2022.  heard good r...</td>\n      <td>5</td>\n    </tr>\n    <tr>\n      <th>146727</th>\n      <td>The seller was very helpful and replied fast. ...</td>\n      <td>5</td>\n    </tr>\n    <tr>\n      <th>146763</th>\n      <td>Wrong size. Large did you send, but still I re...</td>\n      <td>5</td>\n    </tr>\n    <tr>\n      <th>146808</th>\n      <td>Awesome awesome quality merchandise value CP ...</td>\n      <td>5</td>\n    </tr>\n  </tbody>\n</table>\n<p>6366 rows × 2 columns</p>\n</div>"
     },
     "metadata": {},
     "execution_count": 5
    }
   ],
   "source": [
    "train_df[train_df['review'].str.contains(r'!')]"
   ]
  },
  {
   "cell_type": "markdown",
   "metadata": {},
   "source": [
    "What punctuation to remove? what not to remove?"
   ]
  },
  {
   "cell_type": "code",
   "execution_count": 6,
   "metadata": {},
   "outputs": [
    {
     "output_type": "execute_result",
     "data": {
      "text/plain": "review_id\n146540    [Tqvm, ..., all, in, good, condition, ..., sui...\n26202     [Useless, to, ungodly, data, only, other, char...\n73136     [The, rating, for, each, shop, nè, long, but, ...\n29660                              [Fragile, unfortunately]\n47497     [Package, has, been, received, ..., complete, ...\n75511     [Excellent, quality, Very, accommodating, sell...\n12231     [Disappointed, at, the, quality, of, my, disap...\n57267     [Good, product, quality, ., The, product, pric...\n53888     [Get, a, smooth, and, fast, delivery, too, muc...\n48255        [Product, quality, good, price, good, product]\nName: review, dtype: object"
     },
     "metadata": {},
     "execution_count": 6
    }
   ],
   "source": [
    "test['review'].apply(mtk.tokenize)"
   ]
  },
  {
   "cell_type": "code",
   "execution_count": 7,
   "metadata": {},
   "outputs": [
    {
     "output_type": "execute_result",
     "data": {
      "text/plain": "['Hello',\n ',',\n 'it',\n '&apos;s',\n 'me',\n '💯',\n '(',\n 'I',\n '&apos;m',\n 'very',\n 'dumb',\n ')',\n 'bitch',\n '!',\n '!',\n '!',\n '!',\n '!',\n '💯']"
     },
     "metadata": {},
     "execution_count": 7
    }
   ],
   "source": [
    "mtk.tokenize(\"Hello, it's me💯 (I'm very dumb) bitch!!!!! 💯\")"
   ]
  },
  {
   "cell_type": "code",
   "execution_count": 8,
   "metadata": {},
   "outputs": [],
   "source": [
    "from sklearn.model_selection import train_test_split"
   ]
  },
  {
   "cell_type": "markdown",
   "metadata": {},
   "source": [
    "Split training and validation set"
   ]
  },
  {
   "cell_type": "code",
   "execution_count": 9,
   "metadata": {},
   "outputs": [],
   "source": [
    "train, val = train_test_split(train_df, train_size=0.8, random_state=0)\n",
    "train = train.reset_index(drop=True)\n",
    "val = val.reset_index(drop=True)"
   ]
  },
  {
   "cell_type": "code",
   "execution_count": 10,
   "metadata": {},
   "outputs": [],
   "source": [
    "train.to_csv('train_set.csv', index=False)"
   ]
  },
  {
   "cell_type": "code",
   "execution_count": 11,
   "metadata": {},
   "outputs": [],
   "source": [
    "val.to_csv('val_set.csv', index=False)"
   ]
  },
  {
   "cell_type": "markdown",
   "metadata": {},
   "source": [
    "Generate output format for FastText"
   ]
  },
  {
   "cell_type": "code",
   "execution_count": 12,
   "metadata": {},
   "outputs": [
    {
     "output_type": "execute_result",
     "data": {
      "text/plain": "                                                   review  rating\n0       Package price already received fast delivery m...       4\n1       Goods have to be in good condition. Sellsr fas...       4\n2                  kapaditasnya passable bgt .. thank God       4\n3        Awesome awesome quality of goods shipped spee...       5\n4       Good bye but have not I go to hopefully cut no...       4\n...                                                   ...     ...\n117443                      Motifny bgs2 who ordern pertm       3\n117444                               Good value for money       4\n117445      His legs to look very neat that goes on foot.       4\n117446                              BRG ok..cantik lipez.       5\n117447  Like its more fit may be delivered late. I'm s...       3\n\n[117448 rows x 2 columns]",
      "text/html": "<div>\n<style scoped>\n    .dataframe tbody tr th:only-of-type {\n        vertical-align: middle;\n    }\n\n    .dataframe tbody tr th {\n        vertical-align: top;\n    }\n\n    .dataframe thead th {\n        text-align: right;\n    }\n</style>\n<table border=\"1\" class=\"dataframe\">\n  <thead>\n    <tr style=\"text-align: right;\">\n      <th></th>\n      <th>review</th>\n      <th>rating</th>\n    </tr>\n  </thead>\n  <tbody>\n    <tr>\n      <th>0</th>\n      <td>Package price already received fast delivery m...</td>\n      <td>4</td>\n    </tr>\n    <tr>\n      <th>1</th>\n      <td>Goods have to be in good condition. Sellsr fas...</td>\n      <td>4</td>\n    </tr>\n    <tr>\n      <th>2</th>\n      <td>kapaditasnya passable bgt .. thank God</td>\n      <td>4</td>\n    </tr>\n    <tr>\n      <th>3</th>\n      <td>Awesome awesome quality of goods shipped spee...</td>\n      <td>5</td>\n    </tr>\n    <tr>\n      <th>4</th>\n      <td>Good bye but have not I go to hopefully cut no...</td>\n      <td>4</td>\n    </tr>\n    <tr>\n      <th>...</th>\n      <td>...</td>\n      <td>...</td>\n    </tr>\n    <tr>\n      <th>117443</th>\n      <td>Motifny bgs2 who ordern pertm</td>\n      <td>3</td>\n    </tr>\n    <tr>\n      <th>117444</th>\n      <td>Good value for money</td>\n      <td>4</td>\n    </tr>\n    <tr>\n      <th>117445</th>\n      <td>His legs to look very neat that goes on foot.</td>\n      <td>4</td>\n    </tr>\n    <tr>\n      <th>117446</th>\n      <td>BRG ok..cantik lipez.</td>\n      <td>5</td>\n    </tr>\n    <tr>\n      <th>117447</th>\n      <td>Like its more fit may be delivered late. I'm s...</td>\n      <td>3</td>\n    </tr>\n  </tbody>\n</table>\n<p>117448 rows × 2 columns</p>\n</div>"
     },
     "metadata": {},
     "execution_count": 12
    }
   ],
   "source": [
    "fasttext = train.copy()\n",
    "fasttext"
   ]
  },
  {
   "cell_type": "code",
   "execution_count": 13,
   "metadata": {},
   "outputs": [
    {
     "output_type": "execute_result",
     "data": {
      "text/plain": "                                                   review      rating\n0       Package price already received fast delivery m...  __label__4\n1       Goods have to be in good condition. Sellsr fas...  __label__4\n2                  kapaditasnya passable bgt .. thank God  __label__4\n3        Awesome awesome quality of goods shipped spee...  __label__5\n4       Good bye but have not I go to hopefully cut no...  __label__4\n...                                                   ...         ...\n117443                      Motifny bgs2 who ordern pertm  __label__3\n117444                               Good value for money  __label__4\n117445      His legs to look very neat that goes on foot.  __label__4\n117446                              BRG ok..cantik lipez.  __label__5\n117447  Like its more fit may be delivered late. I'm s...  __label__3\n\n[117448 rows x 2 columns]",
      "text/html": "<div>\n<style scoped>\n    .dataframe tbody tr th:only-of-type {\n        vertical-align: middle;\n    }\n\n    .dataframe tbody tr th {\n        vertical-align: top;\n    }\n\n    .dataframe thead th {\n        text-align: right;\n    }\n</style>\n<table border=\"1\" class=\"dataframe\">\n  <thead>\n    <tr style=\"text-align: right;\">\n      <th></th>\n      <th>review</th>\n      <th>rating</th>\n    </tr>\n  </thead>\n  <tbody>\n    <tr>\n      <th>0</th>\n      <td>Package price already received fast delivery m...</td>\n      <td>__label__4</td>\n    </tr>\n    <tr>\n      <th>1</th>\n      <td>Goods have to be in good condition. Sellsr fas...</td>\n      <td>__label__4</td>\n    </tr>\n    <tr>\n      <th>2</th>\n      <td>kapaditasnya passable bgt .. thank God</td>\n      <td>__label__4</td>\n    </tr>\n    <tr>\n      <th>3</th>\n      <td>Awesome awesome quality of goods shipped spee...</td>\n      <td>__label__5</td>\n    </tr>\n    <tr>\n      <th>4</th>\n      <td>Good bye but have not I go to hopefully cut no...</td>\n      <td>__label__4</td>\n    </tr>\n    <tr>\n      <th>...</th>\n      <td>...</td>\n      <td>...</td>\n    </tr>\n    <tr>\n      <th>117443</th>\n      <td>Motifny bgs2 who ordern pertm</td>\n      <td>__label__3</td>\n    </tr>\n    <tr>\n      <th>117444</th>\n      <td>Good value for money</td>\n      <td>__label__4</td>\n    </tr>\n    <tr>\n      <th>117445</th>\n      <td>His legs to look very neat that goes on foot.</td>\n      <td>__label__4</td>\n    </tr>\n    <tr>\n      <th>117446</th>\n      <td>BRG ok..cantik lipez.</td>\n      <td>__label__5</td>\n    </tr>\n    <tr>\n      <th>117447</th>\n      <td>Like its more fit may be delivered late. I'm s...</td>\n      <td>__label__3</td>\n    </tr>\n  </tbody>\n</table>\n<p>117448 rows × 2 columns</p>\n</div>"
     },
     "metadata": {},
     "execution_count": 13
    }
   ],
   "source": [
    "fasttext['rating'] = '__label__' + fasttext['rating'].astype('str')\n",
    "fasttext"
   ]
  },
  {
   "cell_type": "code",
   "execution_count": 14,
   "metadata": {},
   "outputs": [],
   "source": [
    "fasttext.to_csv('fasttext.txt', sep=' ', index=False, header=False)"
   ]
  },
  {
   "cell_type": "code",
   "execution_count": 15,
   "metadata": {},
   "outputs": [],
   "source": [
    "fasttext_val = val.copy()\n",
    "fasttext_val['rating'] = '__label__' + fasttext_val['rating'].astype('str')\n",
    "fasttext_val.to_csv('fasttext_val.txt', sep=' ', index=False, header=False)"
   ]
  },
  {
   "cell_type": "markdown",
   "metadata": {},
   "source": [
    "Class size"
   ]
  },
  {
   "cell_type": "code",
   "execution_count": 16,
   "metadata": {},
   "outputs": [
    {
     "output_type": "execute_result",
     "data": {
      "text/plain": "          review\nrating          \n1       0.100708\n2       0.086540\n3       0.244811\n4       0.285163\n5       0.282779",
      "text/html": "<div>\n<style scoped>\n    .dataframe tbody tr th:only-of-type {\n        vertical-align: middle;\n    }\n\n    .dataframe tbody tr th {\n        vertical-align: top;\n    }\n\n    .dataframe thead th {\n        text-align: right;\n    }\n</style>\n<table border=\"1\" class=\"dataframe\">\n  <thead>\n    <tr style=\"text-align: right;\">\n      <th></th>\n      <th>review</th>\n    </tr>\n    <tr>\n      <th>rating</th>\n      <th></th>\n    </tr>\n  </thead>\n  <tbody>\n    <tr>\n      <th>1</th>\n      <td>0.100708</td>\n    </tr>\n    <tr>\n      <th>2</th>\n      <td>0.086540</td>\n    </tr>\n    <tr>\n      <th>3</th>\n      <td>0.244811</td>\n    </tr>\n    <tr>\n      <th>4</th>\n      <td>0.285163</td>\n    </tr>\n    <tr>\n      <th>5</th>\n      <td>0.282779</td>\n    </tr>\n  </tbody>\n</table>\n</div>"
     },
     "metadata": {},
     "execution_count": 16
    }
   ],
   "source": [
    "train_df.groupby('rating').count() / len(train_df)"
   ]
  },
  {
   "cell_type": "code",
   "execution_count": null,
   "metadata": {},
   "outputs": [],
   "source": []
  }
 ]
}