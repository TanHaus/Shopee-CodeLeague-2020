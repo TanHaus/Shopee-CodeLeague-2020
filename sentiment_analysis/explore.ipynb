{
 "metadata": {
  "language_info": {
   "codemirror_mode": {
    "name": "ipython",
    "version": 3
   },
   "file_extension": ".py",
   "mimetype": "text/x-python",
   "name": "python",
   "nbconvert_exporter": "python",
   "pygments_lexer": "ipython3",
   "version": 3
  },
  "orig_nbformat": 2,
  "kernelspec": {
   "name": "python_defaultSpec_1595052845141",
   "display_name": "Python 3.7.7 64-bit ('Anaconda3': conda)"
  }
 },
 "nbformat": 4,
 "nbformat_minor": 2,
 "cells": [
  {
   "cell_type": "code",
   "execution_count": 1,
   "metadata": {},
   "outputs": [],
   "source": [
    "import pandas as pd\n",
    "import sacremoses"
   ]
  },
  {
   "cell_type": "code",
   "execution_count": 2,
   "metadata": {},
   "outputs": [
    {
     "output_type": "execute_result",
     "data": {
      "text/plain": "                                                      review  rating\nreview_id                                                           \n0          Ga disappointed neat products .. Meletot Hilsn...       1\n1            Rdtanya replace broken glass, broken chargernya       1\n2          Nyesel bngt dsni shopping antecedent photo mes...       1\n3              Sent a light blue suit goods ga want a refund       1\n4          Pendants came with dents and scratches on its ...       1\n...                                                      ...     ...\n146806     Excellent product quality delivery speed is ve...       5\n146807                                            thanks gan       5\n146808      Awesome awesome quality merchandise value CP ...       5\n146809     Nice Packing boxes made effective price .........       5\n146810      Excellent product quality excellent product p...       5\n\n[146811 rows x 2 columns]",
      "text/html": "<div>\n<style scoped>\n    .dataframe tbody tr th:only-of-type {\n        vertical-align: middle;\n    }\n\n    .dataframe tbody tr th {\n        vertical-align: top;\n    }\n\n    .dataframe thead th {\n        text-align: right;\n    }\n</style>\n<table border=\"1\" class=\"dataframe\">\n  <thead>\n    <tr style=\"text-align: right;\">\n      <th></th>\n      <th>review</th>\n      <th>rating</th>\n    </tr>\n    <tr>\n      <th>review_id</th>\n      <th></th>\n      <th></th>\n    </tr>\n  </thead>\n  <tbody>\n    <tr>\n      <th>0</th>\n      <td>Ga disappointed neat products .. Meletot Hilsn...</td>\n      <td>1</td>\n    </tr>\n    <tr>\n      <th>1</th>\n      <td>Rdtanya replace broken glass, broken chargernya</td>\n      <td>1</td>\n    </tr>\n    <tr>\n      <th>2</th>\n      <td>Nyesel bngt dsni shopping antecedent photo mes...</td>\n      <td>1</td>\n    </tr>\n    <tr>\n      <th>3</th>\n      <td>Sent a light blue suit goods ga want a refund</td>\n      <td>1</td>\n    </tr>\n    <tr>\n      <th>4</th>\n      <td>Pendants came with dents and scratches on its ...</td>\n      <td>1</td>\n    </tr>\n    <tr>\n      <th>...</th>\n      <td>...</td>\n      <td>...</td>\n    </tr>\n    <tr>\n      <th>146806</th>\n      <td>Excellent product quality delivery speed is ve...</td>\n      <td>5</td>\n    </tr>\n    <tr>\n      <th>146807</th>\n      <td>thanks gan</td>\n      <td>5</td>\n    </tr>\n    <tr>\n      <th>146808</th>\n      <td>Awesome awesome quality merchandise value CP ...</td>\n      <td>5</td>\n    </tr>\n    <tr>\n      <th>146809</th>\n      <td>Nice Packing boxes made effective price .........</td>\n      <td>5</td>\n    </tr>\n    <tr>\n      <th>146810</th>\n      <td>Excellent product quality excellent product p...</td>\n      <td>5</td>\n    </tr>\n  </tbody>\n</table>\n<p>146811 rows × 2 columns</p>\n</div>"
     },
     "metadata": {},
     "execution_count": 2
    }
   ],
   "source": [
    "train_df = pd.read_csv('train.csv', index_col='review_id')\n",
    "train_df"
   ]
  },
  {
   "cell_type": "code",
   "execution_count": 3,
   "metadata": {},
   "outputs": [],
   "source": [
    "mtk = sacremoses.MosesTokenizer()"
   ]
  },
  {
   "cell_type": "code",
   "execution_count": 4,
   "metadata": {},
   "outputs": [
    {
     "output_type": "execute_result",
     "data": {
      "text/plain": "                                                      review  rating\nreview_id                                                           \n22356                    Vivo s1 9d full tempered is broken😕       2\n132107     Wrap raises even greater things to work proper...       5\n117804     Good product quality excellent product quality...       5\n112920     Keep kualitas.nya may always morbidly disappoi...       5\n75252          Awesome awesome quality of goods and services       4\n6557       Hours damaged in shipping .... Ask tangung ga ...       1\n146626      Awesome service awesome speed of the ship awe...       5\n144674      Awesome speed of the ship awesome awesome qua...       5\n76388      Great seller also presented gifts Thank you, o...       4\n83852      Very fast delivery order of 30 December aftern...       4",
      "text/html": "<div>\n<style scoped>\n    .dataframe tbody tr th:only-of-type {\n        vertical-align: middle;\n    }\n\n    .dataframe tbody tr th {\n        vertical-align: top;\n    }\n\n    .dataframe thead th {\n        text-align: right;\n    }\n</style>\n<table border=\"1\" class=\"dataframe\">\n  <thead>\n    <tr style=\"text-align: right;\">\n      <th></th>\n      <th>review</th>\n      <th>rating</th>\n    </tr>\n    <tr>\n      <th>review_id</th>\n      <th></th>\n      <th></th>\n    </tr>\n  </thead>\n  <tbody>\n    <tr>\n      <th>22356</th>\n      <td>Vivo s1 9d full tempered is broken😕</td>\n      <td>2</td>\n    </tr>\n    <tr>\n      <th>132107</th>\n      <td>Wrap raises even greater things to work proper...</td>\n      <td>5</td>\n    </tr>\n    <tr>\n      <th>117804</th>\n      <td>Good product quality excellent product quality...</td>\n      <td>5</td>\n    </tr>\n    <tr>\n      <th>112920</th>\n      <td>Keep kualitas.nya may always morbidly disappoi...</td>\n      <td>5</td>\n    </tr>\n    <tr>\n      <th>75252</th>\n      <td>Awesome awesome quality of goods and services</td>\n      <td>4</td>\n    </tr>\n    <tr>\n      <th>6557</th>\n      <td>Hours damaged in shipping .... Ask tangung ga ...</td>\n      <td>1</td>\n    </tr>\n    <tr>\n      <th>146626</th>\n      <td>Awesome service awesome speed of the ship awe...</td>\n      <td>5</td>\n    </tr>\n    <tr>\n      <th>144674</th>\n      <td>Awesome speed of the ship awesome awesome qua...</td>\n      <td>5</td>\n    </tr>\n    <tr>\n      <th>76388</th>\n      <td>Great seller also presented gifts Thank you, o...</td>\n      <td>4</td>\n    </tr>\n    <tr>\n      <th>83852</th>\n      <td>Very fast delivery order of 30 December aftern...</td>\n      <td>4</td>\n    </tr>\n  </tbody>\n</table>\n</div>"
     },
     "metadata": {},
     "execution_count": 4
    }
   ],
   "source": [
    "test = train_df.sample(10)\n",
    "test"
   ]
  },
  {
   "cell_type": "code",
   "execution_count": 5,
   "metadata": {},
   "outputs": [
    {
     "output_type": "execute_result",
     "data": {
      "text/plain": "                                                      review  rating\nreview_id                                                           \n13         KALO RULES DO NOT WANT TO PARTICIPATE IN CHAT ...       1\n33             Lacking those items, those filters only sent!       1\n57         Product quality has really bad enough With pho...       1\n93         Item ok. Just got friendly sellar directly whe...       1\n142        I ordered pixie Snow pinaship nio Kau ... anno...       1\n...                                                      ...     ...\n146696     Thank you! 2nd time in this shop to order .......       5\n146700     good and cheap . expiry in 2022.  heard good r...       5\n146727     The seller was very helpful and replied fast. ...       5\n146763     Wrong size. Large did you send, but still I re...       5\n146808      Awesome awesome quality merchandise value CP ...       5\n\n[6366 rows x 2 columns]",
      "text/html": "<div>\n<style scoped>\n    .dataframe tbody tr th:only-of-type {\n        vertical-align: middle;\n    }\n\n    .dataframe tbody tr th {\n        vertical-align: top;\n    }\n\n    .dataframe thead th {\n        text-align: right;\n    }\n</style>\n<table border=\"1\" class=\"dataframe\">\n  <thead>\n    <tr style=\"text-align: right;\">\n      <th></th>\n      <th>review</th>\n      <th>rating</th>\n    </tr>\n    <tr>\n      <th>review_id</th>\n      <th></th>\n      <th></th>\n    </tr>\n  </thead>\n  <tbody>\n    <tr>\n      <th>13</th>\n      <td>KALO RULES DO NOT WANT TO PARTICIPATE IN CHAT ...</td>\n      <td>1</td>\n    </tr>\n    <tr>\n      <th>33</th>\n      <td>Lacking those items, those filters only sent!</td>\n      <td>1</td>\n    </tr>\n    <tr>\n      <th>57</th>\n      <td>Product quality has really bad enough With pho...</td>\n      <td>1</td>\n    </tr>\n    <tr>\n      <th>93</th>\n      <td>Item ok. Just got friendly sellar directly whe...</td>\n      <td>1</td>\n    </tr>\n    <tr>\n      <th>142</th>\n      <td>I ordered pixie Snow pinaship nio Kau ... anno...</td>\n      <td>1</td>\n    </tr>\n    <tr>\n      <th>...</th>\n      <td>...</td>\n      <td>...</td>\n    </tr>\n    <tr>\n      <th>146696</th>\n      <td>Thank you! 2nd time in this shop to order .......</td>\n      <td>5</td>\n    </tr>\n    <tr>\n      <th>146700</th>\n      <td>good and cheap . expiry in 2022.  heard good r...</td>\n      <td>5</td>\n    </tr>\n    <tr>\n      <th>146727</th>\n      <td>The seller was very helpful and replied fast. ...</td>\n      <td>5</td>\n    </tr>\n    <tr>\n      <th>146763</th>\n      <td>Wrong size. Large did you send, but still I re...</td>\n      <td>5</td>\n    </tr>\n    <tr>\n      <th>146808</th>\n      <td>Awesome awesome quality merchandise value CP ...</td>\n      <td>5</td>\n    </tr>\n  </tbody>\n</table>\n<p>6366 rows × 2 columns</p>\n</div>"
     },
     "metadata": {},
     "execution_count": 5
    }
   ],
   "source": [
    "train_df[train_df['review'].str.contains(r'!')]"
   ]
  },
  {
   "cell_type": "markdown",
   "metadata": {},
   "source": [
    "What punctuation to remove? what not to remove?"
   ]
  },
  {
   "cell_type": "code",
   "execution_count": 6,
   "metadata": {},
   "outputs": [
    {
     "output_type": "execute_result",
     "data": {
      "text/plain": "review_id\n22356         [Vivo, s1, 9d, full, tempered, is, broken, 😕]\n132107    [Wrap, raises, even, greater, things, to, work...\n117804    [Good, product, quality, excellent, product, q...\n112920    [Keep, kualitas.nya, may, always, morbidly, di...\n75252     [Awesome, awesome, quality, of, goods, and, se...\n6557      [Hours, damaged, in, shipping, ...., Ask, tang...\n146626    [Awesome, service, awesome, speed, of, the, sh...\n144674    [Awesome, speed, of, the, ship, awesome, aweso...\n76388     [Great, seller, also, presented, gifts, Thank,...\n83852     [Very, fast, delivery, order, of, 30, December...\nName: review, dtype: object"
     },
     "metadata": {},
     "execution_count": 6
    }
   ],
   "source": [
    "test['review'].apply(mtk.tokenize)"
   ]
  },
  {
   "cell_type": "code",
   "execution_count": 7,
   "metadata": {},
   "outputs": [
    {
     "output_type": "execute_result",
     "data": {
      "text/plain": "['Hello',\n ',',\n 'it',\n '&apos;s',\n 'me',\n '💯',\n '(',\n 'I',\n '&apos;m',\n 'very',\n 'dumb',\n ')',\n 'bitch',\n '!',\n '!',\n '!',\n '!',\n '!',\n '💯']"
     },
     "metadata": {},
     "execution_count": 7
    }
   ],
   "source": [
    "mtk.tokenize(\"Hello, it's me💯 (I'm very dumb) bitch!!!!! 💯\")"
   ]
  },
  {
   "cell_type": "code",
   "execution_count": 8,
   "metadata": {},
   "outputs": [],
   "source": [
    "from sklearn.model_selection import train_test_split"
   ]
  },
  {
   "cell_type": "markdown",
   "metadata": {},
   "source": [
    "Split training and validation set"
   ]
  },
  {
   "cell_type": "code",
   "execution_count": 22,
   "metadata": {},
   "outputs": [],
   "source": [
    "train, val = train_test_split(train_df, train_size=0.8, random_state=0)\n",
    "train = train.reset_index(drop=True)\n",
    "val = val.reset_index(drop=True)"
   ]
  },
  {
   "cell_type": "code",
   "execution_count": 25,
   "metadata": {},
   "outputs": [],
   "source": [
    "train.to_csv('train_set.csv', index=False)"
   ]
  },
  {
   "cell_type": "code",
   "execution_count": 26,
   "metadata": {},
   "outputs": [],
   "source": [
    "val.to_csv('val_set.csv', index=False)"
   ]
  },
  {
   "cell_type": "markdown",
   "metadata": {},
   "source": [
    "Generate output format for FastText"
   ]
  },
  {
   "cell_type": "code",
   "execution_count": 12,
   "metadata": {},
   "outputs": [
    {
     "output_type": "execute_result",
     "data": {
      "text/plain": "                                                      review  rating\nreview_id                                                           \n71467      Package price already received fast delivery m...       4\n77216      Goods have to be in good condition. Sellsr fas...       4\n99225                 kapaditasnya passable bgt .. thank God       4\n111435      Awesome awesome quality of goods shipped spee...       5\n81297      Good bye but have not I go to hopefully cut no...       4\n...                                                      ...     ...\n41993                          Motifny bgs2 who ordern pertm       3\n97639                                   Good value for money       4\n95939          His legs to look very neat that goes on foot.       4\n117952                                 BRG ok..cantik lipez.       5\n43567      Like its more fit may be delivered late. I'm s...       3\n\n[117448 rows x 2 columns]",
      "text/html": "<div>\n<style scoped>\n    .dataframe tbody tr th:only-of-type {\n        vertical-align: middle;\n    }\n\n    .dataframe tbody tr th {\n        vertical-align: top;\n    }\n\n    .dataframe thead th {\n        text-align: right;\n    }\n</style>\n<table border=\"1\" class=\"dataframe\">\n  <thead>\n    <tr style=\"text-align: right;\">\n      <th></th>\n      <th>review</th>\n      <th>rating</th>\n    </tr>\n    <tr>\n      <th>review_id</th>\n      <th></th>\n      <th></th>\n    </tr>\n  </thead>\n  <tbody>\n    <tr>\n      <th>71467</th>\n      <td>Package price already received fast delivery m...</td>\n      <td>4</td>\n    </tr>\n    <tr>\n      <th>77216</th>\n      <td>Goods have to be in good condition. Sellsr fas...</td>\n      <td>4</td>\n    </tr>\n    <tr>\n      <th>99225</th>\n      <td>kapaditasnya passable bgt .. thank God</td>\n      <td>4</td>\n    </tr>\n    <tr>\n      <th>111435</th>\n      <td>Awesome awesome quality of goods shipped spee...</td>\n      <td>5</td>\n    </tr>\n    <tr>\n      <th>81297</th>\n      <td>Good bye but have not I go to hopefully cut no...</td>\n      <td>4</td>\n    </tr>\n    <tr>\n      <th>...</th>\n      <td>...</td>\n      <td>...</td>\n    </tr>\n    <tr>\n      <th>41993</th>\n      <td>Motifny bgs2 who ordern pertm</td>\n      <td>3</td>\n    </tr>\n    <tr>\n      <th>97639</th>\n      <td>Good value for money</td>\n      <td>4</td>\n    </tr>\n    <tr>\n      <th>95939</th>\n      <td>His legs to look very neat that goes on foot.</td>\n      <td>4</td>\n    </tr>\n    <tr>\n      <th>117952</th>\n      <td>BRG ok..cantik lipez.</td>\n      <td>5</td>\n    </tr>\n    <tr>\n      <th>43567</th>\n      <td>Like its more fit may be delivered late. I'm s...</td>\n      <td>3</td>\n    </tr>\n  </tbody>\n</table>\n<p>117448 rows × 2 columns</p>\n</div>"
     },
     "metadata": {},
     "execution_count": 12
    }
   ],
   "source": [
    "fasttext = train.copy()\n",
    "fasttext"
   ]
  },
  {
   "cell_type": "code",
   "execution_count": 13,
   "metadata": {},
   "outputs": [
    {
     "output_type": "execute_result",
     "data": {
      "text/plain": "                                                      review      rating\nreview_id                                                               \n71467      Package price already received fast delivery m...  __label__4\n77216      Goods have to be in good condition. Sellsr fas...  __label__4\n99225                 kapaditasnya passable bgt .. thank God  __label__4\n111435      Awesome awesome quality of goods shipped spee...  __label__5\n81297      Good bye but have not I go to hopefully cut no...  __label__4\n...                                                      ...         ...\n41993                          Motifny bgs2 who ordern pertm  __label__3\n97639                                   Good value for money  __label__4\n95939          His legs to look very neat that goes on foot.  __label__4\n117952                                 BRG ok..cantik lipez.  __label__5\n43567      Like its more fit may be delivered late. I'm s...  __label__3\n\n[117448 rows x 2 columns]",
      "text/html": "<div>\n<style scoped>\n    .dataframe tbody tr th:only-of-type {\n        vertical-align: middle;\n    }\n\n    .dataframe tbody tr th {\n        vertical-align: top;\n    }\n\n    .dataframe thead th {\n        text-align: right;\n    }\n</style>\n<table border=\"1\" class=\"dataframe\">\n  <thead>\n    <tr style=\"text-align: right;\">\n      <th></th>\n      <th>review</th>\n      <th>rating</th>\n    </tr>\n    <tr>\n      <th>review_id</th>\n      <th></th>\n      <th></th>\n    </tr>\n  </thead>\n  <tbody>\n    <tr>\n      <th>71467</th>\n      <td>Package price already received fast delivery m...</td>\n      <td>__label__4</td>\n    </tr>\n    <tr>\n      <th>77216</th>\n      <td>Goods have to be in good condition. Sellsr fas...</td>\n      <td>__label__4</td>\n    </tr>\n    <tr>\n      <th>99225</th>\n      <td>kapaditasnya passable bgt .. thank God</td>\n      <td>__label__4</td>\n    </tr>\n    <tr>\n      <th>111435</th>\n      <td>Awesome awesome quality of goods shipped spee...</td>\n      <td>__label__5</td>\n    </tr>\n    <tr>\n      <th>81297</th>\n      <td>Good bye but have not I go to hopefully cut no...</td>\n      <td>__label__4</td>\n    </tr>\n    <tr>\n      <th>...</th>\n      <td>...</td>\n      <td>...</td>\n    </tr>\n    <tr>\n      <th>41993</th>\n      <td>Motifny bgs2 who ordern pertm</td>\n      <td>__label__3</td>\n    </tr>\n    <tr>\n      <th>97639</th>\n      <td>Good value for money</td>\n      <td>__label__4</td>\n    </tr>\n    <tr>\n      <th>95939</th>\n      <td>His legs to look very neat that goes on foot.</td>\n      <td>__label__4</td>\n    </tr>\n    <tr>\n      <th>117952</th>\n      <td>BRG ok..cantik lipez.</td>\n      <td>__label__5</td>\n    </tr>\n    <tr>\n      <th>43567</th>\n      <td>Like its more fit may be delivered late. I'm s...</td>\n      <td>__label__3</td>\n    </tr>\n  </tbody>\n</table>\n<p>117448 rows × 2 columns</p>\n</div>"
     },
     "metadata": {},
     "execution_count": 13
    }
   ],
   "source": [
    "fasttext['rating'] = '__label__' + fasttext['rating'].astype('str')\n",
    "fasttext"
   ]
  },
  {
   "cell_type": "code",
   "execution_count": 14,
   "metadata": {},
   "outputs": [],
   "source": [
    "fasttext.to_csv('fasttext.txt', sep=' ', index=False, header=False)"
   ]
  },
  {
   "cell_type": "code",
   "execution_count": 15,
   "metadata": {},
   "outputs": [],
   "source": [
    "fasttext_val = val.copy()\n",
    "fasttext_val['rating'] = '__label__' + fasttext_val['rating'].astype('str')\n",
    "fasttext_val.to_csv('fasttext_val.txt', sep=' ', index=False, header=False)"
   ]
  },
  {
   "cell_type": "markdown",
   "metadata": {},
   "source": [
    "Class size"
   ]
  },
  {
   "cell_type": "code",
   "execution_count": 16,
   "metadata": {},
   "outputs": [
    {
     "output_type": "execute_result",
     "data": {
      "text/plain": "          review\nrating          \n1       0.100708\n2       0.086540\n3       0.244811\n4       0.285163\n5       0.282779",
      "text/html": "<div>\n<style scoped>\n    .dataframe tbody tr th:only-of-type {\n        vertical-align: middle;\n    }\n\n    .dataframe tbody tr th {\n        vertical-align: top;\n    }\n\n    .dataframe thead th {\n        text-align: right;\n    }\n</style>\n<table border=\"1\" class=\"dataframe\">\n  <thead>\n    <tr style=\"text-align: right;\">\n      <th></th>\n      <th>review</th>\n    </tr>\n    <tr>\n      <th>rating</th>\n      <th></th>\n    </tr>\n  </thead>\n  <tbody>\n    <tr>\n      <th>1</th>\n      <td>0.100708</td>\n    </tr>\n    <tr>\n      <th>2</th>\n      <td>0.086540</td>\n    </tr>\n    <tr>\n      <th>3</th>\n      <td>0.244811</td>\n    </tr>\n    <tr>\n      <th>4</th>\n      <td>0.285163</td>\n    </tr>\n    <tr>\n      <th>5</th>\n      <td>0.282779</td>\n    </tr>\n  </tbody>\n</table>\n</div>"
     },
     "metadata": {},
     "execution_count": 16
    }
   ],
   "source": [
    "train_df.groupby('rating').count() / len(train_df)"
   ]
  },
  {
   "cell_type": "code",
   "execution_count": null,
   "metadata": {},
   "outputs": [],
   "source": []
  }
 ]
}