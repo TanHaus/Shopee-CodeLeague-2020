{
 "metadata": {
  "language_info": {
   "codemirror_mode": {
    "name": "ipython",
    "version": 3
   },
   "file_extension": ".py",
   "mimetype": "text/x-python",
   "name": "python",
   "nbconvert_exporter": "python",
   "pygments_lexer": "ipython3",
   "version": 3
  },
  "orig_nbformat": 2,
  "kernelspec": {
   "name": "python_defaultSpec_1595658267920",
   "display_name": "Python 3.7.7 64-bit ('Anaconda3': conda)"
  }
 },
 "nbformat": 4,
 "nbformat_minor": 2,
 "cells": [
  {
   "cell_type": "code",
   "execution_count": 1,
   "metadata": {},
   "outputs": [],
   "source": [
    "import pandas as pd"
   ]
  },
  {
   "cell_type": "code",
   "execution_count": 2,
   "metadata": {},
   "outputs": [
    {
     "output_type": "execute_result",
     "data": {
      "text/plain": "        review_id                                             review  rating\n0               0  Ga disappointed neat products .. Meletot Hilsn...       1\n1               1    Rdtanya replace broken glass, broken chargernya       1\n2               2  Nyesel bngt dsni shopping antecedent photo mes...       1\n3               3      Sent a light blue suit goods ga want a refund       1\n4               4  Pendants came with dents and scratches on its ...       1\n...           ...                                                ...     ...\n146806     146806  Excellent product quality delivery speed is ve...       5\n146807     146807                                         thanks gan       5\n146808     146808   Awesome awesome quality merchandise value CP ...       5\n146809     146809  Nice Packing boxes made effective price .........       5\n146810     146810   Excellent product quality excellent product p...       5\n\n[146811 rows x 3 columns]",
      "text/html": "<div>\n<style scoped>\n    .dataframe tbody tr th:only-of-type {\n        vertical-align: middle;\n    }\n\n    .dataframe tbody tr th {\n        vertical-align: top;\n    }\n\n    .dataframe thead th {\n        text-align: right;\n    }\n</style>\n<table border=\"1\" class=\"dataframe\">\n  <thead>\n    <tr style=\"text-align: right;\">\n      <th></th>\n      <th>review_id</th>\n      <th>review</th>\n      <th>rating</th>\n    </tr>\n  </thead>\n  <tbody>\n    <tr>\n      <th>0</th>\n      <td>0</td>\n      <td>Ga disappointed neat products .. Meletot Hilsn...</td>\n      <td>1</td>\n    </tr>\n    <tr>\n      <th>1</th>\n      <td>1</td>\n      <td>Rdtanya replace broken glass, broken chargernya</td>\n      <td>1</td>\n    </tr>\n    <tr>\n      <th>2</th>\n      <td>2</td>\n      <td>Nyesel bngt dsni shopping antecedent photo mes...</td>\n      <td>1</td>\n    </tr>\n    <tr>\n      <th>3</th>\n      <td>3</td>\n      <td>Sent a light blue suit goods ga want a refund</td>\n      <td>1</td>\n    </tr>\n    <tr>\n      <th>4</th>\n      <td>4</td>\n      <td>Pendants came with dents and scratches on its ...</td>\n      <td>1</td>\n    </tr>\n    <tr>\n      <th>...</th>\n      <td>...</td>\n      <td>...</td>\n      <td>...</td>\n    </tr>\n    <tr>\n      <th>146806</th>\n      <td>146806</td>\n      <td>Excellent product quality delivery speed is ve...</td>\n      <td>5</td>\n    </tr>\n    <tr>\n      <th>146807</th>\n      <td>146807</td>\n      <td>thanks gan</td>\n      <td>5</td>\n    </tr>\n    <tr>\n      <th>146808</th>\n      <td>146808</td>\n      <td>Awesome awesome quality merchandise value CP ...</td>\n      <td>5</td>\n    </tr>\n    <tr>\n      <th>146809</th>\n      <td>146809</td>\n      <td>Nice Packing boxes made effective price .........</td>\n      <td>5</td>\n    </tr>\n    <tr>\n      <th>146810</th>\n      <td>146810</td>\n      <td>Excellent product quality excellent product p...</td>\n      <td>5</td>\n    </tr>\n  </tbody>\n</table>\n<p>146811 rows × 3 columns</p>\n</div>"
     },
     "metadata": {},
     "execution_count": 2
    }
   ],
   "source": [
    "train_df = pd.read_csv('train.csv')\n",
    "train_df"
   ]
  },
  {
   "cell_type": "code",
   "execution_count": 3,
   "metadata": {
    "tags": []
   },
   "outputs": [
    {
     "output_type": "stream",
     "name": "stdout",
     "text": "Original reviews:  146811\nNo duplicated reviews and ratings:  116886\nNo duplicated reviews:  115328\n"
    }
   ],
   "source": [
    "print('Original reviews: ', len(train_df))\n",
    "print('No duplicated reviews and ratings: ', len(train_df.drop_duplicates(['review', 'rating'])))\n",
    "print('No duplicated reviews: ', len(train_df.drop_duplicates('review')))"
   ]
  },
  {
   "cell_type": "code",
   "execution_count": 4,
   "metadata": {},
   "outputs": [
    {
     "output_type": "execute_result",
     "data": {
      "text/plain": "        review_id                                             review  rating\n0               0  Ga disappointed neat products .. Meletot Hilsn...       1\n1               1    Rdtanya replace broken glass, broken chargernya       1\n2               2  Nyesel bngt dsni shopping antecedent photo mes...       1\n3               3      Sent a light blue suit goods ga want a refund       1\n4               4  Pendants came with dents and scratches on its ...       1\n...           ...                                                ...     ...\n146804     146804   Excellent quality Excellent quality Very acco...       5\n146806     146806  Excellent product quality delivery speed is ve...       5\n146807     146807                                         thanks gan       5\n146808     146808   Awesome awesome quality merchandise value CP ...       5\n146809     146809  Nice Packing boxes made effective price .........       5\n\n[116886 rows x 3 columns]",
      "text/html": "<div>\n<style scoped>\n    .dataframe tbody tr th:only-of-type {\n        vertical-align: middle;\n    }\n\n    .dataframe tbody tr th {\n        vertical-align: top;\n    }\n\n    .dataframe thead th {\n        text-align: right;\n    }\n</style>\n<table border=\"1\" class=\"dataframe\">\n  <thead>\n    <tr style=\"text-align: right;\">\n      <th></th>\n      <th>review_id</th>\n      <th>review</th>\n      <th>rating</th>\n    </tr>\n  </thead>\n  <tbody>\n    <tr>\n      <th>0</th>\n      <td>0</td>\n      <td>Ga disappointed neat products .. Meletot Hilsn...</td>\n      <td>1</td>\n    </tr>\n    <tr>\n      <th>1</th>\n      <td>1</td>\n      <td>Rdtanya replace broken glass, broken chargernya</td>\n      <td>1</td>\n    </tr>\n    <tr>\n      <th>2</th>\n      <td>2</td>\n      <td>Nyesel bngt dsni shopping antecedent photo mes...</td>\n      <td>1</td>\n    </tr>\n    <tr>\n      <th>3</th>\n      <td>3</td>\n      <td>Sent a light blue suit goods ga want a refund</td>\n      <td>1</td>\n    </tr>\n    <tr>\n      <th>4</th>\n      <td>4</td>\n      <td>Pendants came with dents and scratches on its ...</td>\n      <td>1</td>\n    </tr>\n    <tr>\n      <th>...</th>\n      <td>...</td>\n      <td>...</td>\n      <td>...</td>\n    </tr>\n    <tr>\n      <th>146804</th>\n      <td>146804</td>\n      <td>Excellent quality Excellent quality Very acco...</td>\n      <td>5</td>\n    </tr>\n    <tr>\n      <th>146806</th>\n      <td>146806</td>\n      <td>Excellent product quality delivery speed is ve...</td>\n      <td>5</td>\n    </tr>\n    <tr>\n      <th>146807</th>\n      <td>146807</td>\n      <td>thanks gan</td>\n      <td>5</td>\n    </tr>\n    <tr>\n      <th>146808</th>\n      <td>146808</td>\n      <td>Awesome awesome quality merchandise value CP ...</td>\n      <td>5</td>\n    </tr>\n    <tr>\n      <th>146809</th>\n      <td>146809</td>\n      <td>Nice Packing boxes made effective price .........</td>\n      <td>5</td>\n    </tr>\n  </tbody>\n</table>\n<p>116886 rows × 3 columns</p>\n</div>"
     },
     "metadata": {},
     "execution_count": 4
    }
   ],
   "source": [
    "train_df = train_df.drop_duplicates(['review', 'rating'])\n",
    "train_df"
   ]
  },
  {
   "cell_type": "code",
   "execution_count": 5,
   "metadata": {},
   "outputs": [
    {
     "output_type": "execute_result",
     "data": {
      "text/plain": "        review_id  review\nrating                   \n1           13807   13807\n2           11262   11262\n3           28479   28479\n4           31931   31931\n5           31407   31407",
      "text/html": "<div>\n<style scoped>\n    .dataframe tbody tr th:only-of-type {\n        vertical-align: middle;\n    }\n\n    .dataframe tbody tr th {\n        vertical-align: top;\n    }\n\n    .dataframe thead th {\n        text-align: right;\n    }\n</style>\n<table border=\"1\" class=\"dataframe\">\n  <thead>\n    <tr style=\"text-align: right;\">\n      <th></th>\n      <th>review_id</th>\n      <th>review</th>\n    </tr>\n    <tr>\n      <th>rating</th>\n      <th></th>\n      <th></th>\n    </tr>\n  </thead>\n  <tbody>\n    <tr>\n      <th>1</th>\n      <td>13807</td>\n      <td>13807</td>\n    </tr>\n    <tr>\n      <th>2</th>\n      <td>11262</td>\n      <td>11262</td>\n    </tr>\n    <tr>\n      <th>3</th>\n      <td>28479</td>\n      <td>28479</td>\n    </tr>\n    <tr>\n      <th>4</th>\n      <td>31931</td>\n      <td>31931</td>\n    </tr>\n    <tr>\n      <th>5</th>\n      <td>31407</td>\n      <td>31407</td>\n    </tr>\n  </tbody>\n</table>\n</div>"
     },
     "metadata": {},
     "execution_count": 5
    }
   ],
   "source": [
    "train_df.groupby('rating').count()"
   ]
  },
  {
   "cell_type": "code",
   "execution_count": 6,
   "metadata": {
    "tags": []
   },
   "outputs": [
    {
     "output_type": "stream",
     "name": "stdout",
     "text": "[1 2 3 4 5]\n"
    }
   ],
   "source": [
    "NUM_VAL = 2000\n",
    "ratings = train_df['rating'].unique()\n",
    "print(ratings)"
   ]
  },
  {
   "cell_type": "code",
   "execution_count": 7,
   "metadata": {},
   "outputs": [
    {
     "output_type": "execute_result",
     "data": {
      "text/plain": "       review_id                                             review rating\n10271      10271  Order black. But until the color of khakis. Or...      1\n7989        7989  Response sellers alike absolutely nothing. ver...      1\n8461        8461                     Keep it in the bag rice weevil      1\n632          632  Ga receipt of goods, confirmed to be from the ...      1\n7225        7225  goods bagussssssssssssssssssssssssssssssssssss...      1\n...          ...                                                ...    ...\n139698    139698  Original product. The price of the best parts....      5\n127278    127278  CPET bgt his delivery, packing oke bgt, safe p...      5\n140972    140972  Thank you for your boss at home really texture...      5\n139004    139004  Thank you seller....products delivered in good...      5\n107836    107836   Awesome service awesome speed of the ship awe...      5\n\n[10000 rows x 3 columns]",
      "text/html": "<div>\n<style scoped>\n    .dataframe tbody tr th:only-of-type {\n        vertical-align: middle;\n    }\n\n    .dataframe tbody tr th {\n        vertical-align: top;\n    }\n\n    .dataframe thead th {\n        text-align: right;\n    }\n</style>\n<table border=\"1\" class=\"dataframe\">\n  <thead>\n    <tr style=\"text-align: right;\">\n      <th></th>\n      <th>review_id</th>\n      <th>review</th>\n      <th>rating</th>\n    </tr>\n  </thead>\n  <tbody>\n    <tr>\n      <th>10271</th>\n      <td>10271</td>\n      <td>Order black. But until the color of khakis. Or...</td>\n      <td>1</td>\n    </tr>\n    <tr>\n      <th>7989</th>\n      <td>7989</td>\n      <td>Response sellers alike absolutely nothing. ver...</td>\n      <td>1</td>\n    </tr>\n    <tr>\n      <th>8461</th>\n      <td>8461</td>\n      <td>Keep it in the bag rice weevil</td>\n      <td>1</td>\n    </tr>\n    <tr>\n      <th>632</th>\n      <td>632</td>\n      <td>Ga receipt of goods, confirmed to be from the ...</td>\n      <td>1</td>\n    </tr>\n    <tr>\n      <th>7225</th>\n      <td>7225</td>\n      <td>goods bagussssssssssssssssssssssssssssssssssss...</td>\n      <td>1</td>\n    </tr>\n    <tr>\n      <th>...</th>\n      <td>...</td>\n      <td>...</td>\n      <td>...</td>\n    </tr>\n    <tr>\n      <th>139698</th>\n      <td>139698</td>\n      <td>Original product. The price of the best parts....</td>\n      <td>5</td>\n    </tr>\n    <tr>\n      <th>127278</th>\n      <td>127278</td>\n      <td>CPET bgt his delivery, packing oke bgt, safe p...</td>\n      <td>5</td>\n    </tr>\n    <tr>\n      <th>140972</th>\n      <td>140972</td>\n      <td>Thank you for your boss at home really texture...</td>\n      <td>5</td>\n    </tr>\n    <tr>\n      <th>139004</th>\n      <td>139004</td>\n      <td>Thank you seller....products delivered in good...</td>\n      <td>5</td>\n    </tr>\n    <tr>\n      <th>107836</th>\n      <td>107836</td>\n      <td>Awesome service awesome speed of the ship awe...</td>\n      <td>5</td>\n    </tr>\n  </tbody>\n</table>\n<p>10000 rows × 3 columns</p>\n</div>"
     },
     "metadata": {},
     "execution_count": 7
    }
   ],
   "source": [
    "val_df = pd.DataFrame(columns=['review_id', 'review', 'rating'])\n",
    "\n",
    "for rating in ratings:\n",
    "    sub_df = train_df[train_df['rating'] == rating]\n",
    "    sub_df = sub_df.sample(NUM_VAL, random_state=0)\n",
    "    \n",
    "    val_df = pd.concat([val_df, sub_df])\n",
    "\n",
    "val_df"
   ]
  },
  {
   "cell_type": "code",
   "execution_count": 8,
   "metadata": {},
   "outputs": [
    {
     "output_type": "execute_result",
     "data": {
      "text/plain": "        review_id                                             review  rating\n0               0  Ga disappointed neat products .. Meletot Hilsn...       1\n1               1    Rdtanya replace broken glass, broken chargernya       1\n2               2  Nyesel bngt dsni shopping antecedent photo mes...       1\n3               3      Sent a light blue suit goods ga want a refund       1\n4               4  Pendants came with dents and scratches on its ...       1\n...           ...                                                ...     ...\n146803     146803                       Thanks you very satisfactory       5\n146804     146804   Excellent quality Excellent quality Very acco...       5\n146806     146806  Excellent product quality delivery speed is ve...       5\n146807     146807                                         thanks gan       5\n146808     146808   Awesome awesome quality merchandise value CP ...       5\n\n[106886 rows x 3 columns]",
      "text/html": "<div>\n<style scoped>\n    .dataframe tbody tr th:only-of-type {\n        vertical-align: middle;\n    }\n\n    .dataframe tbody tr th {\n        vertical-align: top;\n    }\n\n    .dataframe thead th {\n        text-align: right;\n    }\n</style>\n<table border=\"1\" class=\"dataframe\">\n  <thead>\n    <tr style=\"text-align: right;\">\n      <th></th>\n      <th>review_id</th>\n      <th>review</th>\n      <th>rating</th>\n    </tr>\n  </thead>\n  <tbody>\n    <tr>\n      <th>0</th>\n      <td>0</td>\n      <td>Ga disappointed neat products .. Meletot Hilsn...</td>\n      <td>1</td>\n    </tr>\n    <tr>\n      <th>1</th>\n      <td>1</td>\n      <td>Rdtanya replace broken glass, broken chargernya</td>\n      <td>1</td>\n    </tr>\n    <tr>\n      <th>2</th>\n      <td>2</td>\n      <td>Nyesel bngt dsni shopping antecedent photo mes...</td>\n      <td>1</td>\n    </tr>\n    <tr>\n      <th>3</th>\n      <td>3</td>\n      <td>Sent a light blue suit goods ga want a refund</td>\n      <td>1</td>\n    </tr>\n    <tr>\n      <th>4</th>\n      <td>4</td>\n      <td>Pendants came with dents and scratches on its ...</td>\n      <td>1</td>\n    </tr>\n    <tr>\n      <th>...</th>\n      <td>...</td>\n      <td>...</td>\n      <td>...</td>\n    </tr>\n    <tr>\n      <th>146803</th>\n      <td>146803</td>\n      <td>Thanks you very satisfactory</td>\n      <td>5</td>\n    </tr>\n    <tr>\n      <th>146804</th>\n      <td>146804</td>\n      <td>Excellent quality Excellent quality Very acco...</td>\n      <td>5</td>\n    </tr>\n    <tr>\n      <th>146806</th>\n      <td>146806</td>\n      <td>Excellent product quality delivery speed is ve...</td>\n      <td>5</td>\n    </tr>\n    <tr>\n      <th>146807</th>\n      <td>146807</td>\n      <td>thanks gan</td>\n      <td>5</td>\n    </tr>\n    <tr>\n      <th>146808</th>\n      <td>146808</td>\n      <td>Awesome awesome quality merchandise value CP ...</td>\n      <td>5</td>\n    </tr>\n  </tbody>\n</table>\n<p>106886 rows × 3 columns</p>\n</div>"
     },
     "metadata": {},
     "execution_count": 8
    }
   ],
   "source": [
    "train_df = train_df[~train_df['review_id'].isin(val_df['review_id'])]\n",
    "train_df"
   ]
  },
  {
   "cell_type": "code",
   "execution_count": 9,
   "metadata": {},
   "outputs": [],
   "source": [
    "val_df = val_df.loc[:, ['review', 'rating']]\n",
    "val_df = val_df.reset_index(drop=True)\n",
    "\n",
    "train_df = train_df.loc[:, ['review', 'rating']]\n",
    "train_df = train_df.reset_index(drop=True)"
   ]
  },
  {
   "cell_type": "code",
   "execution_count": 10,
   "metadata": {
    "tags": []
   },
   "outputs": [
    {
     "output_type": "stream",
     "name": "stdout",
     "text": "review\nrating        \n1         2000\n2         2000\n3         2000\n4         2000\n5         2000\n        review\nrating        \n1        11807\n2         9262\n3        26479\n4        29931\n5        29407\n"
    }
   ],
   "source": [
    "print(val_df.groupby('rating').count())\n",
    "print(train_df.groupby('rating').count())"
   ]
  },
  {
   "cell_type": "code",
   "execution_count": 11,
   "metadata": {},
   "outputs": [],
   "source": [
    "val_df.to_csv('val_ds.csv', index=False)\n",
    "train_df.to_csv('train_ds.csv', index=False)"
   ]
  },
  {
   "cell_type": "code",
   "execution_count": null,
   "metadata": {},
   "outputs": [],
   "source": []
  }
 ]
}