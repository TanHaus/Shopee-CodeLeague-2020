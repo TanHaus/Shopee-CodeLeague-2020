{
 "metadata": {
  "language_info": {
   "codemirror_mode": {
    "name": "ipython",
    "version": 3
   },
   "file_extension": ".py",
   "mimetype": "text/x-python",
   "name": "python",
   "nbconvert_exporter": "python",
   "pygments_lexer": "ipython3",
   "version": 3
  },
  "orig_nbformat": 2,
  "kernelspec": {
   "name": "python_defaultSpec_1595349432200",
   "display_name": "Python 3.7.6 64-bit"
  }
 },
 "nbformat": 4,
 "nbformat_minor": 2,
 "cells": [
  {
   "cell_type": "code",
   "execution_count": 5,
   "metadata": {},
   "outputs": [],
   "source": [
    "import pandas as pd\n",
    "from sacremoses import MosesTokenizer\n",
    "\n",
    "import fasttext"
   ]
  },
  {
   "cell_type": "code",
   "execution_count": 2,
   "metadata": {},
   "outputs": [],
   "source": [
    "mtk = MosesTokenizer()"
   ]
  },
  {
   "cell_type": "code",
   "execution_count": 3,
   "metadata": {},
   "outputs": [
    {
     "output_type": "execute_result",
     "data": {
      "text/plain": "                                                      review\nreview_id                                                   \n1          Great danger, cool, motif and cantik2 jg model...\n2                           One of the shades don't fit well\n3                                           Very comfortable\n4          Fast delivery. Product expiry is on Dec 2022. ...\n5          it's sooooo cute! i like playing with the glit...\n...                                                      ...\n60423      Product has been succesfully ordered and shipp...\n60424      Opening time a little scared. Fear dalemnya de...\n60425       The product quality is excellent. The origina...\n60426                 They 're holding up REALLY well also .\n60427      Rapid response and detail ...\\nThanks gan, the...\n\n[60427 rows x 1 columns]",
      "text/html": "<div>\n<style scoped>\n    .dataframe tbody tr th:only-of-type {\n        vertical-align: middle;\n    }\n\n    .dataframe tbody tr th {\n        vertical-align: top;\n    }\n\n    .dataframe thead th {\n        text-align: right;\n    }\n</style>\n<table border=\"1\" class=\"dataframe\">\n  <thead>\n    <tr style=\"text-align: right;\">\n      <th></th>\n      <th>review</th>\n    </tr>\n    <tr>\n      <th>review_id</th>\n      <th></th>\n    </tr>\n  </thead>\n  <tbody>\n    <tr>\n      <th>1</th>\n      <td>Great danger, cool, motif and cantik2 jg model...</td>\n    </tr>\n    <tr>\n      <th>2</th>\n      <td>One of the shades don't fit well</td>\n    </tr>\n    <tr>\n      <th>3</th>\n      <td>Very comfortable</td>\n    </tr>\n    <tr>\n      <th>4</th>\n      <td>Fast delivery. Product expiry is on Dec 2022. ...</td>\n    </tr>\n    <tr>\n      <th>5</th>\n      <td>it's sooooo cute! i like playing with the glit...</td>\n    </tr>\n    <tr>\n      <th>...</th>\n      <td>...</td>\n    </tr>\n    <tr>\n      <th>60423</th>\n      <td>Product has been succesfully ordered and shipp...</td>\n    </tr>\n    <tr>\n      <th>60424</th>\n      <td>Opening time a little scared. Fear dalemnya de...</td>\n    </tr>\n    <tr>\n      <th>60425</th>\n      <td>The product quality is excellent. The origina...</td>\n    </tr>\n    <tr>\n      <th>60426</th>\n      <td>They 're holding up REALLY well also .</td>\n    </tr>\n    <tr>\n      <th>60427</th>\n      <td>Rapid response and detail ...\\nThanks gan, the...</td>\n    </tr>\n  </tbody>\n</table>\n<p>60427 rows × 1 columns</p>\n</div>"
     },
     "metadata": {},
     "execution_count": 3
    }
   ],
   "source": [
    "test = pd.read_csv('test.csv', index_col='review_id')\n",
    "test"
   ]
  },
  {
   "cell_type": "code",
   "execution_count": 4,
   "metadata": {},
   "outputs": [
    {
     "output_type": "execute_result",
     "data": {
      "text/plain": "                                                      review  \\\nreview_id                                                      \n1          Great danger, cool, motif and cantik2 jg model...   \n2                           One of the shades don't fit well   \n3                                           Very comfortable   \n4          Fast delivery. Product expiry is on Dec 2022. ...   \n5          it's sooooo cute! i like playing with the glit...   \n...                                                      ...   \n60423      Product has been succesfully ordered and shipp...   \n60424      Opening time a little scared. Fear dalemnya de...   \n60425       The product quality is excellent. The origina...   \n60426                 They 're holding up REALLY well also .   \n60427      Rapid response and detail ...\\nThanks gan, the...   \n\n                                                review_clean  \nreview_id                                                     \n1          [great, danger., cool., motif, and, cantik2, j...  \n2            [one, of, the, shades, don, &apos;t, fit, well]  \n3                                        [very, comfortable]  \n4          [fast, delivery., product, expiry, is, on, dec...  \n5          [it, &apos;s, sooooo, cute., i, like, playing,...  \n...                                                      ...  \n60423      [product, has, been, succesfully, ordered, and...  \n60424      [opening, time, a, little, scared., fear, dale...  \n60425      [the, product, quality, is, excellent., the, o...  \n60426      [they, &apos;, re, holding, up, really, well, ...  \n60427      [rapid, response, and, detail, ., thanks, gan....  \n\n[60427 rows x 2 columns]",
      "text/html": "<div>\n<style scoped>\n    .dataframe tbody tr th:only-of-type {\n        vertical-align: middle;\n    }\n\n    .dataframe tbody tr th {\n        vertical-align: top;\n    }\n\n    .dataframe thead th {\n        text-align: right;\n    }\n</style>\n<table border=\"1\" class=\"dataframe\">\n  <thead>\n    <tr style=\"text-align: right;\">\n      <th></th>\n      <th>review</th>\n      <th>review_clean</th>\n    </tr>\n    <tr>\n      <th>review_id</th>\n      <th></th>\n      <th></th>\n    </tr>\n  </thead>\n  <tbody>\n    <tr>\n      <th>1</th>\n      <td>Great danger, cool, motif and cantik2 jg model...</td>\n      <td>[great, danger., cool., motif, and, cantik2, j...</td>\n    </tr>\n    <tr>\n      <th>2</th>\n      <td>One of the shades don't fit well</td>\n      <td>[one, of, the, shades, don, &amp;apos;t, fit, well]</td>\n    </tr>\n    <tr>\n      <th>3</th>\n      <td>Very comfortable</td>\n      <td>[very, comfortable]</td>\n    </tr>\n    <tr>\n      <th>4</th>\n      <td>Fast delivery. Product expiry is on Dec 2022. ...</td>\n      <td>[fast, delivery., product, expiry, is, on, dec...</td>\n    </tr>\n    <tr>\n      <th>5</th>\n      <td>it's sooooo cute! i like playing with the glit...</td>\n      <td>[it, &amp;apos;s, sooooo, cute., i, like, playing,...</td>\n    </tr>\n    <tr>\n      <th>...</th>\n      <td>...</td>\n      <td>...</td>\n    </tr>\n    <tr>\n      <th>60423</th>\n      <td>Product has been succesfully ordered and shipp...</td>\n      <td>[product, has, been, succesfully, ordered, and...</td>\n    </tr>\n    <tr>\n      <th>60424</th>\n      <td>Opening time a little scared. Fear dalemnya de...</td>\n      <td>[opening, time, a, little, scared., fear, dale...</td>\n    </tr>\n    <tr>\n      <th>60425</th>\n      <td>The product quality is excellent. The origina...</td>\n      <td>[the, product, quality, is, excellent., the, o...</td>\n    </tr>\n    <tr>\n      <th>60426</th>\n      <td>They 're holding up REALLY well also .</td>\n      <td>[they, &amp;apos;, re, holding, up, really, well, ...</td>\n    </tr>\n    <tr>\n      <th>60427</th>\n      <td>Rapid response and detail ...\\nThanks gan, the...</td>\n      <td>[rapid, response, and, detail, ., thanks, gan....</td>\n    </tr>\n  </tbody>\n</table>\n<p>60427 rows × 2 columns</p>\n</div>"
     },
     "metadata": {},
     "execution_count": 4
    }
   ],
   "source": [
    "def clean(series):\n",
    "    series = series.str.lower()\n",
    "\n",
    "    series = series.str.replace(r'’', '\\'')\n",
    "    series = series.str.replace(r'#[a-z]+', ' ')\n",
    "    series = series.str.replace(r'@[a-z]+', ' ')\n",
    "    series = series.str.replace(r'[\\+\\*=@#<>\\(\\)\\[\\]\\^_]+', ' ')\n",
    "    series = series.str.replace(r'[,!?;.:]+', '. ')\n",
    "\n",
    "    series = series.apply(mtk.tokenize)\n",
    "\n",
    "    return series\n",
    "\n",
    "test['review_clean'] = clean(test['review'])\n",
    "test"
   ]
  },
  {
   "cell_type": "code",
   "execution_count": 6,
   "metadata": {
    "tags": []
   },
   "outputs": [
    {
     "output_type": "stream",
     "name": "stderr",
     "text": "Warning : `load_model` does not return WordVectorModel or SupervisedModel any more, but a `FastText` object which is very similar.\n"
    },
    {
     "output_type": "execute_result",
     "data": {
      "text/plain": "['</s>',\n '.',\n 'the',\n 'good',\n 'is',\n 'product',\n 'quality',\n 'very',\n '👍',\n 'delivery']"
     },
     "metadata": {},
     "execution_count": 6
    }
   ],
   "source": [
    "model = fasttext.load_model('fasttext_dim300_lr0001_epoch200_wordNgrams2.bin')\n",
    "model.words[:10]"
   ]
  },
  {
   "cell_type": "code",
   "execution_count": 7,
   "metadata": {},
   "outputs": [
    {
     "output_type": "execute_result",
     "data": {
      "text/plain": "                                                      review  \\\nreview_id                                                      \n1          Great danger, cool, motif and cantik2 jg model...   \n2                           One of the shades don't fit well   \n3                                           Very comfortable   \n4          Fast delivery. Product expiry is on Dec 2022. ...   \n5          it's sooooo cute! i like playing with the glit...   \n...                                                      ...   \n60423      Product has been succesfully ordered and shipp...   \n60424      Opening time a little scared. Fear dalemnya de...   \n60425       The product quality is excellent. The origina...   \n60426                 They 're holding up REALLY well also .   \n60427      Rapid response and detail ...\\nThanks gan, the...   \n\n                                                review_clean  \nreview_id                                                     \n1          great danger. cool. motif and cantik2 jg model...  \n2                     one of the shades don &apos;t fit well  \n3                                           very comfortable  \n4          fast delivery. product expiry is on dec 2022. ...  \n5          it &apos;s sooooo cute. i like playing with th...  \n...                                                      ...  \n60423      product has been succesfully ordered and shipp...  \n60424      opening time a little scared. fear dalemnya de...  \n60425      the product quality is excellent. the original...  \n60426           they &apos; re holding up really well also .  \n60427      rapid response and detail . thanks gan. the go...  \n\n[60427 rows x 2 columns]",
      "text/html": "<div>\n<style scoped>\n    .dataframe tbody tr th:only-of-type {\n        vertical-align: middle;\n    }\n\n    .dataframe tbody tr th {\n        vertical-align: top;\n    }\n\n    .dataframe thead th {\n        text-align: right;\n    }\n</style>\n<table border=\"1\" class=\"dataframe\">\n  <thead>\n    <tr style=\"text-align: right;\">\n      <th></th>\n      <th>review</th>\n      <th>review_clean</th>\n    </tr>\n    <tr>\n      <th>review_id</th>\n      <th></th>\n      <th></th>\n    </tr>\n  </thead>\n  <tbody>\n    <tr>\n      <th>1</th>\n      <td>Great danger, cool, motif and cantik2 jg model...</td>\n      <td>great danger. cool. motif and cantik2 jg model...</td>\n    </tr>\n    <tr>\n      <th>2</th>\n      <td>One of the shades don't fit well</td>\n      <td>one of the shades don &amp;apos;t fit well</td>\n    </tr>\n    <tr>\n      <th>3</th>\n      <td>Very comfortable</td>\n      <td>very comfortable</td>\n    </tr>\n    <tr>\n      <th>4</th>\n      <td>Fast delivery. Product expiry is on Dec 2022. ...</td>\n      <td>fast delivery. product expiry is on dec 2022. ...</td>\n    </tr>\n    <tr>\n      <th>5</th>\n      <td>it's sooooo cute! i like playing with the glit...</td>\n      <td>it &amp;apos;s sooooo cute. i like playing with th...</td>\n    </tr>\n    <tr>\n      <th>...</th>\n      <td>...</td>\n      <td>...</td>\n    </tr>\n    <tr>\n      <th>60423</th>\n      <td>Product has been succesfully ordered and shipp...</td>\n      <td>product has been succesfully ordered and shipp...</td>\n    </tr>\n    <tr>\n      <th>60424</th>\n      <td>Opening time a little scared. Fear dalemnya de...</td>\n      <td>opening time a little scared. fear dalemnya de...</td>\n    </tr>\n    <tr>\n      <th>60425</th>\n      <td>The product quality is excellent. The origina...</td>\n      <td>the product quality is excellent. the original...</td>\n    </tr>\n    <tr>\n      <th>60426</th>\n      <td>They 're holding up REALLY well also .</td>\n      <td>they &amp;apos; re holding up really well also .</td>\n    </tr>\n    <tr>\n      <th>60427</th>\n      <td>Rapid response and detail ...\\nThanks gan, the...</td>\n      <td>rapid response and detail . thanks gan. the go...</td>\n    </tr>\n  </tbody>\n</table>\n<p>60427 rows × 2 columns</p>\n</div>"
     },
     "metadata": {},
     "execution_count": 7
    }
   ],
   "source": [
    "test['review_clean'] = test['review_clean'].str.join(' ')\n",
    "test"
   ]
  },
  {
   "cell_type": "code",
   "execution_count": 8,
   "metadata": {},
   "outputs": [
    {
     "output_type": "execute_result",
     "data": {
      "text/plain": "                                                      review  \\\nreview_id                                                      \n1          Great danger, cool, motif and cantik2 jg model...   \n2                           One of the shades don't fit well   \n3                                           Very comfortable   \n4          Fast delivery. Product expiry is on Dec 2022. ...   \n5          it's sooooo cute! i like playing with the glit...   \n...                                                      ...   \n60423      Product has been succesfully ordered and shipp...   \n60424      Opening time a little scared. Fear dalemnya de...   \n60425       The product quality is excellent. The origina...   \n60426                 They 're holding up REALLY well also .   \n60427      Rapid response and detail ...\\nThanks gan, the...   \n\n                                                review_clean  \\\nreview_id                                                      \n1          great danger. cool. motif and cantik2 jg model...   \n2                     one of the shades don &apos;t fit well   \n3                                           very comfortable   \n4          fast delivery. product expiry is on dec 2022. ...   \n5          it &apos;s sooooo cute. i like playing with th...   \n...                                                      ...   \n60423      product has been succesfully ordered and shipp...   \n60424      opening time a little scared. fear dalemnya de...   \n60425      the product quality is excellent. the original...   \n60426           they &apos; re holding up really well also .   \n60427      rapid response and detail . thanks gan. the go...   \n\n                                            label  \nreview_id                                          \n1           ((__label__3,), [0.6427798867225647])  \n2           ((__label__2,), [0.4472169280052185])  \n3          ((__label__4,), [0.49385765194892883])  \n4           ((__label__4,), [0.2408541440963745])  \n5          ((__label__4,), [0.38820934295654297])  \n...                                           ...  \n60423       ((__label__4,), [0.3749113082885742])  \n60424       ((__label__3,), [0.3956567645072937])  \n60425      ((__label__5,), [0.49430492520332336])  \n60426       ((__label__4,), [0.3741464614868164])  \n60427       ((__label__4,), [0.3693576455116272])  \n\n[60427 rows x 3 columns]",
      "text/html": "<div>\n<style scoped>\n    .dataframe tbody tr th:only-of-type {\n        vertical-align: middle;\n    }\n\n    .dataframe tbody tr th {\n        vertical-align: top;\n    }\n\n    .dataframe thead th {\n        text-align: right;\n    }\n</style>\n<table border=\"1\" class=\"dataframe\">\n  <thead>\n    <tr style=\"text-align: right;\">\n      <th></th>\n      <th>review</th>\n      <th>review_clean</th>\n      <th>label</th>\n    </tr>\n    <tr>\n      <th>review_id</th>\n      <th></th>\n      <th></th>\n      <th></th>\n    </tr>\n  </thead>\n  <tbody>\n    <tr>\n      <th>1</th>\n      <td>Great danger, cool, motif and cantik2 jg model...</td>\n      <td>great danger. cool. motif and cantik2 jg model...</td>\n      <td>((__label__3,), [0.6427798867225647])</td>\n    </tr>\n    <tr>\n      <th>2</th>\n      <td>One of the shades don't fit well</td>\n      <td>one of the shades don &amp;apos;t fit well</td>\n      <td>((__label__2,), [0.4472169280052185])</td>\n    </tr>\n    <tr>\n      <th>3</th>\n      <td>Very comfortable</td>\n      <td>very comfortable</td>\n      <td>((__label__4,), [0.49385765194892883])</td>\n    </tr>\n    <tr>\n      <th>4</th>\n      <td>Fast delivery. Product expiry is on Dec 2022. ...</td>\n      <td>fast delivery. product expiry is on dec 2022. ...</td>\n      <td>((__label__4,), [0.2408541440963745])</td>\n    </tr>\n    <tr>\n      <th>5</th>\n      <td>it's sooooo cute! i like playing with the glit...</td>\n      <td>it &amp;apos;s sooooo cute. i like playing with th...</td>\n      <td>((__label__4,), [0.38820934295654297])</td>\n    </tr>\n    <tr>\n      <th>...</th>\n      <td>...</td>\n      <td>...</td>\n      <td>...</td>\n    </tr>\n    <tr>\n      <th>60423</th>\n      <td>Product has been succesfully ordered and shipp...</td>\n      <td>product has been succesfully ordered and shipp...</td>\n      <td>((__label__4,), [0.3749113082885742])</td>\n    </tr>\n    <tr>\n      <th>60424</th>\n      <td>Opening time a little scared. Fear dalemnya de...</td>\n      <td>opening time a little scared. fear dalemnya de...</td>\n      <td>((__label__3,), [0.3956567645072937])</td>\n    </tr>\n    <tr>\n      <th>60425</th>\n      <td>The product quality is excellent. The origina...</td>\n      <td>the product quality is excellent. the original...</td>\n      <td>((__label__5,), [0.49430492520332336])</td>\n    </tr>\n    <tr>\n      <th>60426</th>\n      <td>They 're holding up REALLY well also .</td>\n      <td>they &amp;apos; re holding up really well also .</td>\n      <td>((__label__4,), [0.3741464614868164])</td>\n    </tr>\n    <tr>\n      <th>60427</th>\n      <td>Rapid response and detail ...\\nThanks gan, the...</td>\n      <td>rapid response and detail . thanks gan. the go...</td>\n      <td>((__label__4,), [0.3693576455116272])</td>\n    </tr>\n  </tbody>\n</table>\n<p>60427 rows × 3 columns</p>\n</div>"
     },
     "metadata": {},
     "execution_count": 8
    }
   ],
   "source": [
    "test['label'] = test['review_clean'].apply(model.predict)\n",
    "test"
   ]
  },
  {
   "cell_type": "code",
   "execution_count": 10,
   "metadata": {},
   "outputs": [
    {
     "output_type": "execute_result",
     "data": {
      "text/plain": "                                                      review  \\\nreview_id                                                      \n1          Great danger, cool, motif and cantik2 jg model...   \n2                           One of the shades don't fit well   \n3                                           Very comfortable   \n4          Fast delivery. Product expiry is on Dec 2022. ...   \n5          it's sooooo cute! i like playing with the glit...   \n...                                                      ...   \n60423      Product has been succesfully ordered and shipp...   \n60424      Opening time a little scared. Fear dalemnya de...   \n60425       The product quality is excellent. The origina...   \n60426                 They 're holding up REALLY well also .   \n60427      Rapid response and detail ...\\nThanks gan, the...   \n\n                                                review_clean  \\\nreview_id                                                      \n1          great danger. cool. motif and cantik2 jg model...   \n2                     one of the shades don &apos;t fit well   \n3                                           very comfortable   \n4          fast delivery. product expiry is on dec 2022. ...   \n5          it &apos;s sooooo cute. i like playing with th...   \n...                                                      ...   \n60423      product has been succesfully ordered and shipp...   \n60424      opening time a little scared. fear dalemnya de...   \n60425      the product quality is excellent. the original...   \n60426           they &apos; re holding up really well also .   \n60427      rapid response and detail . thanks gan. the go...   \n\n                                            label rating  \nreview_id                                                 \n1           ((__label__3,), [0.6427798867225647])      3  \n2           ((__label__2,), [0.4472169280052185])      2  \n3          ((__label__4,), [0.49385765194892883])      4  \n4           ((__label__4,), [0.2408541440963745])      4  \n5          ((__label__4,), [0.38820934295654297])      4  \n...                                           ...    ...  \n60423       ((__label__4,), [0.3749113082885742])      4  \n60424       ((__label__3,), [0.3956567645072937])      3  \n60425      ((__label__5,), [0.49430492520332336])      5  \n60426       ((__label__4,), [0.3741464614868164])      4  \n60427       ((__label__4,), [0.3693576455116272])      4  \n\n[60427 rows x 4 columns]",
      "text/html": "<div>\n<style scoped>\n    .dataframe tbody tr th:only-of-type {\n        vertical-align: middle;\n    }\n\n    .dataframe tbody tr th {\n        vertical-align: top;\n    }\n\n    .dataframe thead th {\n        text-align: right;\n    }\n</style>\n<table border=\"1\" class=\"dataframe\">\n  <thead>\n    <tr style=\"text-align: right;\">\n      <th></th>\n      <th>review</th>\n      <th>review_clean</th>\n      <th>label</th>\n      <th>rating</th>\n    </tr>\n    <tr>\n      <th>review_id</th>\n      <th></th>\n      <th></th>\n      <th></th>\n      <th></th>\n    </tr>\n  </thead>\n  <tbody>\n    <tr>\n      <th>1</th>\n      <td>Great danger, cool, motif and cantik2 jg model...</td>\n      <td>great danger. cool. motif and cantik2 jg model...</td>\n      <td>((__label__3,), [0.6427798867225647])</td>\n      <td>3</td>\n    </tr>\n    <tr>\n      <th>2</th>\n      <td>One of the shades don't fit well</td>\n      <td>one of the shades don &amp;apos;t fit well</td>\n      <td>((__label__2,), [0.4472169280052185])</td>\n      <td>2</td>\n    </tr>\n    <tr>\n      <th>3</th>\n      <td>Very comfortable</td>\n      <td>very comfortable</td>\n      <td>((__label__4,), [0.49385765194892883])</td>\n      <td>4</td>\n    </tr>\n    <tr>\n      <th>4</th>\n      <td>Fast delivery. Product expiry is on Dec 2022. ...</td>\n      <td>fast delivery. product expiry is on dec 2022. ...</td>\n      <td>((__label__4,), [0.2408541440963745])</td>\n      <td>4</td>\n    </tr>\n    <tr>\n      <th>5</th>\n      <td>it's sooooo cute! i like playing with the glit...</td>\n      <td>it &amp;apos;s sooooo cute. i like playing with th...</td>\n      <td>((__label__4,), [0.38820934295654297])</td>\n      <td>4</td>\n    </tr>\n    <tr>\n      <th>...</th>\n      <td>...</td>\n      <td>...</td>\n      <td>...</td>\n      <td>...</td>\n    </tr>\n    <tr>\n      <th>60423</th>\n      <td>Product has been succesfully ordered and shipp...</td>\n      <td>product has been succesfully ordered and shipp...</td>\n      <td>((__label__4,), [0.3749113082885742])</td>\n      <td>4</td>\n    </tr>\n    <tr>\n      <th>60424</th>\n      <td>Opening time a little scared. Fear dalemnya de...</td>\n      <td>opening time a little scared. fear dalemnya de...</td>\n      <td>((__label__3,), [0.3956567645072937])</td>\n      <td>3</td>\n    </tr>\n    <tr>\n      <th>60425</th>\n      <td>The product quality is excellent. The origina...</td>\n      <td>the product quality is excellent. the original...</td>\n      <td>((__label__5,), [0.49430492520332336])</td>\n      <td>5</td>\n    </tr>\n    <tr>\n      <th>60426</th>\n      <td>They 're holding up REALLY well also .</td>\n      <td>they &amp;apos; re holding up really well also .</td>\n      <td>((__label__4,), [0.3741464614868164])</td>\n      <td>4</td>\n    </tr>\n    <tr>\n      <th>60427</th>\n      <td>Rapid response and detail ...\\nThanks gan, the...</td>\n      <td>rapid response and detail . thanks gan. the go...</td>\n      <td>((__label__4,), [0.3693576455116272])</td>\n      <td>4</td>\n    </tr>\n  </tbody>\n</table>\n<p>60427 rows × 4 columns</p>\n</div>"
     },
     "metadata": {},
     "execution_count": 10
    }
   ],
   "source": [
    "test['rating'] = test['label'].apply(lambda x: x[0][0][-1])\n",
    "test"
   ]
  },
  {
   "cell_type": "code",
   "execution_count": 11,
   "metadata": {},
   "outputs": [
    {
     "output_type": "execute_result",
     "data": {
      "text/plain": "review_id\n1        3\n2        2\n3        4\n4        4\n5        4\n        ..\n60423    4\n60424    3\n60425    5\n60426    4\n60427    4\nName: rating, Length: 60427, dtype: object"
     },
     "metadata": {},
     "execution_count": 11
    }
   ],
   "source": [
    "test['rating']"
   ]
  },
  {
   "cell_type": "code",
   "execution_count": 12,
   "metadata": {},
   "outputs": [],
   "source": [
    "test['rating'].to_csv('submission.csv')"
   ]
  },
  {
   "cell_type": "code",
   "execution_count": null,
   "metadata": {},
   "outputs": [],
   "source": []
  }
 ]
}