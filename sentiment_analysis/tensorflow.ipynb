{
 "metadata": {
  "language_info": {
   "codemirror_mode": {
    "name": "ipython",
    "version": 3
   },
   "file_extension": ".py",
   "mimetype": "text/x-python",
   "name": "python",
   "nbconvert_exporter": "python",
   "pygments_lexer": "ipython3",
   "version": 3
  },
  "orig_nbformat": 2,
  "kernelspec": {
   "name": "python_defaultSpec_1595061446622",
   "display_name": "Python 3.7.7 64-bit ('Anaconda3': conda)"
  }
 },
 "nbformat": 4,
 "nbformat_minor": 2,
 "cells": [
  {
   "cell_type": "code",
   "execution_count": 3,
   "metadata": {
    "tags": []
   },
   "outputs": [
    {
     "output_type": "stream",
     "name": "stdout",
     "text": "Version:  2.4.0-dev20200702\nEager mode:  True\nHub version:  0.9.0.dev\nGPU is available\n"
    }
   ],
   "source": [
    "import numpy as np\n",
    "import pandas as pd\n",
    "\n",
    "import tensorflow as tf\n",
    "import tensorflow_hub as hub\n",
    "import tensorflow_datasets as tfds\n",
    "\n",
    "import matplotlib.pyplot as plt\n",
    "\n",
    "print(\"Version: \", tf.__version__)\n",
    "print(\"Eager mode: \", tf.executing_eagerly())\n",
    "print(\"Hub version: \", hub.__version__)\n",
    "print(\"GPU is\", \"available\" if tf.config.list_physical_devices('GPU') else \"NOT AVAILABLE\")"
   ]
  },
  {
   "cell_type": "code",
   "execution_count": 4,
   "metadata": {
    "tags": []
   },
   "outputs": [
    {
     "output_type": "stream",
     "name": "stdout",
     "text": "review  rating\n35124    CP values ​​awesome awesome awesome quality ...       4\n52045  Trade dress with the new no two Packed complet...       4\n49194                Send it to slowly Forum Of good use       2\n92790  Abit slow and other requested color From that ...       2\n30560  Fast delivery ,, order of the umpteenth time i...       5\n\n                                                  review  rating\n28655  Khimarnya ,,, very beautiful veil like it. Rec...       4\n26691                   The size small than my expected        3\n23645   Excellent product quality excellent product p...       5\n7742                                      Kulng my order       5\n9546   Good, not its ink stuck, nyesel also only buy ...       3\n"
    }
   ],
   "source": [
    "train = pd.read_csv('train_set.csv')\n",
    "val = pd.read_csv('val_set.csv')\n",
    "print(train.sample(5))\n",
    "print()\n",
    "print(val.sample(5))"
   ]
  },
  {
   "cell_type": "code",
   "execution_count": 19,
   "metadata": {
    "tags": []
   },
   "outputs": [
    {
     "output_type": "stream",
     "name": "stdout",
     "text": "['Package price already received fast delivery murah😁 Thank kasih🙏'\n 'Goods have to be in good condition. Sellsr fast response post just a little slow because I want wks ice pack for holding the cheese until melted any ice packs dah hehehe no luck there j & t here we ask today also deliver. Thanks seller. Overall ok'\n 'kapaditasnya passable bgt .. thank God'\n ' Awesome awesome quality of goods shipped speed awesome value CP'\n 'Good bye but have not I go to hopefully cut no obstacles yaa thanksH']\n[3 3 3 4 3]\n"
    }
   ],
   "source": [
    "train_data = train['review'].to_numpy()\n",
    "train_label = train['rating'].to_numpy() - 1\n",
    "val_data = val['review'].to_numpy()\n",
    "val_label = val['rating'].to_numpy() - 1\n",
    "\n",
    "print(train_data[:5])\n",
    "print(train_label[:5])"
   ]
  },
  {
   "cell_type": "code",
   "execution_count": 55,
   "metadata": {
    "tags": []
   },
   "outputs": [
    {
     "output_type": "stream",
     "name": "stdout",
     "text": "WARNING:tensorflow:11 out of the last 11 calls to <function recreate_function.<locals>.restored_function_body at 0x7fe31c4cacb0> triggered tf.function retracing. Tracing is expensive and the excessive number of tracings could be due to (1) creating @tf.function repeatedly in a loop, (2) passing tensors with different shapes, (3) passing Python objects instead of tensors. For (1), please define your @tf.function outside of the loop. For (2), @tf.function has experimental_relax_shapes=True option that relaxes argument shapes that can avoid unnecessary retracing. For (3), please refer to https://www.tensorflow.org/tutorials/customization/performance#python_or_tensor_args and https://www.tensorflow.org/api_docs/python/tf/function for  more details.\nWARNING:tensorflow:11 out of the last 11 calls to <function recreate_function.<locals>.restored_function_body at 0x7fe31c4cacb0> triggered tf.function retracing. Tracing is expensive and the excessive number of tracings could be due to (1) creating @tf.function repeatedly in a loop, (2) passing tensors with different shapes, (3) passing Python objects instead of tensors. For (1), please define your @tf.function outside of the loop. For (2), @tf.function has experimental_relax_shapes=True option that relaxes argument shapes that can avoid unnecessary retracing. For (3), please refer to https://www.tensorflow.org/tutorials/customization/performance#python_or_tensor_args and https://www.tensorflow.org/api_docs/python/tf/function for  more details.\nWARNING:tensorflow:11 out of the last 11 calls to <function recreate_function.<locals>.restored_function_body at 0x7fe31c4ca7a0> triggered tf.function retracing. Tracing is expensive and the excessive number of tracings could be due to (1) creating @tf.function repeatedly in a loop, (2) passing tensors with different shapes, (3) passing Python objects instead of tensors. For (1), please define your @tf.function outside of the loop. For (2), @tf.function has experimental_relax_shapes=True option that relaxes argument shapes that can avoid unnecessary retracing. For (3), please refer to https://www.tensorflow.org/tutorials/customization/performance#python_or_tensor_args and https://www.tensorflow.org/api_docs/python/tf/function for  more details.\nWARNING:tensorflow:11 out of the last 11 calls to <function recreate_function.<locals>.restored_function_body at 0x7fe31c4ca7a0> triggered tf.function retracing. Tracing is expensive and the excessive number of tracings could be due to (1) creating @tf.function repeatedly in a loop, (2) passing tensors with different shapes, (3) passing Python objects instead of tensors. For (1), please define your @tf.function outside of the loop. For (2), @tf.function has experimental_relax_shapes=True option that relaxes argument shapes that can avoid unnecessary retracing. For (3), please refer to https://www.tensorflow.org/tutorials/customization/performance#python_or_tensor_args and https://www.tensorflow.org/api_docs/python/tf/function for  more details.\nWARNING:tensorflow:11 out of the last 11 calls to <function recreate_function.<locals>.restored_function_body at 0x7fe31c4ca0e0> triggered tf.function retracing. Tracing is expensive and the excessive number of tracings could be due to (1) creating @tf.function repeatedly in a loop, (2) passing tensors with different shapes, (3) passing Python objects instead of tensors. For (1), please define your @tf.function outside of the loop. For (2), @tf.function has experimental_relax_shapes=True option that relaxes argument shapes that can avoid unnecessary retracing. For (3), please refer to https://www.tensorflow.org/tutorials/customization/performance#python_or_tensor_args and https://www.tensorflow.org/api_docs/python/tf/function for  more details.\nWARNING:tensorflow:11 out of the last 11 calls to <function recreate_function.<locals>.restored_function_body at 0x7fe31c4ca0e0> triggered tf.function retracing. Tracing is expensive and the excessive number of tracings could be due to (1) creating @tf.function repeatedly in a loop, (2) passing tensors with different shapes, (3) passing Python objects instead of tensors. For (1), please define your @tf.function outside of the loop. For (2), @tf.function has experimental_relax_shapes=True option that relaxes argument shapes that can avoid unnecessary retracing. For (3), please refer to https://www.tensorflow.org/tutorials/customization/performance#python_or_tensor_args and https://www.tensorflow.org/api_docs/python/tf/function for  more details.\n"
    },
    {
     "output_type": "execute_result",
     "data": {
      "text/plain": "<tf.Tensor: shape=(3, 128), dtype=float32, numpy=\narray([[-2.44089868e-02,  6.51175808e-03, -1.13548979e-01,\n         3.12415361e-02, -3.14148217e-02,  1.43294245e-01,\n         9.75192152e-03,  2.42060840e-01,  1.89854264e-01,\n         9.59324837e-02, -1.00796156e-01,  8.97027478e-02,\n         3.40812318e-02,  1.81093812e-02, -5.15136421e-02,\n        -3.26767936e-02, -5.20219468e-03, -5.42108677e-02,\n         6.64904118e-02,  1.09245777e-01,  1.77362472e-01,\n        -2.20769346e-01,  2.30763536e-02,  1.34367645e-01,\n         4.04630378e-02, -6.36085197e-02,  1.22411456e-02,\n        -3.95116061e-02, -1.45113274e-01,  1.21495329e-01,\n        -4.51343274e-03,  1.34631038e-01, -3.38962972e-02,\n         1.02488570e-01,  7.72230327e-02, -4.02463488e-02,\n        -1.04966514e-01,  2.04012878e-02, -5.84231466e-02,\n         5.26563451e-02,  1.83728151e-02, -8.29305798e-02,\n        -2.13288255e-02, -7.77230114e-02, -2.08468512e-02,\n         1.73920929e-01, -1.20822422e-01,  2.07360666e-02,\n         2.14622971e-02,  6.66468870e-03,  2.79896706e-02,\n        -1.08217686e-01,  1.07531749e-04, -1.13572031e-01,\n        -1.10443234e-01,  5.52166775e-02, -1.32712454e-01,\n        -1.49309114e-02,  1.35835588e-01, -5.91350757e-02,\n         1.72535609e-02,  1.01519629e-01,  8.92065614e-02,\n         3.39701250e-02, -1.85281560e-01,  2.19155580e-01,\n         3.36796455e-02, -1.14825785e-01, -1.34560019e-01,\n        -6.74713105e-02,  2.26246156e-02, -9.93897766e-02,\n         4.49549966e-02,  5.83144650e-02,  5.43482453e-02,\n        -2.56266817e-02, -1.19417012e-01, -1.61886454e-01,\n         5.09241894e-02, -2.95181479e-02,  4.69560688e-03,\n         1.64566949e-01, -4.39038090e-02,  5.02548292e-02,\n         9.54222679e-02,  5.40074855e-02, -5.03080711e-02,\n        -1.00515336e-01,  2.09998608e-01,  3.82906236e-02,\n        -1.22498691e-01, -1.07828692e-01, -8.18817466e-02,\n        -1.95843443e-01,  1.06334269e-01,  5.04329763e-02,\n         9.44763273e-02, -7.69111514e-02, -5.76007878e-03,\n         6.63580149e-02,  1.33827537e-01, -6.99146613e-02,\n        -2.19384223e-01, -1.35097682e-01,  1.01410411e-01,\n         1.66871548e-01, -7.18224570e-02, -6.94134682e-02,\n        -4.86849993e-03, -1.63184762e-01, -1.43101737e-01,\n        -8.88778120e-02, -1.03224330e-01,  9.69386250e-02,\n         2.35790526e-03, -5.66389337e-02,  1.18131869e-01,\n        -2.25265920e-02, -1.09650314e-01,  1.26700744e-01,\n         2.57803649e-02, -8.37477148e-02, -1.19482867e-01,\n        -1.42041951e-01,  1.96394145e-01,  1.25836655e-01,\n        -2.78572179e-02,  5.97577449e-03],\n       [ 6.20115161e-01, -1.01119675e-01, -2.13824473e-02,\n         4.16459031e-02,  2.39412874e-01,  2.79705226e-02,\n         4.97792624e-02, -1.47446573e-01,  6.49119541e-03,\n         2.35594288e-01,  2.41486896e-02, -2.65633672e-01,\n        -7.85372183e-02, -2.63001651e-01, -8.98114499e-03,\n         1.01333946e-01, -5.82129601e-03,  3.07139568e-02,\n        -1.09270893e-01,  2.60589242e-01,  1.20814040e-01,\n         1.90863535e-02, -2.62251589e-02, -4.75874729e-02,\n         7.39115700e-02, -2.73922741e-01,  2.44970679e-01,\n        -5.76616824e-02, -3.39142978e-01, -1.39055237e-01,\n        -3.10346521e-02,  2.13598311e-01,  3.18416990e-02,\n         1.87267154e-01,  1.65354252e-01,  1.29494473e-01,\n        -1.58084795e-01, -2.19662130e-01,  2.49714345e-01,\n         1.77174479e-01, -7.74516612e-02, -1.47621989e-01,\n        -2.39644453e-01, -7.92435855e-02,  1.00648522e-01,\n         7.87634030e-02, -1.69247240e-02,  3.39773476e-01,\n         5.76912984e-02,  6.14474043e-02,  2.46057928e-01,\n         2.15675868e-02, -2.42806286e-01,  1.72688261e-01,\n        -1.13515943e-01, -2.57111061e-02, -8.83763433e-02,\n        -5.58574945e-02,  1.64364919e-01, -1.74124494e-01,\n        -7.54180178e-02,  9.27846059e-02,  1.57560453e-01,\n        -1.53551891e-01, -1.38274394e-02,  2.45475277e-01,\n        -7.07005709e-02, -1.59908295e-01,  1.06224075e-01,\n        -7.94851780e-02, -1.81085709e-02,  1.55939553e-02,\n         4.79306420e-03, -4.66912799e-02,  2.54745111e-02,\n         1.97080925e-01, -8.10661390e-02, -1.61445126e-01,\n         1.04326718e-01,  5.25586195e-02,  1.12625621e-01,\n         2.18169659e-01,  7.72897825e-02, -9.44409054e-03,\n         9.21712443e-02,  5.77266924e-02, -2.15942070e-01,\n         4.19006720e-02,  4.73279357e-01,  2.70723045e-01,\n        -1.02837168e-01,  1.40732542e-01, -1.18947566e-01,\n        -2.77777702e-01,  3.02869499e-01,  5.07524684e-02,\n        -9.31272879e-02, -2.86156051e-02, -8.26963708e-02,\n         3.60503830e-02,  1.42832592e-01,  4.43275347e-02,\n        -2.90980395e-02, -1.23873480e-01, -1.31451935e-01,\n         8.31126645e-02, -1.57747671e-01,  1.30049199e-01,\n        -1.92994565e-01,  9.09319520e-02, -3.16197485e-01,\n        -1.83872879e-02, -1.47070378e-01,  6.13433532e-02,\n        -8.75411406e-02, -1.17380366e-01, -1.24784105e-01,\n        -1.93672031e-02, -2.20841080e-01,  1.54424280e-01,\n         1.04314931e-01, -2.29223251e-01,  2.14689076e-02,\n         8.42403397e-02,  5.79009876e-02, -1.85468346e-01,\n         2.18031406e-01, -8.09106529e-02],\n       [-1.00803105e-02,  1.06370725e-01, -9.06130746e-02,\n         5.46108484e-02,  5.05835377e-02,  2.08394323e-02,\n         8.51055905e-02, -6.06821999e-02,  8.14158991e-02,\n        -1.36910733e-02, -5.28641008e-02, -1.21871427e-01,\n        -5.57665639e-02,  5.54632023e-02,  1.67380810e-01,\n        -5.71286539e-04, -4.58019041e-02,  6.57138973e-02,\n         1.59206331e-01, -4.38961312e-02,  1.13173798e-01,\n        -2.04802692e-01, -2.15000883e-02,  5.24696223e-02,\n         9.67330635e-02, -5.17347567e-02, -2.36960780e-02,\n        -1.16014872e-02,  3.75476070e-02,  3.87445069e-03,\n         6.13614880e-02, -5.60869165e-02, -4.12337184e-02,\n        -9.88470167e-02, -2.93012522e-02, -1.28141254e-01,\n        -3.94255891e-02, -1.55315325e-02,  6.26079272e-03,\n         1.89970866e-01, -9.22475234e-02, -1.01626679e-01,\n        -3.75218093e-02, -8.41557533e-02,  1.11850016e-01,\n        -1.10044174e-01, -7.59170577e-02, -7.95413926e-03,\n         1.26830623e-01, -6.06726594e-02,  7.58125912e-03,\n        -9.24361199e-02,  3.38745490e-02,  2.67516315e-01,\n         1.38735706e-02,  5.88496476e-02, -9.68918018e-03,\n         5.75066693e-02, -2.13655811e-02, -1.28238499e-02,\n        -1.02677651e-01,  4.32324372e-02,  5.93449501e-03,\n        -4.23986651e-02, -4.49386276e-02,  6.12305030e-02,\n         1.57586947e-01, -6.30343258e-02,  2.93731205e-02,\n         6.15954027e-02,  6.92866296e-02,  2.73366094e-01,\n        -5.83668798e-02, -4.99915853e-02,  7.78751001e-02,\n         5.55213913e-02,  1.78942516e-01, -1.13881074e-01,\n         2.86311172e-02,  1.61559731e-02, -1.12610823e-02,\n         3.61556970e-02, -1.57414302e-01,  1.22264892e-01,\n        -2.24411376e-02,  2.56937109e-02, -3.84727828e-02,\n         2.02855021e-01,  4.11542878e-02,  1.64124444e-02,\n        -2.46409588e-02,  5.58341965e-02, -6.62820116e-02,\n        -4.37926091e-02,  7.72446170e-02,  4.16650698e-02,\n         5.19826896e-02, -1.16866305e-01,  6.24530464e-02,\n        -6.21551462e-03, -1.44991605e-02,  7.46463165e-02,\n        -6.27158061e-02, -1.05592310e-01, -2.79613193e-02,\n         1.23087116e-01, -1.28400624e-01,  6.56015500e-02,\n         1.00522803e-03,  1.38310149e-01,  1.30753234e-01,\n         8.59669968e-02, -1.76049307e-01,  9.50991586e-02,\n        -3.47410291e-02, -2.87305638e-02,  3.82203162e-02,\n        -9.97055098e-02, -1.25980690e-01,  2.43147239e-02,\n        -7.63604343e-02, -8.21515769e-02, -1.23388954e-01,\n         1.90432742e-02, -2.38278508e-02,  5.32418229e-02,\n         2.45665256e-02,  2.35783815e-01]], dtype=float32)>"
     },
     "metadata": {},
     "execution_count": 55
    }
   ],
   "source": [
    "model_url = \"https://tfhub.dev/google/tf2-preview/nnlm-en-dim128-with-normalization/1\"\n",
    "hub_layer = hub.KerasLayer(model_url, output_shape=[128], input_shape=[], \n",
    "                           dtype=tf.string, trainable=True)\n",
    "hub_layer(train_data[:3])"
   ]
  },
  {
   "cell_type": "code",
   "execution_count": 56,
   "metadata": {
    "tags": []
   },
   "outputs": [
    {
     "output_type": "stream",
     "name": "stdout",
     "text": "Model: \"sequential_5\"\n_________________________________________________________________\nLayer (type)                 Output Shape              Param #   \n=================================================================\nkeras_layer_4 (KerasLayer)   (None, 128)               124642688 \n_________________________________________________________________\ndense_10 (Dense)             (None, 16)                2064      \n_________________________________________________________________\ndense_11 (Dense)             (None, 5)                 85        \n=================================================================\nTotal params: 124,644,837\nTrainable params: 124,644,837\nNon-trainable params: 0\n_________________________________________________________________\n"
    }
   ],
   "source": [
    "model = tf.keras.Sequential([\n",
    "    hub_layer,\n",
    "    tf.keras.layers.Dense(16, activation='relu'),\n",
    "    tf.keras.layers.Dense(5)\n",
    "])\n",
    "\n",
    "model.summary()"
   ]
  },
  {
   "cell_type": "code",
   "execution_count": 57,
   "metadata": {},
   "outputs": [],
   "source": [
    "model.compile(optimizer=tf.optimizers.SGD(learning_rate=0.03, momentum=0.9),\n",
    "              loss=tf.losses.SparseCategoricalCrossentropy(from_logits=True),\n",
    "              metrics=['accuracy'])"
   ]
  },
  {
   "cell_type": "code",
   "execution_count": 58,
   "metadata": {
    "tags": []
   },
   "outputs": [
    {
     "output_type": "stream",
     "name": "stdout",
     "text": "tf.Tensor(b'Package price already received fast delivery murah\\xf0\\x9f\\x98\\x81 Thank kasih\\xf0\\x9f\\x99\\x8f', shape=(), dtype=string)\ntf.Tensor(3, shape=(), dtype=int64)\n"
    }
   ],
   "source": [
    "train_ds = tf.data.Dataset.from_tensor_slices((train_data, train_label))\n",
    "val_ds = tf.data.Dataset.from_tensor_slices((val_data, val_label))\n",
    "\n",
    "for data, label in train_ds.take(1):\n",
    "    print(data)\n",
    "    print(label)"
   ]
  },
  {
   "cell_type": "code",
   "execution_count": 59,
   "metadata": {},
   "outputs": [],
   "source": [
    "BATCH_SIZE = 256\n",
    "train_ds = train_ds.cache().shuffle(10000).batch(BATCH_SIZE)\n",
    "val_ds = val_ds.cache().batch(BATCH_SIZE)"
   ]
  },
  {
   "cell_type": "code",
   "execution_count": 60,
   "metadata": {
    "tags": []
   },
   "outputs": [
    {
     "output_type": "stream",
     "name": "stdout",
     "text": "Epoch 1/10\n459/459 [==============================] - 5s 10ms/step - loss: 1.2508 - accuracy: 0.4103 - val_loss: 1.1296 - val_accuracy: 0.4580\nEpoch 2/10\n459/459 [==============================] - 5s 10ms/step - loss: 1.1039 - accuracy: 0.4724 - val_loss: 1.0934 - val_accuracy: 0.4738\nEpoch 3/10\n459/459 [==============================] - 4s 10ms/step - loss: 1.0747 - accuracy: 0.4836 - val_loss: 1.0796 - val_accuracy: 0.4804\nEpoch 4/10\n459/459 [==============================] - 4s 10ms/step - loss: 1.0575 - accuracy: 0.4907 - val_loss: 1.0764 - val_accuracy: 0.4807\nEpoch 5/10\n459/459 [==============================] - 5s 10ms/step - loss: 1.0444 - accuracy: 0.4953 - val_loss: 1.0681 - val_accuracy: 0.4816\nEpoch 6/10\n459/459 [==============================] - 5s 10ms/step - loss: 1.0336 - accuracy: 0.4983 - val_loss: 1.0693 - val_accuracy: 0.4824\nEpoch 7/10\n459/459 [==============================] - 5s 10ms/step - loss: 1.0240 - accuracy: 0.5028 - val_loss: 1.0652 - val_accuracy: 0.4841\nEpoch 8/10\n459/459 [==============================] - 5s 10ms/step - loss: 1.0158 - accuracy: 0.5059 - val_loss: 1.0638 - val_accuracy: 0.4837\nEpoch 9/10\n459/459 [==============================] - 4s 10ms/step - loss: 1.0081 - accuracy: 0.5093 - val_loss: 1.0625 - val_accuracy: 0.4830\nEpoch 10/10\n459/459 [==============================] - 5s 10ms/step - loss: 1.0001 - accuracy: 0.5125 - val_loss: 1.0641 - val_accuracy: 0.4821\n"
    }
   ],
   "source": [
    "history = model.fit(\n",
    "    train_ds,\n",
    "    epochs=10,\n",
    "    validation_data=val_ds,\n",
    "    verbose=1\n",
    ")"
   ]
  },
  {
   "cell_type": "code",
   "execution_count": 61,
   "metadata": {},
   "outputs": [],
   "source": [
    "model.compile(optimizer=tf.optimizers.SGD(learning_rate=0.01, momentum=0.9),\n",
    "              loss=tf.losses.SparseCategoricalCrossentropy(from_logits=True),\n",
    "              metrics=['accuracy'])"
   ]
  },
  {
   "cell_type": "code",
   "execution_count": 62,
   "metadata": {
    "tags": []
   },
   "outputs": [
    {
     "output_type": "stream",
     "name": "stdout",
     "text": "Epoch 1/10\n459/459 [==============================] - 5s 10ms/step - loss: 0.9873 - accuracy: 0.5203 - val_loss: 1.0631 - val_accuracy: 0.4842\nEpoch 2/10\n459/459 [==============================] - 4s 10ms/step - loss: 0.9843 - accuracy: 0.5212 - val_loss: 1.0633 - val_accuracy: 0.4829\nEpoch 3/10\n459/459 [==============================] - 4s 10ms/step - loss: 0.9819 - accuracy: 0.5215 - val_loss: 1.0640 - val_accuracy: 0.4854\nEpoch 4/10\n459/459 [==============================] - 4s 10ms/step - loss: 0.9792 - accuracy: 0.5234 - val_loss: 1.0669 - val_accuracy: 0.4837\nEpoch 5/10\n459/459 [==============================] - 4s 10ms/step - loss: 0.9766 - accuracy: 0.5253 - val_loss: 1.0668 - val_accuracy: 0.4809\nEpoch 6/10\n459/459 [==============================] - 4s 10ms/step - loss: 0.9743 - accuracy: 0.5270 - val_loss: 1.0674 - val_accuracy: 0.4808\nEpoch 7/10\n459/459 [==============================] - 4s 10ms/step - loss: 0.9717 - accuracy: 0.5263 - val_loss: 1.0682 - val_accuracy: 0.4819\nEpoch 8/10\n459/459 [==============================] - 4s 10ms/step - loss: 0.9692 - accuracy: 0.5278 - val_loss: 1.0690 - val_accuracy: 0.4839\nEpoch 9/10\n459/459 [==============================] - 4s 10ms/step - loss: 0.9662 - accuracy: 0.5297 - val_loss: 1.0708 - val_accuracy: 0.4811\nEpoch 10/10\n459/459 [==============================] - 4s 10ms/step - loss: 0.9639 - accuracy: 0.5313 - val_loss: 1.0719 - val_accuracy: 0.4790\n"
    }
   ],
   "source": [
    "history = model.fit(\n",
    "    train_ds,\n",
    "    epochs=10,\n",
    "    validation_data=val_ds,\n",
    "    verbose=1\n",
    ")"
   ]
  },
  {
   "cell_type": "code",
   "execution_count": null,
   "metadata": {},
   "outputs": [],
   "source": []
  }
 ]
}