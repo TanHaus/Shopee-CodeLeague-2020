{
 "cells": [
  {
   "cell_type": "code",
   "execution_count": null,
   "metadata": {},
   "outputs": [],
   "source": [
    "import pandas as pd\n",
    "import numpy as np"
   ]
  },
  {
   "cell_type": "code",
   "execution_count": null,
   "metadata": {},
   "outputs": [],
   "source": [
    "df_raw = pd.read_csv('order_brush_order.csv')\n",
    "df_raw.head()"
   ]
  },
  {
   "cell_type": "code",
   "execution_count": null,
   "metadata": {},
   "outputs": [],
   "source": [
    "df_raw.info()"
   ]
  },
  {
   "cell_type": "code",
   "execution_count": null,
   "metadata": {},
   "outputs": [],
   "source": [
    "df_raw.event_time = pd.to_datetime(df_raw.event_time)"
   ]
  },
  {
   "cell_type": "code",
   "execution_count": null,
   "metadata": {},
   "outputs": [],
   "source": [
    "test_df = df_raw[df_raw.shopid == df_raw.shopid[0]]\n",
    "test_df"
   ]
  },
  {
   "cell_type": "code",
   "execution_count": null,
   "metadata": {},
   "outputs": [],
   "source": [
    "group = test_df[(test_df.event_time >= test_df.event_time[0]) & (test_df.event_time <= (test_df.event_time[0] + pd.Timedelta('1H')))]\n",
    "group"
   ]
  },
  {
   "cell_type": "code",
   "execution_count": null,
   "metadata": {},
   "outputs": [],
   "source": [
    "group.orderid.count() / group.userid.nunique()"
   ]
  },
  {
   "cell_type": "code",
   "execution_count": null,
   "metadata": {},
   "outputs": [],
   "source": [
    "def loop_event(df_shop):\n",
    "\n",
    "    def each_start_time(start_time):\n",
    "        end_time = start_time + pd.Timedelta('1H')\n",
    "        group = df_shop[(df_shop.event_time >= start_time) & (df_shop.event_time <= end_time)]\n",
    "        score = group.orderid.count() / group.userid.nunique()\n",
    "\n",
    "        if score >= 3:\n",
    "            # order brushing\n",
    "            counts = group.groupby('userid').count().orderid\n",
    "            meow = counts.to_dict()\n",
    "            meow = [{'userid': key, 'count': value} for key, value in meow.items()]\n",
    "            return meow\n",
    "\n",
    "    hello = df_shop.event_time.apply(each_start_time)\n",
    "    result = hello[hello.astype(bool)]\n",
    "    result = result.sum()\n",
    "\n",
    "    if result == 0:\n",
    "        return 0\n",
    "\n",
    "    result = pd.DataFrame(result)\n",
    "    result = result.groupby('userid').sum()['count']\n",
    "\n",
    "    max_occur = result.max()\n",
    "    result = result[result==max_occur].index.tolist()\n",
    "    result.sort()\n",
    "    result = [str(x) for x in result]\n",
    "\n",
    "    return '&'.join(result)\n",
    "\n",
    "loop_event(df_raw[df_raw.shopid==51134277])\n",
    "\n",
    "# Test cases\n",
    "\n",
    "# loop_event(df_raw[df_raw.shopid==42818])\n",
    "# loop_event(df_raw[df_raw.shopid==8996761])\n",
    "loop_event(df_raw[df_raw.shopid==51134277])\n",
    "# loop_event(test_df)"
   ]
  },
  {
   "cell_type": "code",
   "execution_count": null,
   "metadata": {},
   "outputs": [],
   "source": [
    "final = df_raw.groupby('shopid').apply(loop_event)\n",
    "final = final.reset_index()\n",
    "final.columns = ['shopid', 'userid']"
   ]
  },
  {
   "cell_type": "code",
   "execution_count": null,
   "metadata": {},
   "outputs": [],
   "source": [
    "final.head()\n",
    "final.to_csv('result.csv', index=False)"
   ]
  },
  {
   "cell_type": "code",
   "execution_count": null,
   "metadata": {},
   "outputs": [],
   "source": [
    "final.info()"
   ]
  }
 ],
 "metadata": {
  "language_info": {
   "codemirror_mode": {
    "name": "ipython",
    "version": 3
   },
   "file_extension": ".py",
   "mimetype": "text/x-python",
   "name": "python",
   "nbconvert_exporter": "python",
   "pygments_lexer": "ipython3",
   "version": "3.7.7-final"
  },
  "orig_nbformat": 2,
  "kernelspec": {
   "name": "python3",
   "display_name": "Python 3"
  }
 },
 "nbformat": 4,
 "nbformat_minor": 2
}