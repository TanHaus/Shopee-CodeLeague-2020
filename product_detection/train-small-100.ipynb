{
 "cells": [
  {
   "cell_type": "code",
   "execution_count": 1,
   "metadata": {},
   "outputs": [],
   "source": [
    "import shutil\n",
    "import os\n",
    "import pandas as pd"
   ]
  },
  {
   "cell_type": "code",
   "execution_count": 2,
   "metadata": {},
   "outputs": [
    {
     "output_type": "execute_result",
     "data": {
      "text/plain": "                               filename  category\n0  45e2d0c97f7bdf8cbf3594beb6fdcda0.jpg         3\n1  f74d1a5fc2498bbbfa045c74e3cc333e.jpg         3\n2  f6c172096818c5fab10ecae722840798.jpg         3\n3  251ffd610399ac00fea7709c642676ee.jpg         3\n4  73c7328b8eda399199fdedec6e4badaf.jpg         3",
      "text/html": "<div>\n<style scoped>\n    .dataframe tbody tr th:only-of-type {\n        vertical-align: middle;\n    }\n\n    .dataframe tbody tr th {\n        vertical-align: top;\n    }\n\n    .dataframe thead th {\n        text-align: right;\n    }\n</style>\n<table border=\"1\" class=\"dataframe\">\n  <thead>\n    <tr style=\"text-align: right;\">\n      <th></th>\n      <th>filename</th>\n      <th>category</th>\n    </tr>\n  </thead>\n  <tbody>\n    <tr>\n      <th>0</th>\n      <td>45e2d0c97f7bdf8cbf3594beb6fdcda0.jpg</td>\n      <td>3</td>\n    </tr>\n    <tr>\n      <th>1</th>\n      <td>f74d1a5fc2498bbbfa045c74e3cc333e.jpg</td>\n      <td>3</td>\n    </tr>\n    <tr>\n      <th>2</th>\n      <td>f6c172096818c5fab10ecae722840798.jpg</td>\n      <td>3</td>\n    </tr>\n    <tr>\n      <th>3</th>\n      <td>251ffd610399ac00fea7709c642676ee.jpg</td>\n      <td>3</td>\n    </tr>\n    <tr>\n      <th>4</th>\n      <td>73c7328b8eda399199fdedec6e4badaf.jpg</td>\n      <td>3</td>\n    </tr>\n  </tbody>\n</table>\n</div>"
     },
     "metadata": {},
     "execution_count": 2
    }
   ],
   "source": [
    "train = pd.read_csv('train.csv')\n",
    "train.head()"
   ]
  },
  {
   "cell_type": "code",
   "execution_count": 3,
   "metadata": {},
   "outputs": [
    {
     "output_type": "execute_result",
     "data": {
      "text/plain": "category    0     1     2     3     4     5     6     7     8     9   ...  \\\nfilename  2683  2702  2687  2703  2703  2641  2641  2660  2700  2698  ...   \n\ncategory    32   33    34    35    36    37    38    39    40    41  \nfilename  2157  573  2599  2658  2686  1725  2673  2678  2681  2662  \n\n[1 rows x 42 columns]",
      "text/html": "<div>\n<style scoped>\n    .dataframe tbody tr th:only-of-type {\n        vertical-align: middle;\n    }\n\n    .dataframe tbody tr th {\n        vertical-align: top;\n    }\n\n    .dataframe thead th {\n        text-align: right;\n    }\n</style>\n<table border=\"1\" class=\"dataframe\">\n  <thead>\n    <tr style=\"text-align: right;\">\n      <th>category</th>\n      <th>0</th>\n      <th>1</th>\n      <th>2</th>\n      <th>3</th>\n      <th>4</th>\n      <th>5</th>\n      <th>6</th>\n      <th>7</th>\n      <th>8</th>\n      <th>9</th>\n      <th>...</th>\n      <th>32</th>\n      <th>33</th>\n      <th>34</th>\n      <th>35</th>\n      <th>36</th>\n      <th>37</th>\n      <th>38</th>\n      <th>39</th>\n      <th>40</th>\n      <th>41</th>\n    </tr>\n  </thead>\n  <tbody>\n    <tr>\n      <th>filename</th>\n      <td>2683</td>\n      <td>2702</td>\n      <td>2687</td>\n      <td>2703</td>\n      <td>2703</td>\n      <td>2641</td>\n      <td>2641</td>\n      <td>2660</td>\n      <td>2700</td>\n      <td>2698</td>\n      <td>...</td>\n      <td>2157</td>\n      <td>573</td>\n      <td>2599</td>\n      <td>2658</td>\n      <td>2686</td>\n      <td>1725</td>\n      <td>2673</td>\n      <td>2678</td>\n      <td>2681</td>\n      <td>2662</td>\n    </tr>\n  </tbody>\n</table>\n<p>1 rows × 42 columns</p>\n</div>"
     },
     "metadata": {},
     "execution_count": 3
    }
   ],
   "source": [
    "train.groupby('category').count().T"
   ]
  },
  {
   "cell_type": "code",
   "execution_count": 4,
   "metadata": {},
   "outputs": [
    {
     "output_type": "execute_result",
     "data": {
      "text/plain": "573"
     },
     "metadata": {},
     "execution_count": 4
    }
   ],
   "source": [
    "min_class = train.groupby('category').count().min()[0]\n",
    "min_class"
   ]
  },
  {
   "cell_type": "code",
   "execution_count": 8,
   "metadata": {},
   "outputs": [
    {
     "output_type": "execute_result",
     "data": {
      "text/plain": "                                            filename  category\ncategory                                                      \n0        53627  319a832db9df6a48f131ca5be7c8cf8a.jpg         0\n         54004  f32b54fd66ffa0ac7f63e4bcfa352f11.jpg         0\n         54935  61ad8bf6f8559d7fb7a1588bfb26b899.jpg         0\n         53811  e73b77ba84394840a5ba34d42cfc91ad.jpg         0\n         54890  349b2890aba91ffec43c4d7e293970e1.jpg         0",
      "text/html": "<div>\n<style scoped>\n    .dataframe tbody tr th:only-of-type {\n        vertical-align: middle;\n    }\n\n    .dataframe tbody tr th {\n        vertical-align: top;\n    }\n\n    .dataframe thead th {\n        text-align: right;\n    }\n</style>\n<table border=\"1\" class=\"dataframe\">\n  <thead>\n    <tr style=\"text-align: right;\">\n      <th></th>\n      <th></th>\n      <th>filename</th>\n      <th>category</th>\n    </tr>\n    <tr>\n      <th>category</th>\n      <th></th>\n      <th></th>\n      <th></th>\n    </tr>\n  </thead>\n  <tbody>\n    <tr>\n      <th rowspan=\"5\" valign=\"top\">0</th>\n      <th>53627</th>\n      <td>319a832db9df6a48f131ca5be7c8cf8a.jpg</td>\n      <td>0</td>\n    </tr>\n    <tr>\n      <th>54004</th>\n      <td>f32b54fd66ffa0ac7f63e4bcfa352f11.jpg</td>\n      <td>0</td>\n    </tr>\n    <tr>\n      <th>54935</th>\n      <td>61ad8bf6f8559d7fb7a1588bfb26b899.jpg</td>\n      <td>0</td>\n    </tr>\n    <tr>\n      <th>53811</th>\n      <td>e73b77ba84394840a5ba34d42cfc91ad.jpg</td>\n      <td>0</td>\n    </tr>\n    <tr>\n      <th>54890</th>\n      <td>349b2890aba91ffec43c4d7e293970e1.jpg</td>\n      <td>0</td>\n    </tr>\n  </tbody>\n</table>\n</div>"
     },
     "metadata": {},
     "execution_count": 8
    }
   ],
   "source": [
    "small = train.groupby('category').apply(lambda x: x.sample(n=100, random_state=0))\n",
    "small.head()"
   ]
  },
  {
   "cell_type": "code",
   "execution_count": 9,
   "metadata": {},
   "outputs": [
    {
     "output_type": "execute_result",
     "data": {
      "text/plain": "   category                              filename\n0         0  319a832db9df6a48f131ca5be7c8cf8a.jpg\n1         0  f32b54fd66ffa0ac7f63e4bcfa352f11.jpg\n2         0  61ad8bf6f8559d7fb7a1588bfb26b899.jpg\n3         0  e73b77ba84394840a5ba34d42cfc91ad.jpg\n4         0  349b2890aba91ffec43c4d7e293970e1.jpg",
      "text/html": "<div>\n<style scoped>\n    .dataframe tbody tr th:only-of-type {\n        vertical-align: middle;\n    }\n\n    .dataframe tbody tr th {\n        vertical-align: top;\n    }\n\n    .dataframe thead th {\n        text-align: right;\n    }\n</style>\n<table border=\"1\" class=\"dataframe\">\n  <thead>\n    <tr style=\"text-align: right;\">\n      <th></th>\n      <th>category</th>\n      <th>filename</th>\n    </tr>\n  </thead>\n  <tbody>\n    <tr>\n      <th>0</th>\n      <td>0</td>\n      <td>319a832db9df6a48f131ca5be7c8cf8a.jpg</td>\n    </tr>\n    <tr>\n      <th>1</th>\n      <td>0</td>\n      <td>f32b54fd66ffa0ac7f63e4bcfa352f11.jpg</td>\n    </tr>\n    <tr>\n      <th>2</th>\n      <td>0</td>\n      <td>61ad8bf6f8559d7fb7a1588bfb26b899.jpg</td>\n    </tr>\n    <tr>\n      <th>3</th>\n      <td>0</td>\n      <td>e73b77ba84394840a5ba34d42cfc91ad.jpg</td>\n    </tr>\n    <tr>\n      <th>4</th>\n      <td>0</td>\n      <td>349b2890aba91ffec43c4d7e293970e1.jpg</td>\n    </tr>\n  </tbody>\n</table>\n</div>"
     },
     "metadata": {},
     "execution_count": 9
    }
   ],
   "source": [
    "del small['category']\n",
    "small = small.reset_index()\n",
    "del small['level_1']\n",
    "small.head()"
   ]
  },
  {
   "cell_type": "code",
   "execution_count": 10,
   "metadata": {},
   "outputs": [
    {
     "output_type": "execute_result",
     "data": {
      "text/plain": "category   0    1    2    3    4    5    6    7    8    9   ...   32   33  \\\nfilename  100  100  100  100  100  100  100  100  100  100  ...  100  100   \n\ncategory   34   35   36   37   38   39   40   41  \nfilename  100  100  100  100  100  100  100  100  \n\n[1 rows x 42 columns]",
      "text/html": "<div>\n<style scoped>\n    .dataframe tbody tr th:only-of-type {\n        vertical-align: middle;\n    }\n\n    .dataframe tbody tr th {\n        vertical-align: top;\n    }\n\n    .dataframe thead th {\n        text-align: right;\n    }\n</style>\n<table border=\"1\" class=\"dataframe\">\n  <thead>\n    <tr style=\"text-align: right;\">\n      <th>category</th>\n      <th>0</th>\n      <th>1</th>\n      <th>2</th>\n      <th>3</th>\n      <th>4</th>\n      <th>5</th>\n      <th>6</th>\n      <th>7</th>\n      <th>8</th>\n      <th>9</th>\n      <th>...</th>\n      <th>32</th>\n      <th>33</th>\n      <th>34</th>\n      <th>35</th>\n      <th>36</th>\n      <th>37</th>\n      <th>38</th>\n      <th>39</th>\n      <th>40</th>\n      <th>41</th>\n    </tr>\n  </thead>\n  <tbody>\n    <tr>\n      <th>filename</th>\n      <td>100</td>\n      <td>100</td>\n      <td>100</td>\n      <td>100</td>\n      <td>100</td>\n      <td>100</td>\n      <td>100</td>\n      <td>100</td>\n      <td>100</td>\n      <td>100</td>\n      <td>...</td>\n      <td>100</td>\n      <td>100</td>\n      <td>100</td>\n      <td>100</td>\n      <td>100</td>\n      <td>100</td>\n      <td>100</td>\n      <td>100</td>\n      <td>100</td>\n      <td>100</td>\n    </tr>\n  </tbody>\n</table>\n<p>1 rows × 42 columns</p>\n</div>"
     },
     "metadata": {},
     "execution_count": 10
    }
   ],
   "source": [
    "small.groupby('category').count().T"
   ]
  },
  {
   "cell_type": "code",
   "execution_count": 15,
   "metadata": {},
   "outputs": [],
   "source": [
    "def copy(row):\n",
    "    source = 'train/train/{:02d}/{}'.format(row['category'], row['filename'])\n",
    "    destination = 'train_small/{:02d}/{}'.format(row['category'], row['filename'])\n",
    "    os.makedirs('train_small/{:02d}'.format(row['category']), exist_ok=True)\n",
    "    shutil.copy2(source, destination)"
   ]
  },
  {
   "cell_type": "code",
   "execution_count": 16,
   "metadata": {},
   "outputs": [],
   "source": [
    "copy(small.iloc[0])"
   ]
  },
  {
   "cell_type": "code",
   "execution_count": 17,
   "metadata": {},
   "outputs": [
    {
     "output_type": "execute_result",
     "data": {
      "text/plain": "0        None\n1        None\n2        None\n3        None\n4        None\n         ... \n24061    None\n24062    None\n24063    None\n24064    None\n24065    None\nLength: 24066, dtype: object"
     },
     "metadata": {},
     "execution_count": 17
    }
   ],
   "source": [
    "small.apply(copy, axis=1)"
   ]
  }
 ],
 "metadata": {
  "language_info": {
   "codemirror_mode": {
    "name": "ipython",
    "version": 3
   },
   "file_extension": ".py",
   "mimetype": "text/x-python",
   "name": "python",
   "nbconvert_exporter": "python",
   "pygments_lexer": "ipython3",
   "version": "3.7.7-final"
  },
  "orig_nbformat": 2,
  "kernelspec": {
   "name": "python3",
   "display_name": "Python 3"
  }
 },
 "nbformat": 4,
 "nbformat_minor": 2
}