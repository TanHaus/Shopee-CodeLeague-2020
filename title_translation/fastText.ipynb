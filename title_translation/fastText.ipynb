{
 "cells": [
  {
   "cell_type": "markdown",
   "metadata": {},
   "source": [
    "# Get word embeddings from training data\n",
    "\n",
    "- `sacremoses`: Moses tokenizer to tokenize English titles\n",
    "- `jieba`: Jieba tokenizer to tokenize Traditional Chinese titles\n",
    "- `fasttext`: Train word embeddings"
   ]
  },
  {
   "cell_type": "code",
   "execution_count": 10,
   "metadata": {},
   "outputs": [],
   "source": [
    "import io\n",
    "\n",
    "import pandas as pd\n",
    "from sacremoses import MosesTokenizer\n",
    "import jieba\n",
    "import fasttext\n",
    "import re"
   ]
  },
  {
   "cell_type": "markdown",
   "metadata": {},
   "source": [
    "## English training set\n",
    "\n",
    "Outline of the steps:\n",
    "- Load data into a dataframe `pd.DataFrame`\n",
    "- Use Moses tokenizer to tokenize each title into tokens, then combine them again `return_str=True`\n",
    "- Save these tokenized titles into a `.csv` file for `fasttext` to use later\n",
    "- Train English word embeddings with `fasttext`"
   ]
  },
  {
   "cell_type": "code",
   "execution_count": 2,
   "metadata": {},
   "outputs": [
    {
     "data": {
      "text/html": [
       "<div>\n",
       "<style scoped>\n",
       "    .dataframe tbody tr th:only-of-type {\n",
       "        vertical-align: middle;\n",
       "    }\n",
       "\n",
       "    .dataframe tbody tr th {\n",
       "        vertical-align: top;\n",
       "    }\n",
       "\n",
       "    .dataframe thead th {\n",
       "        text-align: right;\n",
       "    }\n",
       "</style>\n",
       "<table border=\"1\" class=\"dataframe\">\n",
       "  <thead>\n",
       "    <tr style=\"text-align: right;\">\n",
       "      <th></th>\n",
       "      <th>product_title</th>\n",
       "      <th>category</th>\n",
       "    </tr>\n",
       "  </thead>\n",
       "  <tbody>\n",
       "    <tr>\n",
       "      <th>0</th>\n",
       "      <td>Recollections Color Splash Clear Stamps &amp; Stencil</td>\n",
       "      <td>Hobbies &amp; Stationery</td>\n",
       "    </tr>\n",
       "    <tr>\n",
       "      <th>1</th>\n",
       "      <td>soap,lotion scrub set 400</td>\n",
       "      <td>Health &amp; Personal Care</td>\n",
       "    </tr>\n",
       "    <tr>\n",
       "      <th>2</th>\n",
       "      <td>Spigen Galaxy S10e Case Tough Armor Gunmetal</td>\n",
       "      <td>Mobile Accessories</td>\n",
       "    </tr>\n",
       "    <tr>\n",
       "      <th>3</th>\n",
       "      <td>Acrylic Lanalon Bright Red</td>\n",
       "      <td>Hobbies &amp; Stationery</td>\n",
       "    </tr>\n",
       "    <tr>\n",
       "      <th>4</th>\n",
       "      <td>303 FLAT SHEET/Blanket 100% cotton</td>\n",
       "      <td>Home &amp; Living</td>\n",
       "    </tr>\n",
       "    <tr>\n",
       "      <th>...</th>\n",
       "      <td>...</td>\n",
       "      <td>...</td>\n",
       "    </tr>\n",
       "    <tr>\n",
       "      <th>499995</th>\n",
       "      <td>rocker arm roller racing mio</td>\n",
       "      <td>Motors</td>\n",
       "    </tr>\n",
       "    <tr>\n",
       "      <th>499996</th>\n",
       "      <td>Secosana (preloved bag)</td>\n",
       "      <td>Women's Bags</td>\n",
       "    </tr>\n",
       "    <tr>\n",
       "      <th>499997</th>\n",
       "      <td>jag bag</td>\n",
       "      <td>Women's Bags</td>\n",
       "    </tr>\n",
       "    <tr>\n",
       "      <th>499998</th>\n",
       "      <td>Baby wipes 15 sheets (Alcohol and Paraben Free...</td>\n",
       "      <td>Babies &amp; Kids</td>\n",
       "    </tr>\n",
       "    <tr>\n",
       "      <th>499999</th>\n",
       "      <td>PRE-LOVED ORIGINAL GREEN FINO BAG</td>\n",
       "      <td>Women's Bags</td>\n",
       "    </tr>\n",
       "  </tbody>\n",
       "</table>\n",
       "<p>500000 rows × 2 columns</p>\n",
       "</div>"
      ],
      "text/plain": [
       "                                            product_title  \\\n",
       "0       Recollections Color Splash Clear Stamps & Stencil   \n",
       "1                               soap,lotion scrub set 400   \n",
       "2            Spigen Galaxy S10e Case Tough Armor Gunmetal   \n",
       "3                              Acrylic Lanalon Bright Red   \n",
       "4                      303 FLAT SHEET/Blanket 100% cotton   \n",
       "...                                                   ...   \n",
       "499995                       rocker arm roller racing mio   \n",
       "499996                            Secosana (preloved bag)   \n",
       "499997                                            jag bag   \n",
       "499998  Baby wipes 15 sheets (Alcohol and Paraben Free...   \n",
       "499999                  PRE-LOVED ORIGINAL GREEN FINO BAG   \n",
       "\n",
       "                      category  \n",
       "0         Hobbies & Stationery  \n",
       "1       Health & Personal Care  \n",
       "2           Mobile Accessories  \n",
       "3         Hobbies & Stationery  \n",
       "4                Home & Living  \n",
       "...                        ...  \n",
       "499995                  Motors  \n",
       "499996            Women's Bags  \n",
       "499997            Women's Bags  \n",
       "499998           Babies & Kids  \n",
       "499999            Women's Bags  \n",
       "\n",
       "[500000 rows x 2 columns]"
      ]
     },
     "execution_count": 2,
     "metadata": {},
     "output_type": "execute_result"
    }
   ],
   "source": [
    "en_df = pd.read_csv('train_en.csv')\n",
    "en_df"
   ]
  },
  {
   "cell_type": "code",
   "execution_count": 5,
   "metadata": {},
   "outputs": [
    {
     "data": {
      "text/plain": [
       "0         Recollections Color Splash Clear Stamps &amp; ...\n",
       "1                               soap , lotion scrub set 400\n",
       "2              Spigen Galaxy S10e Case Tough Armor Gunmetal\n",
       "3                                Acrylic Lanalon Bright Red\n",
       "4                     303 FLAT SHEET / Blanket 100 % cotton\n",
       "                                ...                        \n",
       "499995                         rocker arm roller racing mio\n",
       "499996                            Secosana ( preloved bag )\n",
       "499997                                              jag bag\n",
       "499998    Baby wipes 15 sheets ( Alcohol and Paraben Fre...\n",
       "499999                    PRE-LOVED ORIGINAL GREEN FINO BAG\n",
       "Name: product_title, Length: 500000, dtype: object"
      ]
     },
     "execution_count": 5,
     "metadata": {},
     "output_type": "execute_result"
    }
   ],
   "source": [
    "mtk = MosesTokenizer()\n",
    "en_titles = en_df['product_title'].apply(mtk.tokenize, return_str=True)\n",
    "en_titles"
   ]
  },
  {
   "cell_type": "code",
   "execution_count": 6,
   "metadata": {},
   "outputs": [],
   "source": [
    "en_titles.to_csv('titles_en.csv', index=False, header=False)"
   ]
  },
  {
   "cell_type": "markdown",
   "metadata": {},
   "source": [
    "**NOTE**: `fasttext.train_unsupervised` does not accept Python list and will use white space tokenizer by default. Thus, after tokenizing the titles, we have to combine the tokens back, separated by white spaces\n",
    "- Using `dim=300` to generate embeddings of dimension 300"
   ]
  },
  {
   "cell_type": "code",
   "execution_count": null,
   "metadata": {},
   "outputs": [],
   "source": [
    "model_en = fasttext.train_unsupervised('titles_en.csv', dim=300)"
   ]
  },
  {
   "cell_type": "code",
   "execution_count": 6,
   "metadata": {},
   "outputs": [
    {
     "data": {
      "text/plain": [
       "['</s>', '/', '(', ')', 'for', ',', '-', 'with', 'and', '&amp;']"
      ]
     },
     "execution_count": 6,
     "metadata": {},
     "output_type": "execute_result"
    }
   ],
   "source": [
    "model_en.words[:10]"
   ]
  },
  {
   "cell_type": "code",
   "execution_count": 7,
   "metadata": {},
   "outputs": [],
   "source": [
    "model_en.save_model(\"en_vect.bin\")"
   ]
  },
  {
   "cell_type": "markdown",
   "metadata": {},
   "source": [
    "## Traditional Chinese training set\n",
    "\n",
    "Repeat the same steps as the English dataset. Use `jieba` instead"
   ]
  },
  {
   "cell_type": "code",
   "execution_count": 3,
   "metadata": {},
   "outputs": [
    {
     "data": {
      "text/html": [
       "<div>\n",
       "<style scoped>\n",
       "    .dataframe tbody tr th:only-of-type {\n",
       "        vertical-align: middle;\n",
       "    }\n",
       "\n",
       "    .dataframe tbody tr th {\n",
       "        vertical-align: top;\n",
       "    }\n",
       "\n",
       "    .dataframe thead th {\n",
       "        text-align: right;\n",
       "    }\n",
       "</style>\n",
       "<table border=\"1\" class=\"dataframe\">\n",
       "  <thead>\n",
       "    <tr style=\"text-align: right;\">\n",
       "      <th></th>\n",
       "      <th>product_title</th>\n",
       "      <th>category</th>\n",
       "    </tr>\n",
       "  </thead>\n",
       "  <tbody>\n",
       "    <tr>\n",
       "      <th>0</th>\n",
       "      <td>Gucci Gucci Guilty Pour Femme Stud Edition 罪愛女...</td>\n",
       "      <td>Health &amp; Beauty</td>\n",
       "    </tr>\n",
       "    <tr>\n",
       "      <th>1</th>\n",
       "      <td>（二手）PS4 GTA 5 俠盜獵車手5 Grand Theif Auto V繁體 中文版</td>\n",
       "      <td>Game Kingdom</td>\n",
       "    </tr>\n",
       "    <tr>\n",
       "      <th>2</th>\n",
       "      <td>百獸卡</td>\n",
       "      <td>Life &amp; Entertainment</td>\n",
       "    </tr>\n",
       "    <tr>\n",
       "      <th>3</th>\n",
       "      <td>nac nac活氧全效柔衣素</td>\n",
       "      <td>Mother &amp; Baby</td>\n",
       "    </tr>\n",
       "    <tr>\n",
       "      <th>4</th>\n",
       "      <td>#Nike耐吉官方F.C. 男子足球長褲新款標準型 拒水 拉鏈褲腳\\nCD0557</td>\n",
       "      <td>Men's Apparel</td>\n",
       "    </tr>\n",
       "    <tr>\n",
       "      <th>...</th>\n",
       "      <td>...</td>\n",
       "      <td>...</td>\n",
       "    </tr>\n",
       "    <tr>\n",
       "      <th>499995</th>\n",
       "      <td>Dress</td>\n",
       "      <td>Women's Apparel</td>\n",
       "    </tr>\n",
       "    <tr>\n",
       "      <th>499996</th>\n",
       "      <td>Lilian Lin</td>\n",
       "      <td>Food &amp; Beverages</td>\n",
       "    </tr>\n",
       "    <tr>\n",
       "      <th>499997</th>\n",
       "      <td>77 抹茶杏仁乳加 77乳加 減甜 大人味 大人的77 宇治抹茶 杏仁 宇治抹茶杏仁 抹茶 ...</td>\n",
       "      <td>Food &amp; Beverages</td>\n",
       "    </tr>\n",
       "    <tr>\n",
       "      <th>499998</th>\n",
       "      <td>Panasonic 國際牌  電動 牙刷頭  (EW-DM81 專用刷頭) WEW0974-W</td>\n",
       "      <td>Home Electronic</td>\n",
       "    </tr>\n",
       "    <tr>\n",
       "      <th>499999</th>\n",
       "      <td>正品 新款紅眼 戰神哈奴曼手鐲 哈魯曼手環 戰神哈努曼 龍波雨水 新款紅眼 提升勇氣自信心 ...</td>\n",
       "      <td>Life &amp; Entertainment</td>\n",
       "    </tr>\n",
       "  </tbody>\n",
       "</table>\n",
       "<p>500000 rows × 2 columns</p>\n",
       "</div>"
      ],
      "text/plain": [
       "                                            product_title  \\\n",
       "0       Gucci Gucci Guilty Pour Femme Stud Edition 罪愛女...   \n",
       "1           （二手）PS4 GTA 5 俠盜獵車手5 Grand Theif Auto V繁體 中文版   \n",
       "2                                                     百獸卡   \n",
       "3                                          nac nac活氧全效柔衣素   \n",
       "4               #Nike耐吉官方F.C. 男子足球長褲新款標準型 拒水 拉鏈褲腳\\nCD0557   \n",
       "...                                                   ...   \n",
       "499995                                              Dress   \n",
       "499996                                         Lilian Lin   \n",
       "499997  77 抹茶杏仁乳加 77乳加 減甜 大人味 大人的77 宇治抹茶 杏仁 宇治抹茶杏仁 抹茶 ...   \n",
       "499998    Panasonic 國際牌  電動 牙刷頭  (EW-DM81 專用刷頭) WEW0974-W   \n",
       "499999  正品 新款紅眼 戰神哈奴曼手鐲 哈魯曼手環 戰神哈努曼 龍波雨水 新款紅眼 提升勇氣自信心 ...   \n",
       "\n",
       "                    category  \n",
       "0            Health & Beauty  \n",
       "1               Game Kingdom  \n",
       "2       Life & Entertainment  \n",
       "3              Mother & Baby  \n",
       "4              Men's Apparel  \n",
       "...                      ...  \n",
       "499995       Women's Apparel  \n",
       "499996      Food & Beverages  \n",
       "499997      Food & Beverages  \n",
       "499998       Home Electronic  \n",
       "499999  Life & Entertainment  \n",
       "\n",
       "[500000 rows x 2 columns]"
      ]
     },
     "execution_count": 3,
     "metadata": {},
     "output_type": "execute_result"
    }
   ],
   "source": [
    "tcn_df = pd.read_csv('train_tcn.csv')\n",
    "tcn_df"
   ]
  },
  {
   "cell_type": "markdown",
   "metadata": {},
   "source": [
    "There is an empty row in the dataset. This will throw an error in `jieba` code later, thus we have to remove it"
   ]
  },
  {
   "cell_type": "code",
   "execution_count": 4,
   "metadata": {},
   "outputs": [
    {
     "data": {
      "text/html": [
       "<div>\n",
       "<style scoped>\n",
       "    .dataframe tbody tr th:only-of-type {\n",
       "        vertical-align: middle;\n",
       "    }\n",
       "\n",
       "    .dataframe tbody tr th {\n",
       "        vertical-align: top;\n",
       "    }\n",
       "\n",
       "    .dataframe thead th {\n",
       "        text-align: right;\n",
       "    }\n",
       "</style>\n",
       "<table border=\"1\" class=\"dataframe\">\n",
       "  <thead>\n",
       "    <tr style=\"text-align: right;\">\n",
       "      <th></th>\n",
       "      <th>product_title</th>\n",
       "      <th>category</th>\n",
       "    </tr>\n",
       "  </thead>\n",
       "  <tbody>\n",
       "    <tr>\n",
       "      <th>0</th>\n",
       "      <td>Gucci Gucci Guilty Pour Femme Stud Edition 罪愛女...</td>\n",
       "      <td>Health &amp; Beauty</td>\n",
       "    </tr>\n",
       "    <tr>\n",
       "      <th>1</th>\n",
       "      <td>（二手）PS4 GTA 5 俠盜獵車手5 Grand Theif Auto V繁體 中文版</td>\n",
       "      <td>Game Kingdom</td>\n",
       "    </tr>\n",
       "    <tr>\n",
       "      <th>2</th>\n",
       "      <td>百獸卡</td>\n",
       "      <td>Life &amp; Entertainment</td>\n",
       "    </tr>\n",
       "    <tr>\n",
       "      <th>3</th>\n",
       "      <td>nac nac活氧全效柔衣素</td>\n",
       "      <td>Mother &amp; Baby</td>\n",
       "    </tr>\n",
       "    <tr>\n",
       "      <th>4</th>\n",
       "      <td>#Nike耐吉官方F.C. 男子足球長褲新款標準型 拒水 拉鏈褲腳\\nCD0557</td>\n",
       "      <td>Men's Apparel</td>\n",
       "    </tr>\n",
       "    <tr>\n",
       "      <th>...</th>\n",
       "      <td>...</td>\n",
       "      <td>...</td>\n",
       "    </tr>\n",
       "    <tr>\n",
       "      <th>499994</th>\n",
       "      <td>Dress</td>\n",
       "      <td>Women's Apparel</td>\n",
       "    </tr>\n",
       "    <tr>\n",
       "      <th>499995</th>\n",
       "      <td>Lilian Lin</td>\n",
       "      <td>Food &amp; Beverages</td>\n",
       "    </tr>\n",
       "    <tr>\n",
       "      <th>499996</th>\n",
       "      <td>77 抹茶杏仁乳加 77乳加 減甜 大人味 大人的77 宇治抹茶 杏仁 宇治抹茶杏仁 抹茶 ...</td>\n",
       "      <td>Food &amp; Beverages</td>\n",
       "    </tr>\n",
       "    <tr>\n",
       "      <th>499997</th>\n",
       "      <td>Panasonic 國際牌  電動 牙刷頭  (EW-DM81 專用刷頭) WEW0974-W</td>\n",
       "      <td>Home Electronic</td>\n",
       "    </tr>\n",
       "    <tr>\n",
       "      <th>499998</th>\n",
       "      <td>正品 新款紅眼 戰神哈奴曼手鐲 哈魯曼手環 戰神哈努曼 龍波雨水 新款紅眼 提升勇氣自信心 ...</td>\n",
       "      <td>Life &amp; Entertainment</td>\n",
       "    </tr>\n",
       "  </tbody>\n",
       "</table>\n",
       "<p>499999 rows × 2 columns</p>\n",
       "</div>"
      ],
      "text/plain": [
       "                                            product_title  \\\n",
       "0       Gucci Gucci Guilty Pour Femme Stud Edition 罪愛女...   \n",
       "1           （二手）PS4 GTA 5 俠盜獵車手5 Grand Theif Auto V繁體 中文版   \n",
       "2                                                     百獸卡   \n",
       "3                                          nac nac活氧全效柔衣素   \n",
       "4               #Nike耐吉官方F.C. 男子足球長褲新款標準型 拒水 拉鏈褲腳\\nCD0557   \n",
       "...                                                   ...   \n",
       "499994                                              Dress   \n",
       "499995                                         Lilian Lin   \n",
       "499996  77 抹茶杏仁乳加 77乳加 減甜 大人味 大人的77 宇治抹茶 杏仁 宇治抹茶杏仁 抹茶 ...   \n",
       "499997    Panasonic 國際牌  電動 牙刷頭  (EW-DM81 專用刷頭) WEW0974-W   \n",
       "499998  正品 新款紅眼 戰神哈奴曼手鐲 哈魯曼手環 戰神哈努曼 龍波雨水 新款紅眼 提升勇氣自信心 ...   \n",
       "\n",
       "                    category  \n",
       "0            Health & Beauty  \n",
       "1               Game Kingdom  \n",
       "2       Life & Entertainment  \n",
       "3              Mother & Baby  \n",
       "4              Men's Apparel  \n",
       "...                      ...  \n",
       "499994       Women's Apparel  \n",
       "499995      Food & Beverages  \n",
       "499996      Food & Beverages  \n",
       "499997       Home Electronic  \n",
       "499998  Life & Entertainment  \n",
       "\n",
       "[499999 rows x 2 columns]"
      ]
     },
     "execution_count": 4,
     "metadata": {},
     "output_type": "execute_result"
    }
   ],
   "source": [
    "tcn_df = tcn_df.dropna(subset=['product_title']).reset_index(drop=True)\n",
    "tcn_df"
   ]
  },
  {
   "cell_type": "code",
   "execution_count": 5,
   "metadata": {},
   "outputs": [
    {
     "name": "stderr",
     "output_type": "stream",
     "text": [
      "Building prefix dict from the default dictionary ...\n",
      "Dumping model to file cache C:\\Users\\Luca\\AppData\\Local\\Temp\\jieba.cache\n",
      "Loading model cost 1.488 seconds.\n",
      "Prefix dict has been built successfully.\n"
     ]
    },
    {
     "data": {
      "text/plain": [
       "0         [Gucci, ,  , , Gucci, ,  , , Guilty, ,  , , Po...\n",
       "1         [（, 二手, ）, PS4, ,  , , GTA, ,  , , 5, ,  , , 俠...\n",
       "2                                                 [百, 獸, 卡]\n",
       "3                    [nac, ,  , , nac, 活, 氧, 全, 效, 柔, 衣, 素]\n",
       "4         [#, Nike, 耐, 吉, 官方, F, ., C, ., ,  , , 男子, 足球,...\n",
       "                                ...                        \n",
       "499994                                              [Dress]\n",
       "499995                                 [Lilian, ,  , , Lin]\n",
       "499996    [77, ,  , , 抹, 茶, 杏仁, 乳, 加, ,  , , 77, 乳, 加, ,...\n",
       "499997    [Panasonic, ,  , , 國, 際, 牌, ,  , ,  , , 電, 動, ...\n",
       "499998    [正品, ,  , , 新款, 紅, 眼, ,  , , 戰, 神, 哈, 奴, 曼, 手,...\n",
       "Name: product_title, Length: 499999, dtype: object"
      ]
     },
     "execution_count": 5,
     "metadata": {},
     "output_type": "execute_result"
    }
   ],
   "source": [
    "tcn_titles = tcn_df['product_title'].apply(jieba.lcut, cut_all=True)\n",
    "tcn_titles"
   ]
  },
  {
   "cell_type": "code",
   "execution_count": 7,
   "metadata": {},
   "outputs": [
    {
     "data": {
      "text/plain": [
       "['Gucci',\n",
       " 'Gucci',\n",
       " 'Guilty',\n",
       " 'Pour',\n",
       " 'Femme',\n",
       " 'Stud',\n",
       " 'Edition',\n",
       " '罪愛女性淡香水限量版',\n",
       " '50ml',\n",
       " 'T']"
      ]
     },
     "execution_count": 7,
     "metadata": {},
     "output_type": "execute_result"
    }
   ],
   "source": [
    "tcn_df.product_title[0].split(' ')"
   ]
  },
  {
   "cell_type": "code",
   "execution_count": 9,
   "metadata": {},
   "outputs": [
    {
     "data": {
      "text/plain": [
       "0         Gucci     Gucci     Guilty     Pour     Femme ...\n",
       "1         （ 二手 ） PS4     GTA     5     俠 盜 獵 車 手 5     G...\n",
       "2                                                     百 獸 卡\n",
       "3                                 nac     nac 活 氧 全 效 柔 衣 素\n",
       "4         # Nike 耐 吉 官方 F . C .     男子 足球 長 褲 新款 標 準 型  ...\n",
       "                                ...                        \n",
       "499994                                                Dress\n",
       "499995                                       Lilian     Lin\n",
       "499996    77     抹 茶 杏仁 乳 加     77 乳 加     減 甜     大人 人味...\n",
       "499997    Panasonic     國 際 牌        電 動     牙刷 頭       ...\n",
       "499998    正品     新款 紅 眼     戰 神 哈 奴 曼 手 鐲     哈 魯 曼 手 環 ...\n",
       "Name: product_title, Length: 499999, dtype: object"
      ]
     },
     "execution_count": 9,
     "metadata": {},
     "output_type": "execute_result"
    }
   ],
   "source": [
    "tcn_titles = tcn_titles.str.join(\" \")\n",
    "tcn_titles"
   ]
  },
  {
   "cell_type": "code",
   "execution_count": 12,
   "metadata": {},
   "outputs": [],
   "source": [
    "tcn_titles.to_csv('titles_tcn.csv', index=False, header=False)"
   ]
  },
  {
   "cell_type": "markdown",
   "metadata": {},
   "source": [
    "- Use `minn=1` because each Chinese character is a word, so this will capture each Chinese character in a word also."
   ]
  },
  {
   "cell_type": "code",
   "execution_count": 13,
   "metadata": {},
   "outputs": [],
   "source": [
    "model_tcn = fasttext.train_unsupervised('titles_tcn.csv', minn=1, dim=300)"
   ]
  },
  {
   "cell_type": "code",
   "execution_count": 14,
   "metadata": {},
   "outputs": [
    {
     "data": {
      "text/plain": [
       "['</s>', '-', '/', '【', '】', '貨', '包', '現', '裝', '機']"
      ]
     },
     "execution_count": 14,
     "metadata": {},
     "output_type": "execute_result"
    }
   ],
   "source": [
    "model_tcn.words[:10]"
   ]
  },
  {
   "cell_type": "code",
   "execution_count": 15,
   "metadata": {},
   "outputs": [],
   "source": [
    "model_tcn.save_model('tcn_vect.bin')"
   ]
  },
  {
   "cell_type": "markdown",
   "metadata": {},
   "source": [
    "## Check the result\n",
    "\n",
    "Take the 100th words from the Traditional Chinese model and print out its word embedding (a vector)"
   ]
  },
  {
   "cell_type": "code",
   "execution_count": 16,
   "metadata": {},
   "outputs": [
    {
     "name": "stdout",
     "output_type": "stream",
     "text": [
      "日本\n"
     ]
    },
    {
     "data": {
      "text/plain": [
       "array([-1.21177849e-03, -1.51913933e-04,  1.02480676e-03, -2.42322967e-05,\n",
       "        1.14398473e-03,  7.73033767e-04, -7.90226215e-04,  5.68792282e-04,\n",
       "       -1.62327942e-03,  2.55770661e-04, -1.32358936e-03, -2.42995244e-04,\n",
       "       -3.88128217e-04,  1.44166313e-03, -3.36985744e-04,  3.68652138e-04,\n",
       "        7.94189051e-04, -1.95515552e-03, -8.36003092e-05, -1.36525184e-03,\n",
       "       -2.94883903e-05, -1.96821988e-03,  8.68611911e-04,  6.25004875e-04,\n",
       "        3.23192595e-04, -4.75835608e-04, -7.70022743e-04,  1.42968562e-03,\n",
       "       -5.34988241e-04,  2.60288798e-04,  3.45395500e-04,  9.54298303e-04,\n",
       "       -1.35630253e-03,  1.83041993e-04, -3.43519700e-04, -2.60008895e-03,\n",
       "        6.09521230e-04,  1.64041948e-03, -8.18782020e-04,  9.43286344e-04,\n",
       "       -1.38947857e-03,  1.31055294e-03,  6.47053123e-04, -1.08342734e-03,\n",
       "       -1.67794060e-03,  9.05688386e-04, -1.62743781e-05,  2.08744430e-03,\n",
       "       -1.07317080e-03,  4.62193595e-04,  6.84143219e-04, -2.45806994e-03,\n",
       "        1.04830181e-03,  1.12377910e-03,  5.84519934e-04, -1.36348128e-03,\n",
       "        1.74616813e-04, -1.20655436e-03, -9.83465696e-04,  7.77315814e-04,\n",
       "        3.94502713e-04, -1.13422680e-03,  4.42202901e-04,  6.95655006e-04,\n",
       "        4.76144662e-04, -5.40304871e-04,  3.45267690e-05,  1.50374393e-03,\n",
       "       -1.69219886e-04,  1.01110479e-03, -1.43025885e-04,  2.64728675e-04,\n",
       "        1.46818813e-03,  5.40650391e-04,  5.65753144e-04,  3.03232810e-04,\n",
       "        1.28344283e-03, -1.69087347e-04,  2.33458728e-03,  5.38279302e-04,\n",
       "        1.22237136e-03, -1.76242366e-03,  9.37522971e-04, -2.15473655e-03,\n",
       "        1.06741337e-03, -1.03576703e-03,  9.58784658e-04,  3.73672636e-04,\n",
       "        3.42395506e-05,  3.97771539e-04, -3.77719407e-05, -6.38940372e-04,\n",
       "        4.33617824e-04,  1.16368465e-03, -4.91280167e-04,  8.83892877e-04,\n",
       "       -1.77288428e-04, -8.07856210e-04, -2.08254531e-03, -2.73226271e-03,\n",
       "       -1.06213870e-03,  9.34039359e-04,  9.17029916e-04,  6.93497481e-04,\n",
       "        1.27714535e-03, -3.35053017e-04,  7.32797998e-05, -7.33755413e-04,\n",
       "       -1.48967316e-03,  1.14992482e-03,  5.06789424e-04, -8.05155374e-04,\n",
       "        1.96220353e-04, -9.29880887e-04,  9.24670545e-04,  7.07349624e-04,\n",
       "       -4.99166490e-04, -1.26246567e-04, -2.72851757e-04,  1.68831029e-03,\n",
       "        4.91741055e-04,  1.22437137e-04,  1.65019813e-03,  4.17570525e-04,\n",
       "       -2.81680550e-04,  1.50095392e-03,  3.37853038e-04, -9.62138758e-04,\n",
       "        7.96294247e-04,  7.67913996e-04,  2.80789012e-04,  4.20831377e-04,\n",
       "       -8.89165560e-04,  3.93368769e-04, -1.70849450e-03, -6.01451844e-04,\n",
       "        1.03840465e-03,  1.47182716e-03, -2.35060463e-03,  1.16509094e-03,\n",
       "       -1.45172037e-03, -2.05712439e-03, -2.09519669e-04, -2.84756476e-04,\n",
       "       -1.99720263e-03,  1.32454070e-03,  2.29243957e-03, -9.58484481e-04,\n",
       "       -1.32946856e-03, -5.43651870e-04,  2.17882195e-03,  8.10602389e-04,\n",
       "        4.90549486e-04,  4.40957192e-05, -9.47079156e-04,  8.05983655e-05,\n",
       "       -1.29282253e-03, -8.87848088e-04, -2.15822388e-03, -1.18460550e-04,\n",
       "        7.34251458e-04,  1.10774243e-03,  4.63695556e-04, -4.23724181e-04,\n",
       "        5.78081526e-04, -2.69475626e-04,  2.09458158e-04, -2.15423037e-03,\n",
       "        9.01467516e-04, -1.21748750e-03, -1.16860634e-03, -1.54517288e-03,\n",
       "        7.01642479e-04,  8.14016152e-04,  6.01048057e-04, -8.37967731e-04,\n",
       "        2.91264791e-04, -6.46894448e-04, -9.27786732e-06,  2.16439925e-03,\n",
       "       -1.29365723e-03,  1.46271638e-03,  5.64308604e-04,  8.55442311e-04,\n",
       "       -2.47065764e-04, -8.69880663e-04, -2.82192304e-05,  2.45221367e-04,\n",
       "        8.00363894e-04, -1.12086290e-03,  2.22466188e-04,  1.38446433e-03,\n",
       "       -1.22957048e-03,  8.54509301e-04,  1.08877104e-03, -2.25378829e-03,\n",
       "       -5.44262293e-04, -1.52254279e-03,  1.75153458e-04, -3.03357840e-04,\n",
       "        1.78210088e-03,  1.33687351e-03,  1.40267494e-03,  8.54030135e-04,\n",
       "        6.12309377e-04, -1.15121878e-03, -5.88734169e-04, -3.13315948e-04,\n",
       "       -1.32314092e-03,  1.06937799e-03,  2.39021669e-04, -1.05401548e-03,\n",
       "        1.23187085e-03,  1.75710139e-03,  1.72813819e-03, -1.56602473e-04,\n",
       "        9.86796920e-04, -6.46238565e-04,  4.02630074e-04,  5.25053765e-04,\n",
       "        1.07538700e-03,  5.12044993e-04,  1.39415450e-03, -2.59867311e-03,\n",
       "        1.25729060e-03, -6.74363167e-04,  1.58087513e-03,  7.26860017e-04,\n",
       "       -1.23276620e-03,  1.78800081e-03,  1.91506033e-03, -5.58441207e-05,\n",
       "        2.19392427e-03,  1.12986402e-03,  4.36219387e-04,  6.84830244e-04,\n",
       "       -8.50856712e-04,  7.36613991e-04,  1.39409298e-04,  4.80040646e-04,\n",
       "        5.58007509e-04,  9.66900727e-04, -1.70072669e-03,  1.36647362e-03,\n",
       "       -1.29288805e-04,  4.31774039e-04,  9.42869665e-05,  6.16902951e-04,\n",
       "        1.85886712e-03, -2.83162808e-04,  1.54366411e-04, -2.92290468e-04,\n",
       "        4.34732006e-04,  4.28631029e-04,  1.16039882e-03, -9.26025677e-04,\n",
       "       -7.19778473e-04, -5.63334615e-04,  4.29974840e-04, -1.12081056e-04,\n",
       "       -2.82971276e-04, -5.19431953e-04,  1.32980850e-03, -1.27099734e-03,\n",
       "        2.61455018e-04,  1.91404106e-04, -8.78936611e-04, -4.49892366e-04,\n",
       "       -2.13356383e-04,  6.09975250e-04,  5.45355259e-04, -3.43204563e-04,\n",
       "        2.16120319e-03,  1.86307868e-03, -2.30362100e-04,  1.05382397e-03,\n",
       "       -8.82962660e-04,  1.08831702e-03, -6.35678516e-05, -1.29024452e-03,\n",
       "        1.07117405e-03,  1.18931092e-03, -5.70218835e-04,  1.49526948e-03,\n",
       "       -8.51228018e-04, -6.46415632e-04,  1.41301088e-03, -4.39634983e-04,\n",
       "       -8.49949836e-04,  1.99213449e-04, -2.10428284e-03, -4.12158610e-04,\n",
       "       -8.47904128e-04, -4.45497863e-04, -1.14504690e-03,  7.85074837e-04,\n",
       "        1.62078149e-03, -1.48577243e-03, -1.09321717e-03, -4.12259804e-04],\n",
       "      dtype=float32)"
      ]
     },
     "execution_count": 16,
     "metadata": {},
     "output_type": "execute_result"
    }
   ],
   "source": [
    "test = model_tcn.words[100]\n",
    "print(test)\n",
    "model_en.get_word_vector(test)"
   ]
  },
  {
   "cell_type": "markdown",
   "metadata": {},
   "source": [
    "## Visualization with TensorFlow Projector\n",
    "\n",
    "Export the words and word embeddings to `.tsv` files for visualization in TensorFlow Projector (https://projector.tensorflow.org/)"
   ]
  },
  {
   "cell_type": "code",
   "execution_count": 17,
   "metadata": {},
   "outputs": [],
   "source": [
    "def export_to_tf_projector(model, name):\n",
    "    out_v = io.open('{}_vecs.tsv'.format(name), 'w', encoding='utf-8')\n",
    "    out_m = io.open('{}_meta.tsv'.format(name), 'w', encoding='utf-8')\n",
    "\n",
    "    for word in model.words:\n",
    "        vec = model.get_word_vector(word)\n",
    "        out_m.write(word + \"\\n\")\n",
    "        out_v.write('\\t'.join([str(x) for x in vec]) + \"\\n\")\n",
    "    \n",
    "    out_v.close()\n",
    "    out_m.close()"
   ]
  },
  {
   "cell_type": "code",
   "execution_count": 18,
   "metadata": {},
   "outputs": [],
   "source": [
    "export_to_tf_projector(model_en, 'en')\n",
    "export_to_tf_projector(model_tcn, 'tcn')"
   ]
  },
  {
   "cell_type": "code",
   "execution_count": 70,
   "metadata": {},
   "outputs": [
    {
     "ename": "ModuleNotFoundError",
     "evalue": "No module named 'emoji'",
     "output_type": "error",
     "traceback": [
      "\u001b[0;31m---------------------------------------------------------------------------\u001b[0m",
      "\u001b[0;31mModuleNotFoundError\u001b[0m                       Traceback (most recent call last)",
      "\u001b[0;32m<ipython-input-70-a96090d81629>\u001b[0m in \u001b[0;36m<module>\u001b[0;34m\u001b[0m\n\u001b[0;32m----> 1\u001b[0;31m \u001b[0;32mimport\u001b[0m \u001b[0memoji\u001b[0m\u001b[0;34m\u001b[0m\u001b[0;34m\u001b[0m\u001b[0m\n\u001b[0m",
      "\u001b[0;31mModuleNotFoundError\u001b[0m: No module named 'emoji'"
     ]
    }
   ],
   "source": [
    "import emoji"
   ]
  },
  {
   "cell_type": "code",
   "execution_count": 26,
   "metadata": {},
   "outputs": [
    {
     "data": {
      "text/plain": [
       "28230                ［ 客 訂 中 ］ 暖 心 艾 浴 包 11 包 ( 月子 擦澡 好 物 )\n",
       "176936    【 優 惠 多 】    北 歐 實 木 餐桌 輕 奢 家用 小 戶 型 長 方形 吃 飯 ...\n",
       "348766    懶 人 沙 發 小 戶 型 雙 人 臥 室 客 廳 沙 發 簡 易 布 藝 多功能 功能 可...\n",
       "313035    泰 國 佛 牌 聖 物 - 虎 頭 魯 士 立 尊 / 智慧     冥想     控 靈 ...\n",
       "481144    📣 此 商品 48 小 時 內 快速 出 貨 🚀 美 國 Greenies 新 健 綠 》 ...\n",
       "289644    2018 新 發 売     日立     8L     快速 乾 衣 除 濕 機     ...\n",
       "333498                          < 二手 > 皮 膚 測 試 奈 米 噴 霧 補 水器\n",
       "197837                                          緞 面 綁 帶 短 褲\n",
       "170633                           可 拆 式 衣 領 （ 蕾 絲 珠珠 優 雅 款 ）\n",
       "125279    ★ king 車 貼 ★\\ n 反光 三角 三角形 角形 貼 紙 安全 警示 貼 汽 車 貼...\n",
       "Name: product_title, dtype: object"
      ]
     },
     "execution_count": 26,
     "metadata": {},
     "output_type": "execute_result"
    }
   ],
   "source": [
    "tcn_titles.sample(10)"
   ]
  },
  {
   "cell_type": "markdown",
   "metadata": {},
   "source": [
    "- emojis\n",
    "- escape characters `\\n`\n",
    "- uppercase and lowercase\n",
    "- number is not important?\n",
    "- punctuations can be replaced? `/` can be replaced with space `' '`\n",
    "- remove all types of backets `() {} <> \"\" ''` (maybe replace with space first)\n",
    "- multiple spaces replaced with single space"
   ]
  },
  {
   "cell_type": "markdown",
   "metadata": {},
   "source": [
    "tokenize first, then remove characters\n",
    "- only retrain words (.isalpha())\n",
    "- remove emojis"
   ]
  },
  {
   "cell_type": "code",
   "execution_count": 124,
   "metadata": {},
   "outputs": [
    {
     "data": {
      "text/plain": [
       "False"
      ]
     },
     "execution_count": 124,
     "metadata": {},
     "output_type": "execute_result"
    }
   ],
   "source": [
    "'、'.isalpha()"
   ]
  },
  {
   "cell_type": "code",
   "execution_count": null,
   "metadata": {},
   "outputs": [],
   "source": [
    "def deEmojify(text):\n",
    "    regrex_pattern = re.compile(pattern = \"[\"\n",
    "        u\"\\U0001F600-\\U0001F64F\"  # emoticons\n",
    "        u\"\\U0001F300-\\U0001F5FF\"  # symbols & pictographs\n",
    "        u\"\\U0001F680-\\U0001F6FF\"  # transport & map symbols\n",
    "        u\"\\U0001F1E0-\\U0001F1FF\"  # flags (iOS)\n",
    "                           \"]+\", flags = re.UNICODE)\n",
    "    return regrex_pattern.sub(r'',text)\n",
    "\n",
    "def escape_ansi(line):\n",
    "    ansi_escape =re.compile(r'(\\x9B|\\x1B\\[)[0-?]*[ -\\/]*[@-~]')\n",
    "    return ansi_escape.sub('', line)\n",
    "\n",
    "# use text.replace('\\n', '') to remove \\n\n",
    "\n",
    "# use ' '.join(mystring.split()) to substitle multiple whitespaces with single whitespace"
   ]
  }
 ],
 "metadata": {
  "kernelspec": {
   "display_name": "Python 3",
   "language": "python",
   "name": "python3"
  },
  "language_info": {
   "codemirror_mode": {
    "name": "ipython",
    "version": 3
   },
   "file_extension": ".py",
   "mimetype": "text/x-python",
   "name": "python",
   "nbconvert_exporter": "python",
   "pygments_lexer": "ipython3",
   "version": "3.7.3"
  }
 },
 "nbformat": 4,
 "nbformat_minor": 4
}
