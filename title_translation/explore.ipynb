{
 "cells": [
  {
   "cell_type": "code",
   "execution_count": 1,
   "metadata": {},
   "outputs": [],
   "source": [
    "import pandas as pd"
   ]
  },
  {
   "cell_type": "code",
   "execution_count": 2,
   "metadata": {},
   "outputs": [
    {
     "output_type": "execute_result",
     "data": {
      "text/plain": "                                            product_title  \\\n0       Recollections Color Splash Clear Stamps & Stencil   \n1                               soap,lotion scrub set 400   \n2            Spigen Galaxy S10e Case Tough Armor Gunmetal   \n3                              Acrylic Lanalon Bright Red   \n4                      303 FLAT SHEET/Blanket 100% cotton   \n...                                                   ...   \n499995                       rocker arm roller racing mio   \n499996                            Secosana (preloved bag)   \n499997                                            jag bag   \n499998  Baby wipes 15 sheets (Alcohol and Paraben Free...   \n499999                  PRE-LOVED ORIGINAL GREEN FINO BAG   \n\n                      category  \n0         Hobbies & Stationery  \n1       Health & Personal Care  \n2           Mobile Accessories  \n3         Hobbies & Stationery  \n4                Home & Living  \n...                        ...  \n499995                  Motors  \n499996            Women's Bags  \n499997            Women's Bags  \n499998           Babies & Kids  \n499999            Women's Bags  \n\n[500000 rows x 2 columns]",
      "text/html": "<div>\n<style scoped>\n    .dataframe tbody tr th:only-of-type {\n        vertical-align: middle;\n    }\n\n    .dataframe tbody tr th {\n        vertical-align: top;\n    }\n\n    .dataframe thead th {\n        text-align: right;\n    }\n</style>\n<table border=\"1\" class=\"dataframe\">\n  <thead>\n    <tr style=\"text-align: right;\">\n      <th></th>\n      <th>product_title</th>\n      <th>category</th>\n    </tr>\n  </thead>\n  <tbody>\n    <tr>\n      <th>0</th>\n      <td>Recollections Color Splash Clear Stamps &amp; Stencil</td>\n      <td>Hobbies &amp; Stationery</td>\n    </tr>\n    <tr>\n      <th>1</th>\n      <td>soap,lotion scrub set 400</td>\n      <td>Health &amp; Personal Care</td>\n    </tr>\n    <tr>\n      <th>2</th>\n      <td>Spigen Galaxy S10e Case Tough Armor Gunmetal</td>\n      <td>Mobile Accessories</td>\n    </tr>\n    <tr>\n      <th>3</th>\n      <td>Acrylic Lanalon Bright Red</td>\n      <td>Hobbies &amp; Stationery</td>\n    </tr>\n    <tr>\n      <th>4</th>\n      <td>303 FLAT SHEET/Blanket 100% cotton</td>\n      <td>Home &amp; Living</td>\n    </tr>\n    <tr>\n      <th>...</th>\n      <td>...</td>\n      <td>...</td>\n    </tr>\n    <tr>\n      <th>499995</th>\n      <td>rocker arm roller racing mio</td>\n      <td>Motors</td>\n    </tr>\n    <tr>\n      <th>499996</th>\n      <td>Secosana (preloved bag)</td>\n      <td>Women's Bags</td>\n    </tr>\n    <tr>\n      <th>499997</th>\n      <td>jag bag</td>\n      <td>Women's Bags</td>\n    </tr>\n    <tr>\n      <th>499998</th>\n      <td>Baby wipes 15 sheets (Alcohol and Paraben Free...</td>\n      <td>Babies &amp; Kids</td>\n    </tr>\n    <tr>\n      <th>499999</th>\n      <td>PRE-LOVED ORIGINAL GREEN FINO BAG</td>\n      <td>Women's Bags</td>\n    </tr>\n  </tbody>\n</table>\n<p>500000 rows × 2 columns</p>\n</div>"
     },
     "metadata": {},
     "execution_count": 2
    }
   ],
   "source": [
    "df_en = pd.read_csv('train_en.csv')\n",
    "df_en"
   ]
  },
  {
   "cell_type": "code",
   "execution_count": 3,
   "metadata": {},
   "outputs": [
    {
     "output_type": "execute_result",
     "data": {
      "text/plain": "                                            product_title  \\\n0       Gucci Gucci Guilty Pour Femme Stud Edition 罪愛女...   \n1           （二手）PS4 GTA 5 俠盜獵車手5 Grand Theif Auto V繁體 中文版   \n2                                                     百獸卡   \n3                                          nac nac活氧全效柔衣素   \n4               #Nike耐吉官方F.C. 男子足球長褲新款標準型 拒水 拉鏈褲腳\\nCD0557   \n...                                                   ...   \n499995                                              Dress   \n499996                                         Lilian Lin   \n499997  77 抹茶杏仁乳加 77乳加 減甜 大人味 大人的77 宇治抹茶 杏仁 宇治抹茶杏仁 抹茶 ...   \n499998    Panasonic 國際牌  電動 牙刷頭  (EW-DM81 專用刷頭) WEW0974-W   \n499999  正品 新款紅眼 戰神哈奴曼手鐲 哈魯曼手環 戰神哈努曼 龍波雨水 新款紅眼 提升勇氣自信心 ...   \n\n                    category  \n0            Health & Beauty  \n1               Game Kingdom  \n2       Life & Entertainment  \n3              Mother & Baby  \n4              Men's Apparel  \n...                      ...  \n499995       Women's Apparel  \n499996      Food & Beverages  \n499997      Food & Beverages  \n499998       Home Electronic  \n499999  Life & Entertainment  \n\n[500000 rows x 2 columns]",
      "text/html": "<div>\n<style scoped>\n    .dataframe tbody tr th:only-of-type {\n        vertical-align: middle;\n    }\n\n    .dataframe tbody tr th {\n        vertical-align: top;\n    }\n\n    .dataframe thead th {\n        text-align: right;\n    }\n</style>\n<table border=\"1\" class=\"dataframe\">\n  <thead>\n    <tr style=\"text-align: right;\">\n      <th></th>\n      <th>product_title</th>\n      <th>category</th>\n    </tr>\n  </thead>\n  <tbody>\n    <tr>\n      <th>0</th>\n      <td>Gucci Gucci Guilty Pour Femme Stud Edition 罪愛女...</td>\n      <td>Health &amp; Beauty</td>\n    </tr>\n    <tr>\n      <th>1</th>\n      <td>（二手）PS4 GTA 5 俠盜獵車手5 Grand Theif Auto V繁體 中文版</td>\n      <td>Game Kingdom</td>\n    </tr>\n    <tr>\n      <th>2</th>\n      <td>百獸卡</td>\n      <td>Life &amp; Entertainment</td>\n    </tr>\n    <tr>\n      <th>3</th>\n      <td>nac nac活氧全效柔衣素</td>\n      <td>Mother &amp; Baby</td>\n    </tr>\n    <tr>\n      <th>4</th>\n      <td>#Nike耐吉官方F.C. 男子足球長褲新款標準型 拒水 拉鏈褲腳\\nCD0557</td>\n      <td>Men's Apparel</td>\n    </tr>\n    <tr>\n      <th>...</th>\n      <td>...</td>\n      <td>...</td>\n    </tr>\n    <tr>\n      <th>499995</th>\n      <td>Dress</td>\n      <td>Women's Apparel</td>\n    </tr>\n    <tr>\n      <th>499996</th>\n      <td>Lilian Lin</td>\n      <td>Food &amp; Beverages</td>\n    </tr>\n    <tr>\n      <th>499997</th>\n      <td>77 抹茶杏仁乳加 77乳加 減甜 大人味 大人的77 宇治抹茶 杏仁 宇治抹茶杏仁 抹茶 ...</td>\n      <td>Food &amp; Beverages</td>\n    </tr>\n    <tr>\n      <th>499998</th>\n      <td>Panasonic 國際牌  電動 牙刷頭  (EW-DM81 專用刷頭) WEW0974-W</td>\n      <td>Home Electronic</td>\n    </tr>\n    <tr>\n      <th>499999</th>\n      <td>正品 新款紅眼 戰神哈奴曼手鐲 哈魯曼手環 戰神哈努曼 龍波雨水 新款紅眼 提升勇氣自信心 ...</td>\n      <td>Life &amp; Entertainment</td>\n    </tr>\n  </tbody>\n</table>\n<p>500000 rows × 2 columns</p>\n</div>"
     },
     "metadata": {},
     "execution_count": 3
    }
   ],
   "source": [
    "df_tcn = pd.read_csv('train_tcn.csv')\n",
    "df_tcn"
   ]
  },
  {
   "cell_type": "code",
   "execution_count": 4,
   "metadata": {},
   "outputs": [
    {
     "output_type": "execute_result",
     "data": {
      "text/plain": "array(['Hobbies & Stationery', 'Health & Personal Care',\n       'Mobile Accessories', 'Home & Living', \"Women's Apparel\",\n       'Women Shoes', 'Babies & Kids', 'Women Accessories',\n       'Toys, Games & Collectibles', 'Groceries', 'Motors',\n       'Makeup & Fragrances', \"Women's Bags\", \"Men's Apparel\", 'Pet Care',\n       \"Men's Bags & Accessories\", 'Sports & Travel', 'Men Shoes',\n       'Gaming', 'Laptops & Computers', 'Home Entertainment',\n       'Mobiles & Gadgets', 'Cameras', 'Home Appliances',\n       'Consumer Electronics', ' Games & Collectibles\"',\n       'Digital Goods & Vouchers'], dtype=object)"
     },
     "metadata": {},
     "execution_count": 4
    }
   ],
   "source": [
    "df_en.category.unique()"
   ]
  },
  {
   "cell_type": "code",
   "execution_count": 5,
   "metadata": {},
   "outputs": [
    {
     "output_type": "execute_result",
     "data": {
      "text/plain": "array(['Health & Beauty', 'Game Kingdom', 'Life & Entertainment',\n       'Mother & Baby', \"Men's Apparel\", \"Women's Apparel\", 'Women Bags',\n       'Women Shoes', 'Home & Living', 'Everything Else', 'Hardware & 3C',\n       \"Men's Bags& Accessories\", 'Sports & Outdoors', 'Helpbuy',\n       'Men Shoes', 'Books', 'Motors', 'Home Electronic',\n       'Food & Beverages', 'Mobile & Gadgets', 'Women Accessories',\n       'Pets', 'Tickets & Services', nan], dtype=object)"
     },
     "metadata": {},
     "execution_count": 5
    }
   ],
   "source": [
    "df_tcn.category.unique()"
   ]
  },
  {
   "cell_type": "code",
   "execution_count": null,
   "metadata": {},
   "outputs": [],
   "source": []
  }
 ],
 "metadata": {
  "language_info": {
   "codemirror_mode": {
    "name": "ipython",
    "version": 3
   },
   "file_extension": ".py",
   "mimetype": "text/x-python",
   "name": "python",
   "nbconvert_exporter": "python",
   "pygments_lexer": "ipython3",
   "version": "3.7.7-final"
  },
  "orig_nbformat": 2,
  "kernelspec": {
   "name": "python3",
   "display_name": "Python 3"
  }
 },
 "nbformat": 4,
 "nbformat_minor": 2
}